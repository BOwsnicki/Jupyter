{
 "cells": [
  {
   "cell_type": "code",
   "execution_count": 35,
   "metadata": {},
   "outputs": [
    {
     "name": "stdout",
     "output_type": "stream",
     "text": [
      "Alice sends 4\n",
      "Bob sends 15\n",
      "Alice knows 2\n",
      "Bob knows 2\n"
     ]
    }
   ],
   "source": [
    "import random\n",
    "from Modular import fastExpMod\n",
    "\n",
    "# Alice and Bob publicly agree to use numbers p = 23 and g = 5.\n",
    "p = 23\n",
    "g = 5\n",
    "\n",
    "# Alice: chooses secret integer a, sends Bob A = g^a mod p\n",
    "a = random.randrange(3,100)\n",
    "A = fastExpMod(g,a,p)\n",
    "print('Alice sends',A)\n",
    "\n",
    "# Bob: chooses secret integer b, sends Alice B = g^b mod p\n",
    "b = random.randrange(3,100)\n",
    "B = fastExpMod(g,b,p)\n",
    "print('Bob sends',B)\n",
    "\n",
    "# Alice: computes s = B^a mod p\n",
    "sAlice = fastExpMod(B,a,p)\n",
    "print('Alice knows',sAlice)\n",
    "\n",
    "# Bob: computes s = A^b mod p\n",
    "sBob = fastExpMod(A,b,p)\n",
    "print('Bob knows',sBob)"
   ]
  },
  {
   "cell_type": "code",
   "execution_count": null,
   "metadata": {},
   "outputs": [],
   "source": []
  }
 ],
 "metadata": {
  "kernelspec": {
   "display_name": "Python 3",
   "language": "python",
   "name": "python3"
  },
  "language_info": {
   "codemirror_mode": {
    "name": "ipython",
    "version": 3
   },
   "file_extension": ".py",
   "mimetype": "text/x-python",
   "name": "python",
   "nbconvert_exporter": "python",
   "pygments_lexer": "ipython3",
   "version": "3.7.3"
  }
 },
 "nbformat": 4,
 "nbformat_minor": 2
}
