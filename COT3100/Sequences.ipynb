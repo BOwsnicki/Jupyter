{
 "cells": [
  {
   "cell_type": "code",
   "execution_count": 1,
   "id": "6eba20aa",
   "metadata": {},
   "outputs": [
    {
     "data": {
      "text/html": [
       "<style>\n",
       "p,li, h1, h2, h3, h4, h5 {\n",
       "\tfont-family: \"Times New Roman\", Times, serif;\n",
       "}\n",
       "</style>"
      ],
      "text/plain": [
       "<IPython.core.display.HTML object>"
      ]
     },
     "execution_count": 1,
     "metadata": {},
     "output_type": "execute_result"
    }
   ],
   "source": [
    "# Styling notebook\n",
    "from IPython.core.display import HTML\n",
    "def css_styling():\n",
    "    styles = open(\"./styles/custom.css\", \"r\").read()\n",
    "    return HTML(styles)\n",
    "css_styling()"
   ]
  },
  {
   "cell_type": "markdown",
   "id": "5806ad36",
   "metadata": {},
   "source": [
    "**Sequences**\n",
    "\n",
    "$a_n$ for an *arithmetic* sequence starting with \"aStart\" and difference d\n",
    "\n",
    "We need to specify the index of aStart to make it work"
   ]
  },
  {
   "cell_type": "code",
   "execution_count": 1,
   "id": "b0978d1d",
   "metadata": {},
   "outputs": [],
   "source": [
    "def arith(aStart,d,n,start):\n",
    "    assert start <= n, \"Can't do that backwards\"\n",
    "    # for start = 0 it's just aStart + n*d\n",
    "    # So, adjust for other values of \"start\"\n",
    "    # 0: aStart + n*d\n",
    "    # 1: aStart + (n-1)*d\n",
    "    # --> General: \n",
    "    return aStart + (n - start)*d"
   ]
  },
  {
   "cell_type": "code",
   "execution_count": 21,
   "id": "90d6f75c",
   "metadata": {},
   "outputs": [
    {
     "name": "stdout",
     "output_type": "stream",
     "text": [
      "1002\n"
     ]
    }
   ],
   "source": [
    "print(arith(7,1,1000,5)) # a_5 = 7, d = 1   - what is a_1000?"
   ]
  },
  {
   "cell_type": "markdown",
   "id": "2b962ee7",
   "metadata": {},
   "source": [
    "Same just for a *geometric* sequence with r"
   ]
  },
  {
   "cell_type": "code",
   "execution_count": 9,
   "id": "ab57f6d4",
   "metadata": {},
   "outputs": [],
   "source": [
    "def geom(aStart,r,n,start):\n",
    "    assert start <= n, \"Can't do that backwards\"\n",
    "    # for start = 0 it's just aStart*(r^n)\n",
    "    # So, adjust for other values of \"start\"\n",
    "    # 0: aStart*(r^n)\n",
    "    # 1: aStart*(r^(n-1))\n",
    "    # --> General: \n",
    "    return aStart*(r**(n-start)) # ** is power in Python"
   ]
  },
  {
   "cell_type": "code",
   "execution_count": 20,
   "id": "59974154",
   "metadata": {},
   "outputs": [
    {
     "name": "stdout",
     "output_type": "stream",
     "text": [
      "16\n",
      "8\n",
      "0.0625\n"
     ]
    }
   ],
   "source": [
    "print(geom(1,2,4,0))   #a_0 = 1, r = 2   - what is a_4?\n",
    "print(geom(1,2,4,1))   #a_1 = 1, r = 2   - what is a_4?\n",
    "print(geom(1,0.5,4,0)) #a_0 = 1, r = 0.5 - what is a_4?"
   ]
  },
  {
   "cell_type": "markdown",
   "id": "c48b331a",
   "metadata": {},
   "source": [
    "Based on the idea of successive (shorter) sequences\n",
    "of differences of the original sequence\n",
    "\n",
    "See Mathologer: *Why don't they teach Newton's calculus of 'What comes next?'*\n",
    "https://www.youtube.com/watch?v=4AuV93LOPcE\n",
    "\n",
    "Stopping on a constant sequence which can be tested, of course (-> allEqual)\n",
    "\n",
    "A quote from Mathologer is important (video at 20:07) \n",
    "\n",
    "*The whole 'What's Next' game is fundamentally very silly.\n",
    "If anything can be an answer then of course nothing is an answer*\n",
    "\n",
    "Oh, and stop watching at 22:06\n",
    "This is higher-end math, enormously pretty, \n",
    "but not really relevant for this course..."
   ]
  },
  {
   "cell_type": "code",
   "execution_count": 18,
   "id": "f4038c3d",
   "metadata": {},
   "outputs": [],
   "source": [
    "from functools import reduce\n",
    "\n",
    "def extend(l) :\n",
    "    assert len(l) > 0, \"Can't continue empty list\"\n",
    "    if allEqual(l) :\n",
    "        result = l.copy()\n",
    "        result.append(l[0])\n",
    "        return result\n",
    "    lenL = len(l)\n",
    "    \n",
    "    # len(l) > 1 from here\n",
    "    \n",
    "    # a. build list of successive differences\n",
    "    diffList = []\n",
    "    for index in range(1,lenL) :\n",
    "        diffList.append(l[index] - l[index-1])\n",
    "    # b. extend this by 1 (RECURSION!)\n",
    "    diffList = extend(diffList)\n",
    "    \n",
    "    # c. use the last element of the extended\n",
    "    #    difference list to extend the original\n",
    "    result = l.copy()\n",
    "    result.append(l[lenL - 1] + diffList[lenL - 1])\n",
    "    return result\n",
    "\n",
    "# If you grew up with C, C++ or Java: Good luck figuring this one out ;-)\n",
    "def allEqual(l) :\n",
    "    return reduce(lambda a,b: a and (b == l[0]),l,True)"
   ]
  },
  {
   "cell_type": "code",
   "execution_count": 19,
   "id": "e1d80e87",
   "metadata": {},
   "outputs": [
    {
     "name": "stdout",
     "output_type": "stream",
     "text": [
      "[0, 1, 2, 3, 4, 5, 6]\n",
      "[0, 1, 2, 3, 4, 5, -300, -2135]\n",
      "[0, 1, 4, 9, 16, 25, 36]\n",
      "[0, 1, 8, 27, 64, 125, 216]\n",
      "[1, 2, 4, 8, 16, 31]\n",
      "[1, 2, 4, 8, 16, 31, 57]\n"
     ]
    }
   ],
   "source": [
    "print(extend([0,1,2,3,4,5]))\n",
    "print(extend([0,1,2,3,4,5,-300])) # That's cute!\n",
    "print(extend([0,1,4,9,16,25]))\n",
    "print(extend([0,1,8,27,64,125]))\n",
    "        \n",
    "# video at 21:11\n",
    "print(extend([1,2,4,8,16]))\n",
    "print(extend([1,2,4,8,16,31]))"
   ]
  }
 ],
 "metadata": {
  "kernelspec": {
   "display_name": "Python 3 (ipykernel)",
   "language": "python",
   "name": "python3"
  },
  "language_info": {
   "codemirror_mode": {
    "name": "ipython",
    "version": 3
   },
   "file_extension": ".py",
   "mimetype": "text/x-python",
   "name": "python",
   "nbconvert_exporter": "python",
   "pygments_lexer": "ipython3",
   "version": "3.10.5"
  }
 },
 "nbformat": 4,
 "nbformat_minor": 5
}
