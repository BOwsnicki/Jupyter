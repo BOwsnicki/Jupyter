{
 "cells": [
  {
   "cell_type": "code",
   "execution_count": 3,
   "metadata": {},
   "outputs": [
    {
     "data": {
      "text/html": [
       "<style>\n",
       "p,li, h1, h2, h3, h4, h5 {\n",
       "\tfont-family: \"Times New Roman\", Times, serif;\n",
       "}\n",
       "</style>"
      ],
      "text/plain": [
       "<IPython.core.display.HTML object>"
      ]
     },
     "execution_count": 3,
     "metadata": {},
     "output_type": "execute_result"
    }
   ],
   "source": [
    "# Styling notebook\n",
    "from IPython.core.display import HTML\n",
    "def css_styling():\n",
    "    styles = open(\"./styles/custom.css\", \"r\").read()\n",
    "    return HTML(styles)\n",
    "css_styling()"
   ]
  },
  {
   "cell_type": "markdown",
   "metadata": {},
   "source": [
    "**A simple Binary Tree class**\n",
    "\n",
    "No contents (easy to add), just left and right successor\n"
   ]
  },
  {
   "cell_type": "code",
   "execution_count": 13,
   "metadata": {},
   "outputs": [],
   "source": [
    "class BinTree :\n",
    "    def __init__(self, left, right):\n",
    "        self.left = left\n",
    "        self.right = right\n",
    "\n",
    "    def __str__(self):\n",
    "        return \" BinTree [left: %s, right: %s]\" % (self.left, self.right)"
   ]
  },
  {
   "cell_type": "markdown",
   "metadata": {},
   "source": [
    "Now, the following a little difficult to decypher, I know. Generally speaking, printing trees (and graphs!) is almost impossible, unless you burden the reader with getting some visual imagery from this nested lexical structure.\n",
    "\n",
    "Also, designing a decent Tree API isn't trivial either, this constrtuctor-based approach is quite concise and good if you have the tree mentally set up, else it's terrible: You can't move branches around, add branches at run-time, remove branches, and and and...\n",
    "\n",
    "So, since we're not really interested in this aspect of trere data structures (for now!), we'll leave it like that just to work with the fewest lines of code imaginable!"
   ]
  },
  {
   "cell_type": "code",
   "execution_count": 14,
   "metadata": {},
   "outputs": [
    {
     "name": "stdout",
     "output_type": "stream",
     "text": [
      " BinTree [left:  BinTree [left:  BinTree [left: None, right: None], right:  BinTree [left:  BinTree [left: None, right: None], right:  BinTree [left: None, right: None]]], right:  BinTree [left:  BinTree [left: None, right: None], right:  BinTree [left:  BinTree [left: None, right: None], right: None]]]\n"
     ]
    }
   ],
   "source": [
    "treeL = BinTree(BinTree(None,None),BinTree(BinTree(None,None),BinTree(None,None)))\n",
    "treeR = BinTree(BinTree(None,None),BinTree(BinTree(None,None),None))\n",
    "tree = BinTree(treeL,treeR)\n",
    "print(tree)"
   ]
  },
  {
   "cell_type": "markdown",
   "metadata": {},
   "source": [
    "**The most elementary tree layout algorithm?**\n",
    "\n",
    "Once you understand the ideas it's almost trivial:\n",
    "1. We draw the tree from left to right, instead from top to bottom\n",
    "2. The tree is drawn recursively, starting from the root and splitting the two successors at each step\n",
    "3. The main idea is to give each recursion a \"strip\" in which to draw the tree including the root\n",
    "    1. \"x\" is the horizontal position of the root\n",
    "    2. \"yLo\" is the vertical lower bound in which the tree below the root can be drawn\n",
    "    2. \"yHi\" is the vertical upper bound in which the tree below the root can be drawn\n",
    "4. The constant $\\Delta x$ is the horizontal offset between a node and its successors\n",
    "    \n",
    "Once you have that conceptualized, it's really easy to layout the tree:\n",
    "\n",
    "1. The root is drawn at $(x,y)$ where $y$ is in the vertical center of the strip $yLo + (yHi - yLo)/2.$\n",
    "2. The left successor is offset by $\\Delta x$ and recursively drawn into the *lower* half of the strip\n",
    "3. Same with the right successor $-$ it just goes into the *upper* half of the strip\n",
    "4. Draw connecting edges if there actually is a successor on this side"
   ]
  },
  {
   "cell_type": "code",
   "execution_count": 16,
   "metadata": {},
   "outputs": [
    {
     "data": {
      "image/png": "[encoded data removed]",
      "text/plain": [
       "<Figure size 432x288 with 1 Axes>"
      ]
     },
     "metadata": {},
     "output_type": "display_data"
    }
   ],
   "source": [
    "import matplotlib.pyplot as plt\n",
    "%matplotlib inline\n",
    "\n",
    "deltaX = 20 # Horizontal offset\n",
    "\n",
    "def draw(tree) :\n",
    "    figure, axes = plt.subplots() # PLot API \"thingies\"\n",
    "    axes.set_aspect(1)\n",
    "    \n",
    "    layout(tree,5,0,100)          # Here's the call to the recursive layout function!\n",
    "    \n",
    "    # More PLot API \"thingies\"\n",
    "    plt.tick_params(axis='x', which='both', bottom=False, top=False, labelbottom=False)\n",
    "    plt.tick_params(axis='y', which='both', right=False, left=False, labelleft=False)\n",
    "    plt.show()\n",
    "\n",
    "def layout(root,x,yLo,yHi) :\n",
    "    # Null root --> We landed below a leaf. Abort!\n",
    "    if root is None : return None\n",
    "    \n",
    "    # Vertical center of the strip\n",
    "    yPos = yLo + (yHi - yLo)*0.5 \n",
    "    \n",
    "    # Left goes into lower half (so when you turn it 90 degrees clockwise it's correct)\n",
    "    yLeft = layout(root.left,x + deltaX, yLo, yPos)\n",
    "    \n",
    "    # Right goes into upper half\n",
    "    yRight = layout(root.right,x + deltaX, yPos, yHi)\n",
    "    \n",
    "    # Plot edges if there's a left/right successor\n",
    "    # \"ko-\" = black, circle, solid line\n",
    "    if (yLeft is not None) : \n",
    "        plt.plot([x, x + deltaX], [yPos, yLeft], 'ko-')\n",
    "    if (yRight is not None) : \n",
    "        plt.plot([x, x + deltaX], [yPos, yRight], 'ko-')\n",
    "    \n",
    "    return yPos\n",
    "    \n",
    "draw(tree)"
   ]
  }
 ],
 "metadata": {
  "kernelspec": {
   "display_name": "Python 3 (ipykernel)",
   "language": "python",
   "name": "python3"
  },
  "language_info": {
   "codemirror_mode": {
    "name": "ipython",
    "version": 3
   },
   "file_extension": ".py",
   "mimetype": "text/x-python",
   "name": "python",
   "nbconvert_exporter": "python",
   "pygments_lexer": "ipython3",
   "version": "3.10.5"
  }
 },
 "nbformat": 4,
 "nbformat_minor": 2
}
