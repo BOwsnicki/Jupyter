{
 "cells": [
  {
   "cell_type": "code",
   "execution_count": 1,
   "metadata": {},
   "outputs": [
    {
     "data": {
      "text/html": [
       "<style>\n",
       "p,li, h1, h2, h3, h4, h5 {\n",
       "\tfont-family: \"Times New Roman\", Times, serif;\n",
       "}\n",
       "</style>"
      ],
      "text/plain": [
       "<IPython.core.display.HTML object>"
      ]
     },
     "execution_count": 1,
     "metadata": {},
     "output_type": "execute_result"
    }
   ],
   "source": [
    "# Styling notebook\n",
    "from IPython.core.display import HTML\n",
    "def css_styling():\n",
    "    styles = open(\"./styles/custom.css\", \"r\").read()\n",
    "    return HTML(styles)\n",
    "css_styling()"
   ]
  },
  {
   "cell_type": "markdown",
   "metadata": {},
   "source": [
    "### Number systems\n",
    "Idea: Use a different base from 10 to write down numbers (usually non-negative integers)  \n",
    "\n",
    "Common bases:\t2, 8, 16\n",
    "\n",
    "**Important:** Given a base $b > 1$, the \"digits\" of this base system are the remainders mod $b.$  \n",
    "\n",
    "Digits < 10 are usually written like in the decimal system $0, 1, ..., 9.$   \n",
    "\n",
    "For 10 and greater we use characters a, b, c, ... (here generally lowercase)\n",
    "\n"
   ]
  },
  {
   "cell_type": "code",
   "execution_count": 2,
   "metadata": {},
   "outputs": [
    {
     "data": {
      "text/plain": [
       "['0', '1', '2', '3', '4', '5', '6', '7', '8', '9', 'a', 'b', 'c']"
      ]
     },
     "execution_count": 2,
     "metadata": {},
     "output_type": "execute_result"
    }
   ],
   "source": [
    "# return char for \"digit\" in \"base\" (\"digit\" is a remainder mod \"base\")\n",
    "#    if digit <= 9, it's just the digit as a char\n",
    "#    else 10 --> 'a', 11 -- 'b', etc\n",
    "def chr4Digit(digit, base) :\n",
    "    assert (digit >= 0 and digit < base),\"Not a legal digit!\"\n",
    "    \n",
    "    # This looks SOOO much like Pascal!\n",
    "    if digit <= 9 :\n",
    "        return chr(ord(\"0\") + digit)\n",
    "    else :\n",
    "        return chr(ord(\"a\") + digit - 10)\n",
    "\n",
    "# the inverse of \"chr4Digit\"\n",
    "#    '0' - '9' --> 0 - 9\n",
    "#    'a' --> 10, 'b' --> 11 etc\n",
    "def digit4Chr(c) :\n",
    "    if (c >= '0' and c <= '9') :\n",
    "        return ord(c) - ord('0')\n",
    "    else :\n",
    "        return ord(c) - ord('a') + 10\n",
    "    \n",
    "# -------------------------------- Just to demo the digits to base b ----------------------\n",
    "    \n",
    "def allDigits(b) : # return a list of all digits for a given base b\n",
    "    result = []\n",
    "    for r in range(b) :\n",
    "        result.append(chr4Digit(r,b))\n",
    "    return result\n",
    "\n",
    "allDigits(13)"
   ]
  },
  {
   "cell_type": "markdown",
   "metadata": {},
   "source": [
    "**Value for arbitrary bases**\n",
    "\n",
    "Given a base $b > 1,$ and the digits $0, 1, ... ,{b-2}, {b-1},$ a number to base $b$ is a sequence of base b digits: $d_n d_{n-1} d_{n-2} ... d_2 d_1 d_0.$  \n",
    "\n",
    "The value of this number is then given by the polynomial $$\\sum_{i=0}^n d_i b^i$$\n",
    "\n",
    "Since the indices are assumed to be decreasing, the above formula can be written out as  \n",
    "\n",
    "$$d_n b^n + d_{n-1}b^{n-1} + d_{n-2}b^{n-2} + ... +\\;d_2b^2 + d_1b + d_0$$\n",
    "\n",
    "\n",
    "**Base conversions**  \n",
    "\n",
    "Three directions:  \n",
    "1. Convert a string (!) with a base $b$ encoding into an integer\n",
    "1. Convert an integer to a base $b$ string\n",
    "1. Convert a string in base $b_1$ encoding into a string in $b_2$ encoding\n",
    "\n",
    "No demos for switching bases 2, 4, 8, 16 etc. Why? It doesn't make sense! These grouping methods are strictly for quick manual conversions - if you have access to converter software (which you do now!) just use that!"
   ]
  },
  {
   "cell_type": "code",
   "execution_count": 3,
   "metadata": {},
   "outputs": [],
   "source": [
    "# Converts a string \"s\" containing the encoding of an int in base \"b\" into the value\n",
    "# Just evaluate the polynomial = best from right to left, to have the exponents increase!\n",
    "\n",
    "def fromBase(s, b) :\n",
    "    result = 0\n",
    "    factor = 1\n",
    "    \n",
    "    for i in range(len(s)-1, -1, -1) :  # cute way of running backwards through a list!\n",
    "        result += digit4Chr(s[i])*factor\n",
    "        factor *= b\n",
    "        \n",
    "    return result"
   ]
  },
  {
   "cell_type": "code",
   "execution_count": 16,
   "metadata": {},
   "outputs": [
    {
     "data": {
      "text/plain": [
       "1094795585"
      ]
     },
     "execution_count": 16,
     "metadata": {},
     "output_type": "execute_result"
    }
   ],
   "source": [
    "fromBase('41414141',16)"
   ]
  },
  {
   "cell_type": "markdown",
   "metadata": {},
   "source": [
    "**Converting from base 10 to any other base b**\n",
    "\n",
    "\n",
    "Repeatedly divide by b until quotient is 0  \n",
    "\n",
    "Write remainders (as b-digits) right to left (use extra “digits” if necessary)\n"
   ]
  },
  {
   "cell_type": "code",
   "execution_count": 10,
   "metadata": {},
   "outputs": [
    {
     "data": {
      "text/plain": [
       "'1a07'"
      ]
     },
     "execution_count": 10,
     "metadata": {},
     "output_type": "execute_result"
    }
   ],
   "source": [
    "# convert int \"n\" to a string for base \"b\"\n",
    "def toBase(n, b) :\n",
    "    result = ''\n",
    "    \n",
    "    while n >= b :\n",
    "        result = chr4Digit(n%b,b) + result # <-- put the next character in front!\n",
    "        n = n//b\n",
    "        \n",
    "    return chr4Digit(n,b) + result\n",
    "\n",
    "toBase(4711,14)"
   ]
  },
  {
   "cell_type": "code",
   "execution_count": 6,
   "metadata": {},
   "outputs": [],
   "source": [
    "# convert string \"s\" (assuming it's in base \"b1\") \n",
    "# into the string for base \"b2\"\n",
    "def changeBase(s,b1,b2) :\n",
    "    return toBase(fromBase(s,b1),b2)"
   ]
  },
  {
   "cell_type": "code",
   "execution_count": 14,
   "metadata": {},
   "outputs": [
    {
     "data": {
      "text/plain": [
       "'7ai1'"
      ]
     },
     "execution_count": 14,
     "metadata": {},
     "output_type": "execute_result"
    }
   ],
   "source": [
    "changeBase('145376',8,19)"
   ]
  }
 ],
 "metadata": {
  "kernelspec": {
   "display_name": "Python 3 (ipykernel)",
   "language": "python",
   "name": "python3"
  },
  "language_info": {
   "codemirror_mode": {
    "name": "ipython",
    "version": 3
   },
   "file_extension": ".py",
   "mimetype": "text/x-python",
   "name": "python",
   "nbconvert_exporter": "python",
   "pygments_lexer": "ipython3",
   "version": "3.10.5"
  }
 },
 "nbformat": 4,
 "nbformat_minor": 2
}
