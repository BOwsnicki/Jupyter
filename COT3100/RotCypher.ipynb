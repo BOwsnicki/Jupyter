{
 "cells": [
  {
   "cell_type": "code",
   "execution_count": 2,
   "id": "e84f3fe7",
   "metadata": {},
   "outputs": [
    {
     "data": {
      "text/html": [
       "<style>\n",
       "p,li, h1, h2, h3, h4, h5 {\n",
       "\tfont-family: \"Times New Roman\", Times, serif;\n",
       "}\n",
       "</style>"
      ],
      "text/plain": [
       "<IPython.core.display.HTML object>"
      ]
     },
     "execution_count": 2,
     "metadata": {},
     "output_type": "execute_result"
    }
   ],
   "source": [
    "# Styling notebook\n",
    "from IPython.core.display import HTML\n",
    "def css_styling():\n",
    "    styles = open(\"./styles/custom.css\", \"r\").read()\n",
    "    return HTML(styles)\n",
    "css_styling()"
   ]
  },
  {
   "cell_type": "markdown",
   "id": "0aafc81d",
   "metadata": {},
   "source": [
    "### Circular (rotation) substitution cypher  \n",
    "\n",
    "A substitution cypher replaces any character (or sequence of characters) by another one. The easiest are the ones that rotate characters by a certain offset. In order to deal with overflows, they just use remainders mod a given number.\n",
    "\n",
    "In this examples we're using just lowercase characters mod 26, since this allows us to cover all 26 characters without any problems."
   ]
  },
  {
   "cell_type": "markdown",
   "id": "7c8e81ce",
   "metadata": {},
   "source": [
    "**Rotate character 'c' by integer n mod 26**"
   ]
  },
  {
   "cell_type": "code",
   "execution_count": 3,
   "id": "ef5c7642",
   "metadata": {},
   "outputs": [],
   "source": [
    "def rotN(c,n) :\n",
    "    if not (c.islower()) : return c\n",
    "    base = ord(c) - ord('a') # a = 0, b = 1, ...\n",
    "    code = (base + n) % 26\n",
    "    return chr(ord('a') + code)"
   ]
  },
  {
   "cell_type": "code",
   "execution_count": 4,
   "id": "dd385650",
   "metadata": {},
   "outputs": [
    {
     "data": {
      "text/plain": [
       "'m'"
      ]
     },
     "execution_count": 4,
     "metadata": {},
     "output_type": "execute_result"
    }
   ],
   "source": [
    "rotN('u',18) # try n = 13 ;-)\n",
    "# https://en.wikipedia.org/wiki/ROT13"
   ]
  },
  {
   "cell_type": "code",
   "execution_count": 5,
   "id": "daba20a4",
   "metadata": {},
   "outputs": [],
   "source": [
    "def rotStringN(s,n) :\n",
    "    return ''.join(map(lambda c : rotN(c,n),s))"
   ]
  },
  {
   "cell_type": "code",
   "execution_count": 10,
   "id": "bf7b4985",
   "metadata": {},
   "outputs": [
    {
     "name": "stdout",
     "output_type": "stream",
     "text": [
      "attack at dawn\n",
      "sllsuc sl vsof\n",
      "hello\n"
     ]
    }
   ],
   "source": [
    "string = 'attack at dawn'\n",
    "print(string)\n",
    "print(rotStringN(string,18))\n",
    "\n",
    "# Behold! The magic of rot13\n",
    "print(rotStringN(rotStringN('hello',13),13))"
   ]
  },
  {
   "cell_type": "markdown",
   "id": "af27d429",
   "metadata": {},
   "source": [
    "### Simple letter counting class  \n",
    "Just counts lowercase letters, nothing else  \n",
    "So, it converts the string to lowercase to begin with"
   ]
  },
  {
   "cell_type": "code",
   "execution_count": 7,
   "id": "49083d2a",
   "metadata": {},
   "outputs": [],
   "source": [
    "class Histogram :\n",
    "    def __init__(self, string):\n",
    "        self.freq = {} # That's a dictionary\n",
    "        for c in string.lower() :\n",
    "            self.incrementFreq(c)\n",
    "            \n",
    "    def incrementFreq(self,c) :\n",
    "        if c.islower() :\n",
    "            oldV = self.freq.get(c,None)  # lazy increment\n",
    "            if oldV is None : oldV = 0\n",
    "            self.freq[c] = oldV + 1 "
   ]
  },
  {
   "cell_type": "markdown",
   "id": "ef8942b1",
   "metadata": {},
   "source": [
    "### Sample run with a given text (Moby Dick)\n",
    "1. Rotate with an abitrary n  \n",
    "2. Run statistics over the cypher string\n",
    "3. Pick the most common letter\n",
    "4. Assume it's an 'e' and rotate back"
   ]
  },
  {
   "cell_type": "code",
   "execution_count": 11,
   "id": "15b9b9a9",
   "metadata": {},
   "outputs": [
    {
     "name": "stdout",
     "output_type": "stream",
     "text": [
      "jhss tl pzothls zvtl flhyz hnv ulcly tpuk ovd svun wyljpzlsf ohcpun spaasl vy uv tvulf pu tf wbyzl huk uvaopun whyapjbshy av pualylza tl vu zovyl p aovbnoa p dvbsk zhps hivba h spaasl huk zll aol dhalyf whya vm aol dvysk pa pz h dhf p ohcl vm kypcpun vmm aol zwsllu huk ylnbshapun aol jpyjbshapvu dolulcly p mpuk tfzlsm nyvdpun nypt hivba aol tvbao; dolulcly pa pz h khtw kypggsf uvcltily pu tf zvbs; dolulcly p mpuk tfzlsm pucvsbuahypsf whbzpun ilmvyl jvmmpu dhylovbzlz huk iypunpun bw aol ylhy vm lclyf mbulyhs p tlla; huk lzwljphssf dolulcly tf ofwvz nla zbjo hu bwwly ohuk vm tl aoha pa ylxbpylz h zayvun tvyhs wypujpwsl av wylclua tl myvt klspilyhalsf zalwwpun puav aol zaylla huk tlaovkpjhssf ruvjrpun wlvwsl’z ohaz vmm—aolu p hjjvbua pa opno aptl av nla av zlh hz zvvu hz p jhu aopz pz tf zbizapabal mvy wpzavs huk ihss dpao h wopsvzvwopjhs msvbypzo jhav aoyvdz optzlsm bwvu opz zdvyk; p xbplasf ahrl av aol zopw aolyl pz uvaopun zbywypzpun pu aopz pm aolf iba ruld pa hstvza hss tlu pu aolpy klnyll zvtl aptl vy vaoly jolypzo clyf ulhysf aol zhtl mllspunz avdhykz aol vjlhu dpao tl\n"
     ]
    },
    {
     "data": {
      "text/plain": [
       "'call me ishmael some years ago never mind how long precisely having little or no money in my purse and nothing particular to interest me on shore i thought i would sail about a little and see the watery part of the world it is a way i have of driving off the spleen and regulating the circulation whenever i find myself growing grim about the mouth; whenever it is a damp drizzly november in my soul; whenever i find myself involuntarily pausing before coffin warehouses and bringing up the rear of every funeral i meet; and especially whenever my hypos get such an upper hand of me that it requires a strong moral principle to prevent me from deliberately stepping into the street and methodically knocking people’s hats off—then i account it high time to get to sea as soon as i can this is my substitute for pistol and ball with a philosophical flourish cato throws himself upon his sword; i quietly take to the ship there is nothing surprising in this if they but knew it almost all men in their degree some time or other cherish very nearly the same feelings towards the ocean with me'"
      ]
     },
     "execution_count": 11,
     "metadata": {},
     "output_type": "execute_result"
    }
   ],
   "source": [
    "# Original text (copied and pasted, so it looks funny)\n",
    "text = 'Call me Ishmael Some years ago never mind how long precisely having little or no money in my purse and nothing particular to interest me on shore I thought I would sail about a little and see the watery part of the world It is a way I have of driving off the spleen and regulating the circulation Whenever I find myself growing grim about the mouth; whenever it is a damp drizzly November in my soul; whenever I find myself involuntarily pausing before coffin warehouses and bringing up the rear of every funeral I meet; and especially whenever my hypos get such an upper hand of me that it requires a strong moral principle to prevent me from deliberately stepping into the street and methodically knocking people’s hats off—then I account it high time to get to sea as soon as I can This is my substitute for pistol and ball With a philosophical flourish Cato throws himself upon his sword; I quietly take to the ship There is nothing surprising in this If they but knew it almost all men in their degree some time or other cherish very nearly the same feelings towards the ocean with me'.lower()\n",
    "\n",
    "# Change this to play with different n values\n",
    "rot = rotStringN(text,7)\n",
    "print(rot)\n",
    "\n",
    "# Run statistics\n",
    "h = Histogram(rot)\n",
    "l = sorted(h.freq.items(),key=lambda item: -item[1]) # Sort result descending\n",
    "\n",
    "# l[0][0] is the character (key) in the first result tuple\n",
    "\n",
    "# So, that's the new n to rotate back:\n",
    "rotBack = ord('e') - ord(l[0][0])\n",
    "\n",
    "# and here we go!\n",
    "rotStringN(rot,rotBack)\n"
   ]
  },
  {
   "cell_type": "code",
   "execution_count": null,
   "id": "bc87032e",
   "metadata": {},
   "outputs": [],
   "source": []
  }
 ],
 "metadata": {
  "kernelspec": {
   "display_name": "Python 3 (ipykernel)",
   "language": "python",
   "name": "python3"
  },
  "language_info": {
   "codemirror_mode": {
    "name": "ipython",
    "version": 3
   },
   "file_extension": ".py",
   "mimetype": "text/x-python",
   "name": "python",
   "nbconvert_exporter": "python",
   "pygments_lexer": "ipython3",
   "version": "3.10.5"
  }
 },
 "nbformat": 4,
 "nbformat_minor": 5
}
