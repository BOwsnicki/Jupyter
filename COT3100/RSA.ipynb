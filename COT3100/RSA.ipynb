{
 "cells": [
  {
   "cell_type": "code",
   "execution_count": 1,
   "metadata": {},
   "outputs": [
    {
     "data": {
      "text/html": [
       "<style>\n",
       "p,li, h1, h2, h3, h4, h5 {\n",
       "\tfont-family: \"Times New Roman\", Times, serif;\n",
       "}\n",
       "</style>"
      ],
      "text/plain": [
       "<IPython.core.display.HTML object>"
      ]
     },
     "execution_count": 1,
     "metadata": {},
     "output_type": "execute_result"
    }
   ],
   "source": [
    "# Styling notebook\n",
    "from IPython.core.display import HTML\n",
    "def css_styling():\n",
    "    styles = open(\"./styles/custom.css\", \"r\").read()\n",
    "    return HTML(styles)\n",
    "css_styling()"
   ]
  },
  {
   "cell_type": "markdown",
   "metadata": {},
   "source": [
    "### RSA key generation, encryption, decryption and attack via factorization\n",
    "\n",
    "RSA keys are pairs of integers (n,e) and (n,d) - they're usually coded into one expression or stored alongside each other - here's a simple utility class that just stores one key with the component \"first\" and \"second\"."
   ]
  },
  {
   "cell_type": "code",
   "execution_count": 2,
   "metadata": {},
   "outputs": [],
   "source": [
    "# Just a container with str function\n",
    "class Key:\n",
    "    def __init__(self, first, second):\n",
    "        self.first = first\n",
    "        self.second = second\n",
    "\n",
    "    def __str__(self):\n",
    "        return \"Key [first: %d, second: %d]\" % (self.first, self.second)"
   ]
  },
  {
   "cell_type": "code",
   "execution_count": 3,
   "metadata": {},
   "outputs": [
    {
     "name": "stdout",
     "output_type": "stream",
     "text": [
      "Key [first: 111, second: -7]\n"
     ]
    }
   ],
   "source": [
    "key = Key(111,-7) # Just a test, nothing to do with RSA\n",
    "print(key)"
   ]
  },
  {
   "cell_type": "markdown",
   "metadata": {},
   "source": [
    "### Main RSA mechanism  \n",
    "\n",
    "**Create a Key Pair (public and private):**\n",
    "\n",
    "1. Generate a pair of large, random distinct primes $p$ and $q$\n",
    "\n",
    "2. Compute the modulus $n = p\\times q$\n",
    "\n",
    "3. Select an odd **public exponent** $e$ between 3 and $n-1$ that is relatively prime to $p-1$ and $q-1$ (65537 is usually chosen)\n",
    "\n",
    "4. Compute the **private exponent** $d$ from $e, p$ and $q:$\n",
    "   - Compute the [totient](Factorize.ipynb#totient) $\\phi(n) = (p−1)\\times (q−1)$\n",
    "   - Solve the equation $e\\times d \\equiv 1 {\\rm mod}\\; \\phi(n)$ for $d,$ i.e. compute $d$ as the \n",
    "[multiplicative inverse](Modular.ipynb#modinvert) of $e.$  \n",
    "   \n",
    "\n",
    "5. Output **(n,e) as the public key** and **(n,d) as the private key.**\n",
    "\n",
    "6. To encrypt a message m, compute $m^e {\\rm mod}\\; n$\n",
    "7. To decrypt a code c compute $c^d {\\rm mod}\\; n$\n",
    "\n"
   ]
  },
  {
   "cell_type": "code",
   "execution_count": 13,
   "metadata": {},
   "outputs": [],
   "source": [
    "from Primes import sieve, randomPrime\n",
    "from Modular import fastExpMod, modInverse\n",
    "from math import gcd                        # the good one!\n",
    "from Factorize import primeFactor\n",
    "\n",
    "class KeyPair :\n",
    "\n",
    "    # that's supposed to be a class variable\n",
    "    Primes = sieve(50000)\n",
    "\n",
    "    # initializer with some kind of hand-knit overloading\n",
    "    #    takes two keys, if one or both not specified, just randomize the pair\n",
    "    #    if both specified, just store them (that's in case I want special keys for testing)\n",
    "    def __init__(self, public = None, private = None):\n",
    "        if public is None or private is None :  # no parameters -->\n",
    "            self.randomize()                    # just randomize the keys\n",
    "        else :                                  # keys given -->\n",
    "            self.public = public                # take those\n",
    "            self._private = private\n",
    "        \n",
    "    # the toString() equivalent\n",
    "    def __str__(self):\n",
    "        return \"KeyPair\\n   public: %s\\n   private: %s\" % (self.public, self._private)\n",
    "\n",
    "    def randomize(self):\n",
    "        # Create a connected random key pair\n",
    "\n",
    "        # 1. create two different random primes p and q\n",
    "\n",
    "        # There are practical considerations for selecting these primes\n",
    "        # a. not too close to the \"edges\" of the range\n",
    "        #    too easy to brute-force bidirectionally\n",
    "        # b. not too close together (close to the center of the range)\n",
    "        #    too easy to brute-force radially\n",
    "\n",
    "        # Here we chose to ignore all these considerations :-)\n",
    "\n",
    "        p = randomPrime(KeyPair.Primes,2)       # don't want the 2\n",
    "        q = randomPrime(KeyPair.Primes,2)       # ditto\n",
    "        # Should be different!\n",
    "        while (q == p) :                        # and here I would love to use a do-while, but alas...\n",
    "            q = randomPrime(KeyPair.Primes)     # shouldn't dead loop, right?\n",
    "\n",
    "        # 2. Modulus and totient\n",
    "        n = p*q                                 # modulus\n",
    "        phi = (p - 1)*(q - 1)                   # totient\n",
    "\n",
    "        # 3. e must be relatively prime to phi\n",
    "        #    else modInverse won't work\n",
    "        e = 65537                               # usually a good guess\n",
    "        while gcd(e,phi) != 1 :                 # just in case - never seen this loop run\n",
    "            e += 2                              # since (p-1)*(q-1) is even, e better be odd\n",
    "\n",
    "        # 4. d solves e^d = 1 (mod phi)\n",
    "        d = modInverse(e,phi)\n",
    "\n",
    "        # Got it\n",
    "        self.public = Key(n,e)\n",
    "        self._private = Key(n,d)\n",
    "\n",
    "    # encryption (Who would've thought...)\n",
    "    def encrypt(self,m) :\n",
    "        return fastExpMod(m,self.public.second,self.public.first)\n",
    "\n",
    "    # decryption (Why am I even writing these stupid comments??)\n",
    "    def decrypt(self,c) :\n",
    "        return fastExpMod(c,self._private.second,self._private.first)"
   ]
  },
  {
   "cell_type": "code",
   "execution_count": 33,
   "metadata": {},
   "outputs": [
    {
     "name": "stdout",
     "output_type": "stream",
     "text": [
      "KeyPair\n",
      "   public: Key [first: 717661627, second: 65537]\n",
      "   private: Key [first: 717661627, second: 525131545]\n"
     ]
    }
   ],
   "source": [
    "pair = KeyPair()\n",
    "print(pair)"
   ]
  },
  {
   "cell_type": "code",
   "execution_count": 34,
   "metadata": {},
   "outputs": [
    {
     "name": "stdout",
     "output_type": "stream",
     "text": [
      "399655411\n"
     ]
    }
   ],
   "source": [
    "m = 1776\n",
    "c = pair.encrypt(m)\n",
    "print(c)"
   ]
  },
  {
   "cell_type": "code",
   "execution_count": 35,
   "metadata": {},
   "outputs": [
    {
     "data": {
      "text/plain": [
       "1776"
      ]
     },
     "execution_count": 35,
     "metadata": {},
     "output_type": "execute_result"
    }
   ],
   "source": [
    "pair.decrypt(c)"
   ]
  },
  {
   "cell_type": "markdown",
   "metadata": {},
   "source": [
    "**Note that encrypt and decrypt are mirror images**  \n",
    "So they can be used in any order"
   ]
  },
  {
   "cell_type": "code",
   "execution_count": 36,
   "metadata": {},
   "outputs": [
    {
     "name": "stdout",
     "output_type": "stream",
     "text": [
      "404894522\n"
     ]
    },
    {
     "data": {
      "text/plain": [
       "1776"
      ]
     },
     "execution_count": 36,
     "metadata": {},
     "output_type": "execute_result"
    }
   ],
   "source": [
    "d = pair.decrypt(m)\n",
    "print(d)\n",
    "pair.encrypt(d)"
   ]
  },
  {
   "attachments": {
    "Image1.jpg": {
     "image/jpeg": "[encoded data removed]"
    }
   },
   "cell_type": "markdown",
   "metadata": {},
   "source": [
    "Ok! Why do encryption and decryption work like that? (Skip on first reading)  \n",
    "\n",
    "**Euler-Fermat Theorem** (really tough, no proof)\n",
    "![Image1.jpg](attachment:Image1.jpg)\n",
    "\n",
    "If a and n are relatively prime, then $a^{\\phi(n)}\\equiv 1 ({\\rm mod}\\; n)$"
   ]
  },
  {
   "cell_type": "code",
   "execution_count": 9,
   "metadata": {},
   "outputs": [
    {
     "data": {
      "text/plain": [
       "1"
      ]
     },
     "execution_count": 9,
     "metadata": {},
     "output_type": "execute_result"
    }
   ],
   "source": [
    "from Primes import sieve\n",
    "from Factorize import eulerPhi\n",
    "\n",
    "def eulerFermatDemo(a,n) :\n",
    "    return fastExpMod(a,eulerPhi(n,KeyPair.Primes),n)\n",
    "\n",
    "eulerFermatDemo(2048,12345)"
   ]
  },
  {
   "cell_type": "markdown",
   "metadata": {},
   "source": [
    "**The important property of $e$ and $d:$** For any integer $m:\\; m^{ed} \\equiv m\\; ({\\rm mod}\\; n)$ \n",
    "\n",
    "Note, that's all we really need to show both aspects of encyption and decryption (more in a moment).\n",
    "\n",
    "1. We chose $d$ such that $ed \\equiv 1\\; ({\\rm mod}\\; \\phi(n))$\n",
    "1. That means $ed = k\\phi(n) + 1,$ for an unknown integer $k.$\n",
    "1. Now, according to Euler-Fermat: $m^{\\phi(n)} \\equiv 1\\; ({\\rm mod}\\; n)$\n",
    "1. That means $m^{k\\phi(n)} = m^{\\phi(n)} \\times m^{\\phi(n)} \\times ... \\times\\; m^{\\phi(n)} \\equiv 1\\; ({\\rm mod}\\; n),$ because all $k$ factors $m^{\\phi(n)}$ are 1 mod $n.$\n",
    "1. That means $m^{ed} = m^{k\\phi(n)+1} = m\\times m^{k\\phi(n)}  \\equiv m\\; ({\\rm mod}\\; n)$ q.e.d.\n",
    "\n",
    "Now define encryption as $e(m) = m^e\\, {\\rm mod}\\; n$ and decryption as $d(c) = c^d\\, {\\rm mod}\\; n.$\n",
    "\n",
    "$d(e(m)) = (m^e\\, {\\rm mod}\\; n)^d\\; {\\rm mod}\\; n = (m^{ed}\\, {\\rm mod}\\; n)\\; {\\rm mod}\\; n \\equiv m\\; ({\\rm mod}\\; n)$ which means $e()$ and $d()$ are inverses.\n",
    "\n",
    "Of course, $e(d(c)) \\equiv c\\; ({\\rm mod}\\; n),$ because $m^{ed} = m^{de}.$\n"
   ]
  },
  {
   "cell_type": "markdown",
   "metadata": {},
   "source": [
    "### Now we have everything together to break RSA\n",
    "\n",
    "**Step 1:**  \n",
    "a. Get the module $n$ from the public key  \n",
    "b. Factor it into $n = p\\times q.$"
   ]
  },
  {
   "cell_type": "code",
   "execution_count": 37,
   "metadata": {},
   "outputs": [
    {
     "name": "stdout",
     "output_type": "stream",
     "text": [
      "factored: 717661627 = 17789 * 40343\n"
     ]
    }
   ],
   "source": [
    "n = pair.public.first   # Just based on the public key\n",
    "e = pair.public.second\n",
    "\n",
    "# 1. Factor n into p and q\n",
    "p = primeFactor(n,KeyPair.Primes)\n",
    "q = n//p\n",
    "print(\"factored:\",n,\"=\",p,\"*\",q)"
   ]
  },
  {
   "cell_type": "markdown",
   "metadata": {},
   "source": [
    "**Step 2:**  \n",
    "a. Recompute the totient $\\phi(n)$ according to the standard algorithm  \n",
    "b. Compute $d$ from $e$ and $\\phi(n).$ Done!"
   ]
  },
  {
   "cell_type": "code",
   "execution_count": 38,
   "metadata": {},
   "outputs": [
    {
     "name": "stdout",
     "output_type": "stream",
     "text": [
      "717603496\n",
      "525131545\n"
     ]
    }
   ],
   "source": [
    "phi = (p-1)*(q-1)\n",
    "print(phi)\n",
    "dNew = modInverse(e,phi)\n",
    "print(dNew)"
   ]
  },
  {
   "cell_type": "markdown",
   "metadata": {},
   "source": [
    "**Step 3:**  \n",
    "Just use the decryption $c^d\\; {\\rm mod}\\; n$ with the new $d$"
   ]
  },
  {
   "cell_type": "code",
   "execution_count": 12,
   "metadata": {},
   "outputs": [
    {
     "data": {
      "text/plain": [
       "1776"
      ]
     },
     "execution_count": 12,
     "metadata": {},
     "output_type": "execute_result"
    }
   ],
   "source": [
    "fastExpMod(c,dNew,n)"
   ]
  }
 ],
 "metadata": {
  "kernelspec": {
   "display_name": "Python 3 (ipykernel)",
   "language": "python",
   "name": "python3"
  },
  "language_info": {
   "codemirror_mode": {
    "name": "ipython",
    "version": 3
   },
   "file_extension": ".py",
   "mimetype": "text/x-python",
   "name": "python",
   "nbconvert_exporter": "python",
   "pygments_lexer": "ipython3",
   "version": "3.10.5"
  }
 },
 "nbformat": 4,
 "nbformat_minor": 2
}
