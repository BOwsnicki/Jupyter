{
 "cells": [
  {
   "cell_type": "code",
   "execution_count": 1,
   "metadata": {},
   "outputs": [
    {
     "data": {
      "text/html": [
       "<style>\n",
       "p,li, h1, h2, h3, h4, h5 {\n",
       "\tfont-family: \"Times New Roman\", Times, serif;\n",
       "}\n",
       "</style>"
      ],
      "text/plain": [
       "<IPython.core.display.HTML object>"
      ]
     },
     "execution_count": 1,
     "metadata": {},
     "output_type": "execute_result"
    }
   ],
   "source": [
    "# Styling notebook\n",
    "from IPython.core.display import HTML\n",
    "def css_styling():\n",
    "    styles = open(\"./styles/custom.css\", \"r\").read()\n",
    "    return HTML(styles)\n",
    "css_styling()"
   ]
  },
  {
   "cell_type": "markdown",
   "metadata": {},
   "source": [
    "### Modular operations addition, multiplication\n",
    "\n",
    "Addition and multiplication mod $m$ are theoretically easy, but practically a little tricky. The main complication come from the fact that we intend to use modular arithmetic to limit the danger of overflows. The result of an operation \"mod $m$\" is known to be between $0$ and $m-1,$ but before the mod is taken an overflow *in the arguments* can actually have occured."
   ]
  },
  {
   "cell_type": "code",
   "execution_count": 2,
   "metadata": {},
   "outputs": [
    {
     "name": "stdout",
     "output_type": "stream",
     "text": [
      "2\n"
     ]
    }
   ],
   "source": [
    "# modular addition/multiplication (trivial, but a little dangerous - why??)\n",
    "def addModNotGood(a,b,m) :\n",
    "    return (a + b)%m\n",
    "\n",
    "def multModNotGood(a,b,m) :\n",
    "    return (a*b)%m\n",
    "\n",
    "print(multModNotGood(34,2,11))"
   ]
  },
  {
   "cell_type": "markdown",
   "metadata": {},
   "source": [
    "Apparently the expressions $a+b$ and $a\\times b$ can overflow before the remainder mod $m$ is taken. So we use the idea of replacing every operand $o$ with another value that's congruent to $o.$ Well, $o\\; {\\rm mod}\\; m$ is probably the safest choice here!"
   ]
  },
  {
   "cell_type": "code",
   "execution_count": 3,
   "metadata": {},
   "outputs": [],
   "source": [
    "# modular addition/multiplication (better)\n",
    "def addMod(a,b,m) :\n",
    "    return (a%m + b%m)%m\n",
    "\n",
    "def multMod(a,b,m) :\n",
    "    return ((a%m)*(b%m))%m"
   ]
  },
  {
   "cell_type": "code",
   "execution_count": 4,
   "metadata": {},
   "outputs": [
    {
     "data": {
      "text/plain": [
       "3"
      ]
     },
     "execution_count": 4,
     "metadata": {},
     "output_type": "execute_result"
    }
   ],
   "source": [
    "multMod(34,25,11)"
   ]
  },
  {
   "cell_type": "markdown",
   "metadata": {},
   "source": [
    "All good? No!  \n",
    "\n",
    "Our **multMod** has a weird little problem: \n",
    "It's perfectly possible that the sub-expression $(a\\bmod m) \\times (b\\bmod m)$ overflows if m is in the area of $1/2 \\times {\\rm maximal\\ Integer}.$ If that happens, we really need to make sure that we break up this function into one that *a)* is safe(r) and *b)* is still fast. \n",
    "\n",
    "Here's one that uses addition (considered safe enough) and limited multiplication (by 2) paying for that with a slightly slower runtime:"
   ]
  },
  {
   "cell_type": "code",
   "execution_count": 5,
   "metadata": {},
   "outputs": [],
   "source": [
    "def multModSafe(a,b,m) :\n",
    "    res = 0\n",
    "    a = a % m\n",
    "    while b > 0 :\n",
    "        # If b is odd, add a to result\n",
    "        if b%2 == 1 : \n",
    "            res = (res + a) % m\n",
    "\n",
    "        # In any case: double a\n",
    "        a = (a + a) % m\n",
    "\n",
    "        # Compensate by halving b\n",
    "        b = b//2\n",
    "    return res % m"
   ]
  },
  {
   "cell_type": "code",
   "execution_count": 6,
   "metadata": {},
   "outputs": [
    {
     "data": {
      "text/plain": [
       "3"
      ]
     },
     "execution_count": 6,
     "metadata": {},
     "output_type": "execute_result"
    }
   ],
   "source": [
    "multModSafe(34,25,11)"
   ]
  },
  {
   "cell_type": "markdown",
   "metadata": {},
   "source": [
    "### Invariance under congruence mod m\n",
    "One of the most important properties of any modular operation is the fact that whenever the modulus is fixed (say $m$) any operand can be replaced by one that's congruent mod $m$ without changing the result. So, whenever $a\\equiv c\\; ({\\rm mod}\\; m)$ and $b\\equiv d\\; ({\\rm mod}\\; m):$\n",
    "\n",
    "\n",
    "- $(a + b)\\; {\\rm mod}\\; m = (c + d)\\; {\\rm mod}\\; m$\n",
    "- $(a\\times b)\\; {\\rm mod}\\; m = (c\\times d)\\; {\\rm mod}\\; m$\n",
    "- $a^b\\; {\\rm mod}\\; m = c^d\\; {\\rm mod}\\; m$ "
   ]
  },
  {
   "cell_type": "code",
   "execution_count": 7,
   "metadata": {},
   "outputs": [
    {
     "name": "stdout",
     "output_type": "stream",
     "text": [
      "3\n",
      "3\n",
      "3\n",
      "3\n"
     ]
    }
   ],
   "source": [
    "# Demonstrate we can replace any operand with one that's congruent mod m (a multiple of m away)\n",
    "# Here just for multiplication!\n",
    "\n",
    "print(multModSafe(34,36,11))   # 25 + 11\n",
    "print(multModSafe(23,36,11))   # 34 - 11\n",
    "print(multModSafe(23,47,11))   # both\n",
    "print(multModSafe(-10,135,11)) # 34 - 44, 36 + 99"
   ]
  },
  {
   "cell_type": "markdown",
   "metadata": {},
   "source": [
    "### Exponentiation mod m\n",
    "\n",
    "Watch it! This is probably the most important operation we need. The problem is to compute $$a^n\\;{\\rm mod}\\;m$$ quickly and safely.  \n",
    "\n",
    "Now for safety we use the main idea (as always): $a^n\\;{\\rm mod}\\;m = (a\\;{\\rm mod}\\;m)^n \\;{\\rm mod}\\;m.$\n",
    "1. Recursively (to demonstrate the principle)\n",
    "2. Principal iterative version with exponential speed-up\n",
    "2. How it's actually used"
   ]
  },
  {
   "cell_type": "code",
   "execution_count": 8,
   "metadata": {},
   "outputs": [],
   "source": [
    "# Just for demonstration - there are better ways to compute that\n",
    "def expModRec(a,n,m) :\n",
    "    if n == 0 : return 1\n",
    "    else      : return (a%m)*expModRec(a,n-1,m) % m"
   ]
  },
  {
   "cell_type": "code",
   "execution_count": 9,
   "metadata": {},
   "outputs": [
    {
     "data": {
      "text/plain": [
       "267"
      ]
     },
     "execution_count": 9,
     "metadata": {},
     "output_type": "execute_result"
    }
   ],
   "source": [
    "expModRec(123,456,987)"
   ]
  },
  {
   "cell_type": "markdown",
   "metadata": {},
   "source": [
    "Fast algorithm for exponentiation mod m - $a^b\\; {\\rm mod}\\; p$ \n",
    "\n",
    "Based on $a^{2k} = (a^k)^2$ (Just don't compute $a^k$ twice!"
   ]
  },
  {
   "cell_type": "code",
   "execution_count": 10,
   "metadata": {},
   "outputs": [
    {
     "ename": "SyntaxError",
     "evalue": "invalid syntax (1106593789.py, line 10)",
     "output_type": "error",
     "traceback": [
      "\u001b[1;36m  Input \u001b[1;32mIn [10]\u001b[1;36m\u001b[0m\n\u001b[1;33m    res = (res*a) mod p\u001b[0m\n\u001b[1;37m                  ^\u001b[0m\n\u001b[1;31mSyntaxError\u001b[0m\u001b[1;31m:\u001b[0m invalid syntax\n"
     ]
    }
   ],
   "source": [
    "def fastExpModManualNotGood(a,b,p) :\n",
    "    res = 1;\n",
    "    a = a % p;\n",
    "\n",
    "    if a == 0 : return 0;\n",
    "\n",
    "    while b > 0 :\n",
    "        # If b is odd, multiply a with result\n",
    "        if b % 2 == 1 :\n",
    "            res = (res*a) mod p\n",
    "        # b must be even now\n",
    "        b = b // 2;\n",
    "        a = (a*a) mod p\n",
    "    return res;"
   ]
  },
  {
   "cell_type": "markdown",
   "metadata": {},
   "source": [
    "Improved algorithm for exponentiation mod m - $a^b\\; {\\rm mod}\\; p$  \n",
    "\n",
    "The calls to \"multModSafe\" are necessary to avoid the potential overflows in these statements: \n",
    "1. <span style=\"font-family: monospace\">res = (res*a)%p</span>\n",
    "1. <span style=\"font-family: monospace\">a = (a*a)%p</span> \n",
    "\n",
    "Fast if the standard exponentiation algorithm doesn't use binary speedup"
   ]
  },
  {
   "cell_type": "code",
   "execution_count": null,
   "metadata": {},
   "outputs": [],
   "source": [
    "def fastExpModManual(a,b,p) :\n",
    "    res = 1;\n",
    "    a = a % p;\n",
    "\n",
    "    if a == 0 : return 0;\n",
    "\n",
    "    while b > 0 :\n",
    "        # If b is odd, multiply a with result\n",
    "        if b % 2 == 1 :\n",
    "            res = multModSafe(res,a,p); # res = (res*a) mod p\n",
    "        # b must be even now\n",
    "        b = b // 2;\n",
    "        a = multModSafe(a,a,p);         # a = (a*a) mod p\n",
    "    return res;"
   ]
  },
  {
   "cell_type": "code",
   "execution_count": null,
   "metadata": {},
   "outputs": [],
   "source": [
    "fastExpModManual(123,456,987)"
   ]
  },
  {
   "cell_type": "markdown",
   "metadata": {},
   "source": [
    "### The Python pow method has binary speed-up\n",
    "That's what we're going to use"
   ]
  },
  {
   "cell_type": "code",
   "execution_count": null,
   "metadata": {},
   "outputs": [],
   "source": [
    "def fastExpMod(x, e, m) :   # Just to make code \"portable\"\n",
    "    return pow(x,e,m)       # Well, this thing uses binary templates and is A LOT faster!"
   ]
  },
  {
   "cell_type": "code",
   "execution_count": null,
   "metadata": {},
   "outputs": [],
   "source": [
    "fastExpMod(123,456,987)"
   ]
  },
  {
   "cell_type": "markdown",
   "metadata": {},
   "source": [
    "### Inverting multiplication (lengthy)\n",
    "<a id='modinvert'></a>\n",
    "\n",
    "Ok, we started out trying to find something that can replace floating-point arithmetic without all the problems. We're trying to find out if and when we can **divide** in modular arithmetic. That's made a little easier if we look at a special case of division first, namely at $1/a\\;{\\rm mod}\\; m.$\n",
    "\n",
    "Solve: $a ×_m x = 1$, calling $x$ the *multiplicative inverse of $a$ mod $m$*\n",
    "written (little sloppy) $a^{-1}$ or $1/a.$\n",
    "\n",
    "\n",
    "Two questions arise, of course:\n",
    "- Does this exist?\n",
    "- If yes, how can we compute it?\n",
    "\n",
    "**Fact 1:** The multiplicative inverse of $a$ mod $m$ exists\n",
    "only if GCD(a,m) = 1, i.e. they are “relatively prime”\n",
    "\n",
    "Now that sounds a little weird, but it's actually the case. There's a deeper reason for this which we will find out in a while. First, let's look at two examples:\n",
    "\n",
    "- a = 2, m = 4, i.e. not relatively prime  \n",
    "There are just four possible values and we can try them all out: 2×0 = 0, 2×1 = 2, 2×2 = 0, 2×3 = 2 (all mod 4). Apparently none leads to a product of 1.\n",
    "\n",
    "- a = 3, m = 4, i.e. relatively prime  \n",
    "3×0 = 0, 3×1 = 3, 3×2 = 2, 3×3 = 1, and we see that 3 is its own inverse!\n",
    "\n",
    "\n",
    "**Fact 2:** If a solution to $a ×_m x = 1$ exists,\n",
    "then all numbers congruent $x$ mod $m$ are also solutions! The above example shows that we either have no or solutions or infinitely many:\n",
    "- a = 3, m = 4: …, -9, -5, -1, 3, 7, 11, 15, …\n",
    "- Example: 3×15 = 45 = 44 + 1 = 11×4 + 1 etc.\n",
    "\n",
    "Ok, how do we find one solution assuming it exists? Here's where *Bézout's identity* comes back in.\n",
    "\n",
    "So, given $a$ and $m$ there are integers $s$ and $t$ such that $as + mt = gcd(a,m).$ Now since $a$ and $m$ are relatively prime (else no inverse!) we have:\n",
    "\n",
    "$as + mt = gcd(a,m) = 1$  \n",
    "$\\rightarrow\\; as = 1-mt$  \n",
    "$\\rightarrow\\; as \\equiv 1\\; ({\\rm mod}\\; m)$  \n",
    "$\\rightarrow\\; a ×_m s = 1$  \n",
    "$\\rightarrow\\; s\\; {\\rm is\\; a\\; modular\\; inverse\\; of}\\; a$\n",
    "\n",
    "We just need to use the *Extended Euclidian Algorithm* and take one final remainder mod $m$ to make sure the result is really in the range of remainders mod $m.$\n",
    "\n",
    "\n",
    "\n",
    "\n"
   ]
  },
  {
   "cell_type": "code",
   "execution_count": null,
   "metadata": {},
   "outputs": [],
   "source": [
    "from Numbers import xgcd\n",
    "\n",
    "# Solves (a*x) = 1 mod m for x\n",
    "def modInverse(a,m) :\n",
    "    _, s, _ = xgcd(a,m)\n",
    "    return s%m\n",
    "\n",
    "modInverse(3,4)"
   ]
  },
  {
   "cell_type": "markdown",
   "metadata": {},
   "source": [
    "Now you can use the modular inverse if it exists, to divide mod a number that's relative prime to the divisor:"
   ]
  },
  {
   "cell_type": "code",
   "execution_count": null,
   "metadata": {},
   "outputs": [],
   "source": [
    "# Compute (a/b) mod p for p relative prime to be (usually p is a prime)\n",
    "# We're not testing that \n",
    "# USE AT YOUR OWN RISK!\n",
    "def divMod(a,b,p) :\n",
    "    return multMod(a,modInverse(b,p),p)"
   ]
  },
  {
   "cell_type": "code",
   "execution_count": null,
   "metadata": {},
   "outputs": [],
   "source": [
    "divMod(12,11,17)"
   ]
  },
  {
   "cell_type": "code",
   "execution_count": null,
   "metadata": {},
   "outputs": [],
   "source": [
    "# Check\n",
    "multModSafe(11,15,17)"
   ]
  },
  {
   "cell_type": "markdown",
   "metadata": {},
   "source": [
    "<a id='dlog'></a>**Discrete Logarithm: Solve $y = a^b$ mod p for b**  \n",
    "\n",
    "It's named in analogy to the (well-known?) continuous logarithm defined to be the solution $x$ to $a^x = b$. This discrete analogon is one of the interesting \"trap door\" functions that protect specific cryptographic methods - here specifically the *Diffie-Helman Key Exchange*.  \n",
    "\n",
    "Now, that's tricky! There is at the moment no efficient algorithm to do that, so here we \"brute force\" it, by trying exponentiation $y = a^b\\; {\\rm mod}\\; p$ with b = 0, 1, 2, 3, ... until it solves  \n",
    "\n",
    "Only good for small p, of course!"
   ]
  },
  {
   "cell_type": "code",
   "execution_count": null,
   "metadata": {},
   "outputs": [],
   "source": [
    "def dLog(a,p,y) :\n",
    "    b = 0\n",
    "    while fastExpMod(a,b,p) != y : # brute force\n",
    "        b += 1\n",
    "    return b"
   ]
  },
  {
   "cell_type": "code",
   "execution_count": null,
   "metadata": {},
   "outputs": [],
   "source": [
    "y = 17\n",
    "print(y)\n",
    "print(dLog(23,19,y))\n",
    "print(fastExpMod(23,5,19))"
   ]
  }
 ],
 "metadata": {
  "kernelspec": {
   "display_name": "Python 3 (ipykernel)",
   "language": "python",
   "name": "python3"
  },
  "language_info": {
   "codemirror_mode": {
    "name": "ipython",
    "version": 3
   },
   "file_extension": ".py",
   "mimetype": "text/x-python",
   "name": "python",
   "nbconvert_exporter": "python",
   "pygments_lexer": "ipython3",
   "version": "3.10.5"
  }
 },
 "nbformat": 4,
 "nbformat_minor": 2
}
