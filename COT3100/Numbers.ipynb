{
 "cells": [
  {
   "cell_type": "code",
   "execution_count": 1,
   "metadata": {},
   "outputs": [
    {
     "data": {
      "text/html": [
       "<style>\n",
       "p,li, h1, h2, h3, h4, h5 {\n",
       "\tfont-family: \"Times New Roman\", Times, serif;\n",
       "}\n",
       "</style>"
      ],
      "text/plain": [
       "<IPython.core.display.HTML object>"
      ]
     },
     "execution_count": 1,
     "metadata": {},
     "output_type": "execute_result"
    }
   ],
   "source": [
    "# Styling notebook\n",
    "from IPython.core.display import HTML\n",
    "def css_styling():\n",
    "    styles = open(\"./styles/custom.css\", \"r\").read()\n",
    "    return HTML(styles)\n",
    "css_styling()"
   ]
  },
  {
   "cell_type": "markdown",
   "metadata": {},
   "source": [
    "**Number Theory Motivation: Limited size for standard number representations**\n",
    "\n",
    "From any introductory programming course it’s well-known that the two standard number representations – for fixed and for floating point numbers – are based on the allocation of a fixed, finite amount of storage for a number. That’s usually measured in bits, such 16 bit, 32 bit, 64 bit and so on.  \n",
    "\n",
    "We know that fixed point numbers, generally called “Integers” (here with a capital “I” to distinguish them from the mathematical “integers” – the numbers in ℤ) can overflow – either by abruptly changing the sign if they are “signed” or switching from a large value to 0 if they are “unsigned”.  \n",
    "\n",
    "Floating point (“Floats”) have a limited mantissa space and limited exponent space. That results in overflow behavior and additionally rounding problems if the mantissa space isn’t sufficient.  \n",
    "\n",
    "Both aspects of these representations are theoretically and practically problematic – especially floating-point numbers show behavior that doesn’t comply with mathematical principles at all: \n",
    "1. Even rational numbers are represented in this format, meaning that as soon as a number has a “long” or infinite decimal part, it cannot be represented accurately\n",
    "1. The “normal” arithmetic rules don’t apply to Floats, at least not ideally. So, numerical stability is a severe issue  \n",
    "\n",
    "See the following examples:"
   ]
  },
  {
   "cell_type": "code",
   "execution_count": 2,
   "metadata": {},
   "outputs": [
    {
     "name": "stdout",
     "output_type": "stream",
     "text": [
      "0.333333333333333314829616256247\n"
     ]
    },
    {
     "data": {
      "text/plain": [
       "0.9999999999999998"
      ]
     },
     "execution_count": 2,
     "metadata": {},
     "output_type": "execute_result"
    }
   ],
   "source": [
    "aThird = 1/3\n",
    "print(format(aThird,\".30f\"))\n",
    "1/7/7/7/7/7/7/7*7*7*7*7*7*7*7"
   ]
  },
  {
   "cell_type": "markdown",
   "metadata": {},
   "source": [
    "The first output shows the usual “degradation” of the mantissa due to truncation. The second example shows that this degradation renders normal arithmetic laws to be approximate at best.  \n",
    "\n",
    "The standard “solution” is in general to turn to longer formats and hope for the best.\n"
   ]
  },
  {
   "cell_type": "markdown",
   "metadata": {},
   "source": [
    "**Yes, there is an Integer \"division\"**  \n",
    "\n",
    "But it's actually not a real division, since it doesn't work with multiplication as it should:\n",
    "$ {a\\over{b}}\\times b = a$  \n",
    "So, we would expect: $ {5\\over{3}}\\times 3 = 5$  \n",
    "But the Integer \"division\" gives us: $ {5\\over{3}}\\times 3 = 3$  \n"
   ]
  },
  {
   "cell_type": "code",
   "execution_count": 13,
   "metadata": {},
   "outputs": [
    {
     "name": "stdout",
     "output_type": "stream",
     "text": [
      "1\n",
      "3\n"
     ]
    }
   ],
   "source": [
    "print(5//3)\n",
    "print((5//3)*3)"
   ]
  },
  {
   "cell_type": "markdown",
   "metadata": {},
   "source": [
    "**Summary 1**  \n",
    "So, we're looking for a way to represent numbers that obeys the standard rules of arithmetic. We know Floats don't work, and Integers are too restricted.  \n",
    "\n",
    "Yes, you can add, subtract and multiply integers (ignoring overflows for the moment), these operations are\n",
    "- commutative: $m+n = n+m$ and $m\\times n = n\\times m$\n",
    "- associative: $(m+n) + o = m+(n+o)$ and $(m\\times n) \\times o = m\\times (n\\times o)$\n",
    "- distributive: $m\\times (n+o) = m\\times n + m\\times o$  \n",
    "\n",
    "Also, there are two distinguished numbers $0$ and $1$:\n",
    "- $0\\not= 1$\n",
    "- $n + 0 = n$ and $n\\times 1 = n$ (the *neutral elements* for addition and multiplication)\n",
    "\n",
    "\n",
    "Furthermore, the *additive inverse* exists which means that the equation $m + x = 0$ has a solution in the integers ($-m$)\n",
    "\n",
    "Unfortunately, the *multiplicate inverse* doesn't exist, since the equation $m\\times x = 1$ in general doesn't have an integer solution ($1/m$)\n",
    "\n",
    "*Note that the multiplicative inverse exists in the rational numbers ℚ, but that's not much help, because we want to avoid them.*\n",
    "\n",
    "Since division is the \"weak spot\" of integers, let's see how far division can bring us."
   ]
  },
  {
   "cell_type": "markdown",
   "metadata": {},
   "source": [
    "### Elementary integer algorithms 1: Division\n",
    "\n",
    "Assuming that we know how addition, subtraction and multiplication work in the integers, let's have a look how this integer \"division\" works and find out if it's really that bad.\n",
    "\n",
    "In general for integers $a$ and $b$ the expression $a/b$ has two results (and you know them already)\n",
    "\n",
    "$a/b = q$ with remainder $r$  \n",
    "$q$: quotient  \n",
    "$r$: remainder ($0 \\leq r < b$)\n",
    "\n",
    "Together: $a  = q\\times b + r, 0 \\leq r < b$\n",
    "\n",
    "\n",
    "Assuming $a$ and $b$ both being non-negative (unsigned), the following algorithm does that:"
   ]
  },
  {
   "cell_type": "code",
   "execution_count": 4,
   "metadata": {},
   "outputs": [],
   "source": [
    "# unsigned integer division algorithm \n",
    "# a,b (a >= 0, b > 0) --> (q,r), a = q*b + r and 0 <= r < b \n",
    "def intDivU(a,b) :\n",
    "    assert a >= 0 and b > 0, \"illegal args to unsigned division\"\n",
    "    q = 0\n",
    "    r = a\n",
    "    while r >= b :\n",
    "        q += 1\n",
    "        r -= b\n",
    "    return q,r"
   ]
  },
  {
   "cell_type": "code",
   "execution_count": 17,
   "metadata": {},
   "outputs": [
    {
     "data": {
      "text/plain": [
       "(311, 2634)"
      ]
     },
     "execution_count": 17,
     "metadata": {},
     "output_type": "execute_result"
    }
   ],
   "source": [
    "intDivU(1523424,4890)"
   ]
  },
  {
   "cell_type": "markdown",
   "metadata": {},
   "source": [
    "Of course, in most programming languages $q$ is the result of the integer division and $r$ is the remainder or **mod** function. So, don't ever implement this **intDivU** function!\n",
    "\n",
    "We write the remainder of $a$ under division by $b$ as $a\\;{\\rm mod}\\;b.$ In most programming languages the percent operator is used: a%b."
   ]
  },
  {
   "cell_type": "code",
   "execution_count": 18,
   "metadata": {},
   "outputs": [
    {
     "data": {
      "text/plain": [
       "(311, 2634)"
      ]
     },
     "execution_count": 18,
     "metadata": {},
     "output_type": "execute_result"
    }
   ],
   "source": [
    "1523424//4890, 1523424%4890"
   ]
  },
  {
   "cell_type": "markdown",
   "metadata": {},
   "source": [
    "We can now define what it means to say \"$a$ divides $b$\": it means the remainder of $b$ when divided by $a$ is 0:"
   ]
  },
  {
   "cell_type": "code",
   "execution_count": 20,
   "metadata": {},
   "outputs": [
    {
     "data": {
      "text/plain": [
       "True"
      ]
     },
     "execution_count": 20,
     "metadata": {},
     "output_type": "execute_result"
    }
   ],
   "source": [
    "def divides(a,b) :\n",
    "    return b%a == 0\n",
    "\n",
    "divides(6,36)"
   ]
  },
  {
   "cell_type": "markdown",
   "metadata": {},
   "source": [
    "Two numbers a and b are called \"congruent mod m\" $a\\equiv b\\; ({\\rm mod}\\; m)$ (Don't worry about the term, this \"mod\" will appear more often from now on) iff  \n",
    "- $m$ divides $(a - b)$ or \n",
    "- $a$ mod $m$ = $b$ mod $m$ ($a$ and $b$ have the same remainder under $m$)\n",
    "\n",
    "**Important:** It's pretty easy to see if two numbers are congruent given $m:$ They need to be a multiple of $m$ apart, that's all!"
   ]
  },
  {
   "cell_type": "code",
   "execution_count": 22,
   "metadata": {},
   "outputs": [
    {
     "data": {
      "text/plain": [
       "True"
      ]
     },
     "execution_count": 22,
     "metadata": {},
     "output_type": "execute_result"
    }
   ],
   "source": [
    "# congruence mod m\n",
    "def congMod(a,b,m) :\n",
    "    # return (a % m) == (b % m)\n",
    "    return (a-b)%m == 0\n",
    "\n",
    "congMod(5,38,11) # 38 - 5 = 33 which is a multiple of 11\n"
   ]
  },
  {
   "cell_type": "markdown",
   "metadata": {},
   "source": [
    "The **greatest common divisor (GCD)** of two integers, \n",
    "which are not both zero, is the largest positive integer that divides both integers.\n",
    "\n",
    "The Euclidean algorithm is based on the principle that the greatest common divisor of two numbers does not change if the larger number is replaced by its difference with the smaller number."
   ]
  },
  {
   "cell_type": "code",
   "execution_count": 9,
   "metadata": {},
   "outputs": [],
   "source": [
    "# Euclidean algorithm \n",
    "# Don't use this if you don't have to. \n",
    "#   It's built into Python\n",
    "def gcd(a,b) :\n",
    "    if a == 0 : return b\n",
    "    if b == 0 : return a \n",
    "    return gcd(b%a, a)"
   ]
  },
  {
   "cell_type": "code",
   "execution_count": 10,
   "metadata": {},
   "outputs": [
    {
     "data": {
      "text/plain": [
       "15"
      ]
     },
     "execution_count": 10,
     "metadata": {},
     "output_type": "execute_result"
    }
   ],
   "source": [
    "gcd(12345, 67890)"
   ]
  },
  {
   "cell_type": "markdown",
   "metadata": {},
   "source": [
    "### Extended Euclidean Algorithm (needed a little later)\n",
    "An extension to the Euclidean algorithm that computes, in addition to the greatest common divisor (gcd) of $a$ and $b$, also the coefficients of *Bézout's identity*, which are integers $s$ and $t$ such that \n",
    "\n",
    "$$as + bt = gcd(a,b)$$  \n",
    "Example: $a = 12, b = 30, {\\rm gcd}(12,30) = 6, s = -2, t = 1$  \n",
    "Since $12\\times (-2) + 30\\times 1 = 6$\n",
    "\n",
    "The **Extended Euclidian Algorithm** produces these coefficients together with the GCD: https://www.mauriciopoppe.com/notes/mathematics/number-theory/extended-euclidean-algorithm/\n"
   ]
  },
  {
   "cell_type": "code",
   "execution_count": 11,
   "metadata": {},
   "outputs": [],
   "source": [
    "# Extended Euclidean Algorithm\n",
    "# Returns gcd(a,b), s and t (Bezout coefficients )\n",
    "def xgcd(a,b) :\n",
    "    prevx, x = 1, 0; prevy, y = 0, 1\n",
    "    while b:\n",
    "        q = a//b\n",
    "        x, prevx = prevx - q*x, x\n",
    "        y, prevy = prevy - q*y, y\n",
    "        a, b = b, a % b\n",
    "    return a, prevx, prevy"
   ]
  },
  {
   "cell_type": "code",
   "execution_count": 12,
   "metadata": {},
   "outputs": [
    {
     "data": {
      "text/plain": [
       "(6, -2, 1)"
      ]
     },
     "execution_count": 12,
     "metadata": {},
     "output_type": "execute_result"
    }
   ],
   "source": [
    "xgcd(12,30)"
   ]
  }
 ],
 "metadata": {
  "kernelspec": {
   "display_name": "Python 3 (ipykernel)",
   "language": "python",
   "name": "python3"
  },
  "language_info": {
   "codemirror_mode": {
    "name": "ipython",
    "version": 3
   },
   "file_extension": ".py",
   "mimetype": "text/x-python",
   "name": "python",
   "nbconvert_exporter": "python",
   "pygments_lexer": "ipython3",
   "version": "3.10.5"
  }
 },
 "nbformat": 4,
 "nbformat_minor": 2
}
