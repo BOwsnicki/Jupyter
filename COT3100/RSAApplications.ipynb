{
 "cells": [
  {
   "cell_type": "code",
   "execution_count": 1,
   "id": "80039536",
   "metadata": {},
   "outputs": [
    {
     "data": {
      "text/html": [
       "<style>\n",
       "p,li, h1, h2, h3, h4, h5 {\n",
       "\tfont-family: \"Times New Roman\", Times, serif;\n",
       "}\n",
       "</style>"
      ],
      "text/plain": [
       "<IPython.core.display.HTML object>"
      ]
     },
     "execution_count": 1,
     "metadata": {},
     "output_type": "execute_result"
    }
   ],
   "source": [
    "# Styling notebook\n",
    "from IPython.core.display import HTML\n",
    "def css_styling():\n",
    "    styles = open(\"./styles/custom.css\", \"r\").read()\n",
    "    return HTML(styles)\n",
    "css_styling()"
   ]
  },
  {
   "cell_type": "markdown",
   "id": "4dcc163e",
   "metadata": {},
   "source": [
    "### Applications of RSA\n",
    "\n",
    "**Identification of an individual by challenging the private key** \n",
    "\n",
    "The main idea behind more or less all of the following is that\n",
    "1. Knowledge of a private key that \"fits\" a well-known public key is enough \"proof\" of a person's identity.\n",
    "1. This knowledge needs to be proven indirectly, i.e. without revealing the private key. That wouldn't make any sense anyway, since no one knows that private key, hence no one can possibly confirm it.\n",
    "  \n",
    "**Here's the scenario:** Satoshi and Craig (say!) are two different persons, each with their own RSA key pair.\n",
    "Everyone knows Satoshi's public key (by calling getPublic(), no problem).\n",
    "Craig pretends to be Satoshi\n",
    "  \n",
    "We pick a secret, encrypt it with Satoshi's public key, then \n",
    "let both decrypt it and see who's doing it right  \n",
    "  \n",
    "*Ignore the **signString** method for the moment - we'll deal with it in the second example*"
   ]
  },
  {
   "cell_type": "code",
   "execution_count": 8,
   "id": "096d9774",
   "metadata": {},
   "outputs": [
    {
     "name": "stdout",
     "output_type": "stream",
     "text": [
      "I know the public key of Satoshi:  Key [first: 79935432919, second: 65537]\n",
      "Challenging with 13708629754\n",
      "1234\n",
      "44710848080\n"
     ]
    }
   ],
   "source": [
    "from RSA import Key, KeyPair\n",
    "from Modular import fastExpMod\n",
    "import random\n",
    "\n",
    "class Person :\n",
    "    def __init__(self):\n",
    "        self._rsaKeys = KeyPair()\n",
    "        \n",
    "    def getPublic(self):\n",
    "        return self._rsaKeys.public\n",
    "    \n",
    "    def decrypt(self, message):\n",
    "        return self._rsaKeys.decrypt(message)\n",
    "    \n",
    "    def signString(self,string) :\n",
    "        return string, self.decrypt(len(string)) # same as encrypt with the private key\n",
    "    \n",
    "\n",
    "# Satoshi is the \"true\" one and we know the public key\n",
    "satoshi = Person()\n",
    "satoshiKey = satoshi.getPublic()\n",
    "print(\"I know the public key of Satoshi: \",satoshiKey)\n",
    "\n",
    "# Craig says he's Satoshi - so, we don't need his public key, \n",
    "# he would give us Satoshi's public key anyway (everyone knows it)\n",
    "craig = Person()\n",
    "\n",
    "# We can find out who the real Satoshi is by\n",
    "# 1. picking a secret message \"secret\"\n",
    "# 2. encrypting it with Satoshi's public key\n",
    "# 3. and asking both to decrypt it\n",
    "#\n",
    "# Only the \"true\" Satoshi will do that correctly!\n",
    "#\n",
    "secret = 1234\n",
    "\n",
    "# Use P1's public key to encrypt the secret\n",
    "challenge = fastExpMod(secret,satoshiKey.second,satoshiKey.first)\n",
    "print(\"Challenging with\",challenge)\n",
    "\n",
    "# Let both decrypt it ==> We know who is Satoshi (the one answering with the secret)\n",
    "print(satoshi.decrypt(challenge))\n",
    "print(craig.decrypt(challenge))"
   ]
  },
  {
   "cell_type": "markdown",
   "id": "5d51fb4a",
   "metadata": {},
   "source": [
    "**A sketch of digital signatures**\n",
    "\n",
    "Digital signatures are metadata that can be stored along with any \"document\" and validate that this document has been \"authored\" or \"approved\" by a specific person.\n",
    "\n",
    "The simplest mechanism relies on the fact that you can *use your private key to encrypt* and *your public key to decrypt* (opposite of normal, but we know that works)  \n",
    "  \n",
    "So a person P$_1$ (the \"author\") computes a property of the message (like a hash code, here it's just the length), and encrypts it with P$_1$'s *private* (!) key - that's the whole trick!  \n",
    "\n",
    "The receiver (or \"verifier\") can now use P$_1$'s public key to check this property and validate that P$_1$ really signed it"
   ]
  },
  {
   "cell_type": "code",
   "execution_count": 9,
   "id": "260f6f59",
   "metadata": {},
   "outputs": [
    {
     "name": "stdout",
     "output_type": "stream",
     "text": [
      "String = Hello, world! Signature = 93933982587\n",
      "Decrypted with P1's public key: 13  \t\tAuthentic:  True\n",
      "Decrypted with P2's public key: 544680566  \tAuthentic:  False\n"
     ]
    }
   ],
   "source": [
    "# Two persons with their RSA keys, public parts are known\n",
    "p1 = Person()\n",
    "p1Key = p1.getPublic()\n",
    "p2 = Person()\n",
    "p2Key = p2.getPublic()\n",
    "\n",
    "# Now P1 signs this string with length 13 encrypted with the private (!) key\n",
    "# So, the encrypted length of the string is the digital signature!\n",
    "string, signature = p1.signString(\"Hello, world!\")\n",
    "print(\"String =\",string,\"Signature =\",signature)\n",
    "\n",
    "# Now decrypt the signature with each of the public keys\n",
    "length1 = fastExpMod(signature,p1Key.second,p1Key.first)\n",
    "length2 = fastExpMod(signature,p2Key.second,p2Key.first)\n",
    "# And the authenticity is clear\n",
    "print(\"Decrypted with P1's public key:\",length1,\n",
    "      \" \\t\\tAuthentic: \",len(string) == length1)\n",
    "print(\"Decrypted with P2's public key:\",length2,\n",
    "      \" \\tAuthentic: \",len(string) == length2)"
   ]
  },
  {
   "cell_type": "markdown",
   "id": "9cf28259",
   "metadata": {},
   "source": [
    "**Now we need some moment to clarify something about this text property**  \n",
    "\n",
    "I used the length of the string as the property - for simplification purposes!  \n",
    "\n",
    "Now, that means that an attacker could abuse this scheme:  \n",
    "1. Intercept the string with the signature\n",
    "1. Replace the string with another one of the same length\n",
    "  \n",
    "This string would now appear as being signed by P$_1$, but it's not the authentic string anymore:  \n",
    "A string \"Attack at dawn\" could now be replaced with \"Attack at noon\" (note that \"Attack at night\" wouldn't work!) with possibly devastating consequences.\n",
    "  \n",
    "In fact, this scheme allows for signing, but doesn't really preserve \"authenticity\"!\n",
    "\n",
    "In practice these things go hand in hand, so we need to find a string property that's not easy to fake.  \n",
    "\n",
    "**Hashing (More in \"Algorithms and Data Structures\")**  \n",
    "\n",
    "Hashing means to assign to a data object a numerical value. Different data objects might or might not have different values. The data object itself cannot be reconstructed from this value.  \n",
    "\n",
    "Actually, the length is a kind of such a hash value, it's just not good enough to protect against faking. Strong (or \"cryptographical\") hash values make it practically impossible to find a string that has the same hash value as the authentic one. It's practically impossible to learn anything about the string given a strong hash.\n",
    "\n",
    "In this example we use a cryptographical hash library called \"SHA-256\" (Secure Hash Algorithm with a length of 256 bit). It's considered practically secure - for even more security longer hash codes can be produced.\n",
    "\n",
    "The runs show typical properties of strong hashes:\n",
    "1. Inputs that are \"close\" to each other ('John' vs 'Joan') result in very different hash codes\n",
    "1. Even longer inputs create hashes that just look random.\n",
    "\n"
   ]
  },
  {
   "cell_type": "code",
   "execution_count": 4,
   "id": "08d96359",
   "metadata": {},
   "outputs": [
    {
     "name": "stdout",
     "output_type": "stream",
     "text": [
      "a8cfcd74832004951b4408cdb0a5dbcd8c7e52d43f7fe244bf720582e05241da\n",
      "2d0f4c4eb78ce93adc09b60c696c76d0476185983c956a6f2a5bbf0afb9dbc2e\n",
      "10b6271b99876bc2b3b51d76118e5a5462043f6e92a9d6d445b01735f79042e6\n"
     ]
    }
   ],
   "source": [
    "import hashlib\n",
    "\n",
    "hash_object = hashlib.sha256(b'John')\n",
    "hex_dig = hash_object.hexdigest()\n",
    "print(hex_dig)\n",
    "\n",
    "hash_object = hashlib.sha256(b'Joan')\n",
    "hex_dig = hash_object.hexdigest()\n",
    "print(hex_dig)\n",
    "\n",
    "hash_object = hashlib.sha256(b'There now is your insular city of the Manhattoes, belted round by wharves as Indian isles by coral reefs - commerce surrounds it with her surf.')\n",
    "hex_dig = hash_object.hexdigest()\n",
    "print(hex_dig)"
   ]
  },
  {
   "cell_type": "markdown",
   "id": "cb803767",
   "metadata": {},
   "source": [
    "**Hashing for securing passwords:** You can use hash values to encode passwords:  \n",
    "1. Compute the hash for the password during sign-up\n",
    "2. For each login attempt compute the hash of the provided password and compare it to the sign-up version\n",
    "  \n",
    "Note that this is **not** foolproof, since there are definitely many strings that have the same hash code. An attacker would not have to find the correct password but any string with the same hash - that's all. These strings are called *collisions* and an attack trying to find a suiting string is called a <a href=\"https://en.wikipedia.org/wiki/Collision_attack\">*collision attack*</a>.\n",
    "\n",
    "Hashing passwords is the standard way of storing them safely. The main reason \n",
    "to hash passwords rather than encrypt them\n",
    "is that it's even theoretically impossible to recover the original from the hash code - so even if the hash is compromised, the original password isn't!\n",
    "\n",
    "Also, the necessity to safely store an encryption key in the system is more than tricky and dealt with <a href=\"https://en.wikipedia.org/wiki/Key_management\">*key management*</a> techniques."
   ]
  },
  {
   "cell_type": "code",
   "execution_count": 13,
   "id": "ee9c0099",
   "metadata": {},
   "outputs": [
    {
     "name": "stdout",
     "output_type": "stream",
     "text": [
      "4e738ca5563c06cfd0018299933d58db1dd8bf97f6973dc99bf6cdc64b5550bd is stored\n",
      "8f0e2f76e22b43e2855189877e7dc1e1e7d98c226c95db247cd1d547928334a9 is attempted\n",
      "rejected!\n"
     ]
    }
   ],
   "source": [
    "import hashlib\n",
    "\n",
    "# 1. Sign up with the password\n",
    "password = 's3cr3t' # terrible password\n",
    "hash_object = hashlib.sha256(password.encode('utf8'))\n",
    "hex_dig_original = hash_object.hexdigest()\n",
    "print(hex_dig_original,\"is stored\")\n",
    "\n",
    "attempt = 'passw0rd' # another terrible password\n",
    "hash_object = hashlib.sha256(attempt.encode('utf8'))\n",
    "hex_dig_attempt = hash_object.hexdigest()\n",
    "print(hex_dig_attempt,\"is attempted\")\n",
    "\n",
    "if hex_dig_original == hex_dig_attempt : \n",
    "    print(\"accepted!\")\n",
    "else :\n",
    "    print(\"rejected!\")"
   ]
  },
  {
   "cell_type": "markdown",
   "id": "b18a7832",
   "metadata": {},
   "source": [
    "We \"improve\" the previous example with a weak hash that just adds the decimal value of the characters together. It's still weak, but it makes it much more difficult to sneak an unauthenticated replacement in - it needs to have the same \"hash\", not be complete gibberish and express something malicious.  \n",
    "\n",
    "The reason I'm not using SHA here is that this toy implementaion of RSA cannot handle numbers that big. You certainly can work around that, by encrypting the string character character and somehow magically appending this into a value. "
   ]
  },
  {
   "cell_type": "code",
   "execution_count": 11,
   "id": "29ee2ec6",
   "metadata": {},
   "outputs": [
    {
     "name": "stdout",
     "output_type": "stream",
     "text": [
      "String = Hello, world! Signature = 27991652002\n",
      "Decrypted with P1's public key: 1161  \t\tAuthentic:  True\n",
      "Decrypted with P2's public key: 9593639908  \tAuthentic:  False\n"
     ]
    }
   ],
   "source": [
    "class SecurePerson (Person):\n",
    "    @classmethod\n",
    "    def hashStringBadly(cls,string) :\n",
    "        sum = 0\n",
    "        for c in string :\n",
    "            sum += ord(c)\n",
    "        return sum\n",
    "    \n",
    "    def signString(self,string) :\n",
    "        return string, self.decrypt(SecurePerson.hashStringBadly(string)) # same as encrypt with the private key\n",
    "    \n",
    "# Same with safe persons:\n",
    "p1 = SecurePerson()\n",
    "p1Key = p1.getPublic()\n",
    "p2 = SecurePerson()\n",
    "p2Key = p2.getPublic()\n",
    "\n",
    "string, signature = p1.signString(\"Hello, world!\")\n",
    "print(\"String =\",string,\"Signature =\",signature)\n",
    "\n",
    "# Now decrypt the signature with each of the public keys\n",
    "hash1 = fastExpMod(signature,p1Key.second,p1Key.first)\n",
    "hash2 = fastExpMod(signature,p2Key.second,p2Key.first)\n",
    "# And the authenticity is clear\n",
    "print(\"Decrypted with P1's public key:\",hash1,\n",
    "      \" \\t\\tAuthentic: \",SecurePerson.hashStringBadly(string) == hash1)\n",
    "print(\"Decrypted with P2's public key:\",hash2,\n",
    "      \" \\tAuthentic: \",SecurePerson.hashStringBadly(string) == hash2)"
   ]
  },
  {
   "cell_type": "markdown",
   "id": "d368dcd3",
   "metadata": {},
   "source": [
    "## A look at the standard RSA package in Python  \n",
    "\n",
    "Nothing too special, one little thing that's not textbook: Public and private key are NOT interchangeable! The reason is (I assume) that the decryption method checks if the cyphertext has been properly encrypted with the public key (which is a part of the private key, if I see that correctly).  \n",
    "\n",
    "That means you cannot really use it for Digital Signatures the way it was sketched, requiring a separate functionality to do that."
   ]
  },
  {
   "cell_type": "code",
   "execution_count": 14,
   "id": "4b1406de",
   "metadata": {},
   "outputs": [
    {
     "name": "stdout",
     "output_type": "stream",
     "text": [
      "PublicKey(19951795933870193438847590185398362324570905865922635322438638442729844508742680230295540887852217347225020388990393251427630317609407410286363709746727225477926865936378302453197757115546964997341573636534804493967139991206301323718201188234221442183332589802089621328046217743562672986106778697344118160158444348841928161958431735393243676733357122680589611965346179975925784305775218070333404046412866438942703090921174060337777387671135878879764719438941110536071740476738809211105360130578299592059609002348011699032066149109534760926261234438974901554337426207843180760183812740058468094681263848330580837322847, 65537) \n",
      " PrivateKey(19951795933870193438847590185398362324570905865922635322438638442729844508742680230295540887852217347225020388990393251427630317609407410286363709746727225477926865936378302453197757115546964997341573636534804493967139991206301323718201188234221442183332589802089621328046217743562672986106778697344118160158444348841928161958431735393243676733357122680589611965346179975925784305775218070333404046412866438942703090921174060337777387671135878879764719438941110536071740476738809211105360130578299592059609002348011699032066149109534760926261234438974901554337426207843180760183812740058468094681263848330580837322847, 65537, 928224145175553043243454880072014384662353967761693624946448702441114117325425820867160598853493609589836079863767170050549229265774801928118817630007038931934617303813379376227168796943752327340196499958719790379568943241039607183984549535775839254420877768383832879582723009904673542191891066230127098018385814723819785184012861657847353414945586739523143285379870770283939629862384557038816458866331799897287247423175169342051782412983295295254952409677852531926856725990176594288783438429191524063108207623741567103928576219273083105490786400963591381622683174158197977772204698694358876901297189557219814855193, 3149701763980533778991695658924796394420509295956466826123479652889738023505098497081741928767069363456974618612275947100110302696863175734951619014772587735274224180602986914548968296408515349386162215221491921733340993790358244586793089257705092888335396474101261030316735483201599659893968035743466770149803922520195106716861, 6334503209807232491459312341316547960927109510309506463348210106041016937098471551181068193930080020980027757810905521294753679768946388039528739458465898484038779793040890226588571680923023717110678847401971257161761756296766671148999289808579831264925275540912208270287767066038401591627) \n",
      "\n",
      "\n",
      "Cyphertext: b'e\\xa5\\x92\\x10\\x86\\xac\\xdf\\xad\\x8e/\\xfe\\x856\\xdd\\xe3:\\xc2)\\x1e?\\x13\\x83\\x039K*\\xb8\\xe7\\xfa\\xee\\xe2\\xff\\xef\\x0fa5 \\x90\\xc0\\xda\\xf2\\x12\\x9d\\xbf\\xd6\\xcd\\xe3\\x1e\\x88%\\x8a}\\xaf\\xcb\\xd6e\\x03MACuFP\\xeeVB\\x9b\\x17\\x1f\\xd1\\xf5\\x87X\\x92+\\xe4w\\xd7#S\\xf0\\x84\\xec\\xc5\\xebY\\xe3\\xff&\\xc1\\xbc\\x8c\\xf0\\xf3\\x8e\\x88\\xef\\x93\\x86v\\x9f9,\\x8d\\xc7tl\\xf9\\x93L\\x85%\\\\\\x85a\\xf8\\x8f\\xe7\\xca\\x9c\\xb2Yd#\\xaaF\\xef\\x87i\\xd0\\xd1o\\xa0\\xd9d\\x07\\xea\\x8a\\xe7G\\x0b\\xc77\\x1f\\xb3\\xf1\\xfcJ\\x8b\\x07\\xad\\xdcX\\xc2n\\xab`Q\\xf0\\xa7\\xe7\\x9b\\x94\\x81u\\xf56\\xb8\\x99H\\xb7\\xca\"\\xc7\\x89B\\xe4aj\\x9f\\x7fTv\\xd4\\xbd\\x17u\\xaf=\\x89\\x8d\\xdcE^\\x8fr\\xbc\\xa7\\xdf\\x190\\x97\\xba\\'\\x85\\xb4\\x89\\x92e\\xff\\xd4\\xfe\\x04\\x16{\\x9d\\x89#\\xb6e=\\xb7_\\x13r\\xf4\\xd2\\xb3\\xed\\xb5\\xc5\\xa6\\xda\\x1f\\x17d\\xfa\\xf9K\\xaf\\xce\\x86\\x14d\\x03\\xc7\\xa5\\x83\\x96\\x9f\\x97\\xce?\\xb1O?'\n",
      "Hello, World! \n",
      "\n",
      "\n",
      "Signature: b\"4\\xae^\\x0cJ}\\xe4\\xf6\\xf3%\\x88\\x85\\x04\\xc7\\nSiA\\x89\\xea\\x8a5\\xb1\\x1a\\xcbL\\x94!\\xbd ^.}i5:\\xc79\\x9c\\x1fV\\xc6Aju8\\xcak9\\x9b\\xe4\\x99\\xd90>'hI\\x02\\xdf\\xc9'\\x01\\x0324\\x14\\t\\xaaI2\\x9d'\\x1d,\\xdd\\x94\\xe5\\xc3\\xd6\\x97O\\xc63\\xa0\\x9d\\x17?,m\\t`\\xd1g7\\x7f3L\\xb4\\xb1\\xb6\\xee\\xa8\\xea\\x91\\xc6\\xfb\\x9a\\xbc\\xab\\xc7\\xb7\\xca\\x16\\x05L\\xac!!\\x16\\x99\\xc8LM$J\\x16\\x058no@\\x18v\\x00\\xb5\\x0e\\x00\\xfc\\xb3\\xb2\\xaa\\xea\\xf8u[\\xbf\\xf0\\xec\\x19+\\xfb+^\\xaa\\xc1\\x13o\\xc3\\xf1\\xa2\\x0e$\\x11\\xa2\\x0eG\\x1c\\x17t\\xca;\\x9a\\xeal\\x9a\\xc6[\\xdc\\x04I\\x85;;\\xcb\\x08\\xea]#\\x054g\\xa0\\x0e\\xce\\xe7\\xba\\x16\\xa9\\xd3(\\xb6f\\xa7\\xba\\xa8c\\xf1kAcZ\\x86&\\x16\\xaa\\xa0\\x85\\xcf31\\x01C?\\x84\\x8c\\xc0o:S\\xf8!\\x8c\\xc9v\\xef\\xdc\\xcc\\xc4\\xbd\\xb5\\x01\\x9b`\\x0e\\xc1\\xad\\x1d\\xf16\\xd3O\\x17\\x86\\xa2\\xf3\" \n",
      "Verified as SHA-256\n",
      "Invalid signature\n"
     ]
    }
   ],
   "source": [
    "import rsa\n",
    "\n",
    "# Basic RSA encryption/decryption\n",
    "\n",
    "# Key pair generation\n",
    "(pubkey, privkey) = rsa.newkeys(2048) # Pick 2048 bit key length\n",
    "print(pubkey,\"\\n\",privkey,\"\\n\\n\")\n",
    "\n",
    "# Encryption/Decryption\n",
    "message = 'Hello, World!'.encode('utf8')\n",
    "crypto = rsa.encrypt(message, pubkey)\n",
    "print(\"Cyphertext:\",crypto)\n",
    "decrypt = rsa.decrypt(crypto, privkey)\n",
    "print(message.decode('utf8'),\"\\n\\n\")\n",
    "\n",
    "# Digital signature is extra, because (apparently) public and private key are not interchangeable\n",
    "# Important is that the message is signed with the private key (as it should)\n",
    "signature = rsa.sign(message, privkey, 'SHA-256')\n",
    "\n",
    "# Verify with the public key!\n",
    "print(\"Signature:\",signature,\"\\nVerified as\",rsa.verify(message, signature, pubkey))\n",
    "\n",
    "# Wrong signature: Have to catch the exception (OHHH-KAYYY)\n",
    "signature = \"12345\".encode('utf-8')\n",
    "try:\n",
    "    print(\"Signature:\",signature,\"\\nVerified as\",rsa.verify(message, signature, pubkey))\n",
    "except rsa.VerificationError:\n",
    "    print(\"Invalid signature\")\n"
   ]
  },
  {
   "cell_type": "markdown",
   "id": "f410b81b",
   "metadata": {},
   "source": [
    "**Here's the improved Person - not a subclass, since it redefines everything**"
   ]
  },
  {
   "cell_type": "code",
   "execution_count": 15,
   "id": "6961a1e9",
   "metadata": {},
   "outputs": [],
   "source": [
    "import rsa\n",
    "\n",
    "class SecurestPerson :\n",
    "    def __init__(self):\n",
    "        (self._pubkey, self._privkey) = rsa.newkeys(2048)\n",
    "        \n",
    "    def getPublic(self):\n",
    "        return self._pubkey\n",
    "    \n",
    "    def decrypt(self, message):\n",
    "        return rsa.decrypt(message,self._privkey)\n",
    "    \n",
    "    def signString(self,string) :\n",
    "        return string, rsa.sign(string, self._privkey, 'SHA-256')"
   ]
  },
  {
   "cell_type": "markdown",
   "id": "b5dfb787",
   "metadata": {},
   "source": [
    "**That's now the Satoshi example again**  \n",
    "\n",
    "Slightly recoded to fit the RSA API, but really essentiaqlly the same!"
   ]
  },
  {
   "cell_type": "code",
   "execution_count": 16,
   "id": "55b81d8e",
   "metadata": {},
   "outputs": [
    {
     "name": "stdout",
     "output_type": "stream",
     "text": [
      "I know the public key of Satoshi:  PublicKey(16402014677862766688798580147641488147505729345300840973490840596700887160956662690419884866733058852162936640111719502365323270221253655786074239329157067735943523089182169186198836974775567059352741144346171943729010112387123927779231869006250966800276174769324910008577041802332117608339904615523893652750274176121348034302257126977840189665566935993625034566072890310906741223745729443461493336850411803667477706156564698334626549041092842794871633374165344706581199111941938820988969884910056298466671827792349673265157282520589647000830696481521565854471870227596780997805141951177270169629698429268385099138943, 65537)\n",
      "Challenging with b\"n\\xcal\\x00\\xd8 Pk^\\x03\\\\O\\x01\\x95\\xc9\\xbdS\\xe6\\xb1\\x9ajH,\\xce\\x9cm\\x880\\xdbzd\\x86\\xbbF#Ym\\xbf`\\xf3l\\xe5\\xc8\\xdd0h\\xf6g\\xf7\\xe8\\xaa\\xca\\xbfak\\xa7+\\xc1\\x04\\xefU\\xb9\\xf27V\\xbd\\xc5X\\x95\\xd6\\x11\\xfe\\x84'\\x14/Oq(Ju;\\xcf\\xf4CT\\x9e\\x95\\x8f]0\\x0b\\x8a\\x00\\xbc{\\x90\\xeeg\\xf2\\xc9\\x1cH\\xb1\\x1b\\xa3\\xdd\\x01V\\xd9\\x13\\xfb$?\\x918\\x97\\xa6\\xd3%\\xc5\\x94\\xb8K\\x83\\x04T\\x1b9\\x10)\\x08*5r\\xa2&\\xc18\\xa5\\xcdC\\x0f\\xa9\\xa9{\\t\\x14\\xe9}\\xd3\\xdd\\xcf\\x19\\xc3D\\xb5\\xd0\\xd5\\x12\\xb1\\xe1\\xe6\\xcc\\xbd;\\xf0R\\x86v\\x1a\\x9b\\xe8\\xbf\\x13#\\xa5\\xdfs\\x01\\xf7\\x82G\\xd4\\x0f:D\\xae]5c\\x9e\\x8fI>,#\\xea\\xd1\\xef\\x06;\\x19\\x88C\\xf8\\xa7\\xb8\\x80\\x80\\xfes\\x11!\\xc1\\xaf\\xd3\\x1a\\xff\\x8eS\\x04\\x17\\xf2P\\x95Z3\\xae nI\\xfd\\x9c\\xef\\x8c\\xfa\\xd5\\xbfB\\x9e\\xaaZ\\xfd\\x89\\xf1i+B\\xd5L:\\x8b\\xa6\\xda\\xa0\"\n",
      "1234\n",
      "Craig cannot decrypt!\n"
     ]
    }
   ],
   "source": [
    "import rsa\n",
    "\n",
    "# Satoshi\n",
    "satoshi = SecurestPerson()\n",
    "satoshiKey = satoshi.getPublic()\n",
    "print(\"I know the public key of Satoshi: \",satoshiKey)\n",
    "\n",
    "# Craig\n",
    "craig = SecurestPerson()\n",
    "\n",
    "# Secret message\n",
    "secret = \"1234\".encode('utf8')\n",
    "\n",
    "# Use P1's public key to encrypt the secret\n",
    "challenge = rsa.encrypt(secret, satoshiKey)\n",
    "print(\"Challenging with\",challenge)\n",
    "\n",
    "# Let both decrypt it ==> We know who is Satoshi (the one answering with the secret)\n",
    "try:\n",
    "    print(satoshi.decrypt(challenge).decode('utf8'))\n",
    "except rsa.DecryptionError :\n",
    "    print(\"Satoshi cannot decrypt!\")\n",
    "try:\n",
    "    print(craig.decrypt(challenge).decode('utf8'))\n",
    "except rsa.DecryptionError :\n",
    "    print(\"Craig cannot decrypt!\")\n"
   ]
  }
 ],
 "metadata": {
  "kernelspec": {
   "display_name": "Python 3 (ipykernel)",
   "language": "python",
   "name": "python3"
  },
  "language_info": {
   "codemirror_mode": {
    "name": "ipython",
    "version": 3
   },
   "file_extension": ".py",
   "mimetype": "text/x-python",
   "name": "python",
   "nbconvert_exporter": "python",
   "pygments_lexer": "ipython3",
   "version": "3.10.4"
  }
 },
 "nbformat": 4,
 "nbformat_minor": 5
}
