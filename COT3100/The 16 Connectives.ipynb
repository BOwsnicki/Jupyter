{
 "cells": [
  {
   "cell_type": "code",
   "execution_count": 1,
   "id": "d992b446",
   "metadata": {},
   "outputs": [],
   "source": [
    "class The16:\n",
    "    @classmethod\n",
    "    def f1(cls,p,q): return True\n",
    "    @classmethod\n",
    "    def f2(cls,p,q): return p or q\n",
    "    @classmethod\n",
    "    def f3(cls,p,q): return (not q) or p\n",
    "    @classmethod\n",
    "    def f4(cls,p,q): return p\n",
    "    @classmethod \n",
    "    def f5(cls,p,q): return (not p) or q\n",
    "    @classmethod\n",
    "    def f6(cls,p,q): return q\n",
    "    @classmethod\n",
    "    def f7(cls,p,q): return (p == q)\n",
    "    @classmethod\n",
    "    def f8(cls,p,q): return p and q\n",
    "    @classmethod\n",
    "    def f9(cls,p,q): return not (p and q)\n",
    "    @classmethod\n",
    "    def f10(cls,p,q): return (p != q)\n",
    "    @classmethod\n",
    "    def f11(cls,p,q): return (not q)\n",
    "    @classmethod\n",
    "    def f12(cls,p,q): return not cls.f5(p,q)\n",
    "    @classmethod\n",
    "    def f13(cls,p,q): return (not p)\n",
    "    @classmethod\n",
    "    def f14(cls,p,q): return not cls.f3(p,q)\n",
    "    @classmethod\n",
    "    def f15(cls,p,q): return not (p or q)\n",
    "    @classmethod\n",
    "    def f16(cls,p,q): return False\n",
    "    \n",
    "    @classmethod\n",
    "    def asChar(cls,b):\n",
    "        return 'T' if b else 'F'\n",
    "\n",
    "    @classmethod\n",
    "    def main(cls):\n",
    "        for p in [True,False]:\n",
    "            for q in [True,False]:\n",
    "                    print(The16.asChar(p) + \" \" + The16.asChar(q) + \"  \",end=\"\")\n",
    "                    print(The16.asChar(The16.f1(p,q)) + \" \", end=\"\")\n",
    "                    print(The16.asChar(The16.f2(p,q)) + \" \", end=\"\")\n",
    "                    print(The16.asChar(The16.f3(p,q)) + \" \", end=\"\")\n",
    "                    print(The16.asChar(The16.f4(p,q)) + \" \", end=\"\")\n",
    "                    print(The16.asChar(The16.f5(p,q)) + \" \", end=\"\")\n",
    "                    print(The16.asChar(The16.f6(p,q)) + \" \", end=\"\")\n",
    "                    print(The16.asChar(The16.f7(p,q)) + \" \", end=\"\")\n",
    "                    print(The16.asChar(The16.f8(p,q)) + \" \", end=\"\")\n",
    "                    print(The16.asChar(The16.f9(p,q)) + \" \", end=\"\")\n",
    "                    print(The16.asChar(The16.f10(p,q)) + \" \", end=\"\")\n",
    "                    print(The16.asChar(The16.f11(p,q)) + \" \", end=\"\")\n",
    "                    print(The16.asChar(The16.f12(p,q)) + \" \", end=\"\")\n",
    "                    print(The16.asChar(The16.f13(p,q)) + \" \", end=\"\")\n",
    "                    print(The16.asChar(The16.f14(p,q)) + \" \", end=\"\")\n",
    "                    print(The16.asChar(The16.f15(p,q)) + \" \", end=\"\")\n",
    "                    print(The16.asChar(The16.f16(p,q)) + \" \")"
   ]
  },
  {
   "cell_type": "code",
   "execution_count": 2,
   "id": "ade5f3a9",
   "metadata": {},
   "outputs": [
    {
     "name": "stdout",
     "output_type": "stream",
     "text": [
      "T T  T T T T T T T T F F F F F F F F \n",
      "T F  T T T T F F F F T T T T F F F F \n",
      "F T  T T F F T T F F T T F F T T F F \n",
      "F F  T F T F T F T F T F T F T F T F \n"
     ]
    }
   ],
   "source": [
    "The16.main()"
   ]
  }
 ],
 "metadata": {
  "kernelspec": {
   "display_name": "Python 3 (ipykernel)",
   "language": "python",
   "name": "python3"
  },
  "language_info": {
   "codemirror_mode": {
    "name": "ipython",
    "version": 3
   },
   "file_extension": ".py",
   "mimetype": "text/x-python",
   "name": "python",
   "nbconvert_exporter": "python",
   "pygments_lexer": "ipython3",
   "version": "3.10.4"
  }
 },
 "nbformat": 4,
 "nbformat_minor": 5
}
