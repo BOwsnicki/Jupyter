{
 "cells": [
  {
   "cell_type": "code",
   "execution_count": 8,
   "id": "c66b10e3",
   "metadata": {},
   "outputs": [
    {
     "name": "stdout",
     "output_type": "stream",
     "text": [
      "176\n",
      "-35\n"
     ]
    }
   ],
   "source": [
    "s = 0\n",
    "for i in range(1,12) :\n",
    "    s += (3*i - 2)\n",
    "print(s)\n",
    "\n",
    "s = 0\n",
    "for i in range(1,11) :\n",
    "    s += (-i + 2)\n",
    "print(s)"
   ]
  },
  {
   "cell_type": "markdown",
   "id": "9272b16e",
   "metadata": {},
   "source": [
    "$$A \\times (B \\cup C) = (A\\times B) \\cup (A \\times C)$$"
   ]
  }
 ],
 "metadata": {
  "kernelspec": {
   "display_name": "Python 3 (ipykernel)",
   "language": "python",
   "name": "python3"
  },
  "language_info": {
   "codemirror_mode": {
    "name": "ipython",
    "version": 3
   },
   "file_extension": ".py",
   "mimetype": "text/x-python",
   "name": "python",
   "nbconvert_exporter": "python",
   "pygments_lexer": "ipython3",
   "version": "3.10.5"
  }
 },
 "nbformat": 4,
 "nbformat_minor": 5
}
