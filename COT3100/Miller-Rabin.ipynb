{
 "cells": [
  {
   "cell_type": "code",
   "execution_count": 1,
   "id": "b9fcab0f",
   "metadata": {},
   "outputs": [
    {
     "data": {
      "text/html": [
       "<style>\n",
       "p,li, h1, h2, h3, h4, h5 {\n",
       "\tfont-family: \"Times New Roman\", Times, serif;\n",
       "}\n",
       "</style>"
      ],
      "text/plain": [
       "<IPython.core.display.HTML object>"
      ]
     },
     "execution_count": 1,
     "metadata": {},
     "output_type": "execute_result"
    }
   ],
   "source": [
    "# Styling notebook\n",
    "from IPython.core.display import HTML\n",
    "def css_styling():\n",
    "    styles = open(\"./styles/custom.css\", \"r\").read()\n",
    "    return HTML(styles)\n",
    "css_styling()"
   ]
  },
  {
   "cell_type": "markdown",
   "id": "3e67caf8",
   "metadata": {},
   "source": [
    "### Primality Testing\n",
    "\n",
    "This section sketches an interesting idea of an algorithm that takes an integer as input and returns **True** if it's a prime number or **False** if it isn't (meaning, it's composite).\n",
    "\n",
    "Of course there are again *brute-force* methods to do that, by checking if the input $p$ is even (which makes it composite, assuming it's greater than 2) and else dividing it by every odd number up to $\\sqrt p.$ If any division leaves a zero remainder, $p$ is composite.\n",
    "\n",
    "This is nice for small inputs, but as soon as we get to larger numbers it \n",
    "will become very tedious. \n",
    "\n",
    "Are there better ways? Yep!\n",
    "\n",
    "**Fermat's Little Theorem and the Miller-Rabin Primality Test**  \n",
    "\n",
    "*Fermat's Little Theorem:* If $p$ is prime, then $a^{p-1} \\equiv 1 \\pmod{p},$ where $1\\leq a < p.$   \n",
    "\n",
    "(Proof: https://primes.utm.edu/notes/proofs/FermatsLittleTheorem.html)\n",
    "\n",
    "It might not look like that, but we can use it to develop a pretty efficient primality tester - we just need to \"cheat\" a little.\n",
    "\n",
    "Why cheat? Well, note that the theorem assumes that $p$ is prime, so it's not immediately clear how we can use it to deduce primality!\n",
    "\n",
    "This first version of the so-called *Miller-Rabin Primality Test* is done by using the converse of this condition - which we all know (?) is not correct. But let's try it anyway and see what goes wrong!\n",
    "\n",
    "All we do is to randomly pick a value for $a$ and see what happens with $a^{p-1}\\;{\\rm mod}\\; p.$ Maybe it's 1, maybe it isn't."
   ]
  },
  {
   "cell_type": "code",
   "execution_count": 2,
   "id": "a213c440",
   "metadata": {},
   "outputs": [
    {
     "name": "stdout",
     "output_type": "stream",
     "text": [
      "267\n"
     ]
    }
   ],
   "source": [
    "import random\n",
    "from Modular import fastExpMod\n",
    "\n",
    "def miller_rabin_1(p) :\n",
    "    a = random.randrange(2,p - 1)\n",
    "    return fastExpMod(a,p-1,p) == 1"
   ]
  },
  {
   "cell_type": "code",
   "execution_count": 3,
   "id": "9c075a2c",
   "metadata": {},
   "outputs": [
    {
     "data": {
      "text/plain": [
       "True"
      ]
     },
     "execution_count": 3,
     "metadata": {},
     "output_type": "execute_result"
    }
   ],
   "source": [
    "# If p is a prime, then the test correctly always returns True\n",
    "# because that's exactly what the Little Fermat says\n",
    "#\n",
    "miller_rabin_1(342833) # That's a prime numbeer!"
   ]
  },
  {
   "cell_type": "code",
   "execution_count": 4,
   "id": "fcfa2fe7",
   "metadata": {},
   "outputs": [
    {
     "name": "stdout",
     "output_type": "stream",
     "text": [
      "False\n"
     ]
    }
   ],
   "source": [
    "# The tricky part is a composite input value. \n",
    "# In this case the test can fail, if it stumbles on a value of a \n",
    "# which gives a 1. Interestingly enough that doesn't happen too often!\n",
    "#\n",
    "# 175598789 = 5437 * 32297 (thus composite)\n",
    "#\n",
    "print(miller_rabin_1(175598789)) # Generally says False"
   ]
  },
  {
   "cell_type": "markdown",
   "id": "c3d6fc0e",
   "metadata": {},
   "source": [
    "**Test Failures**\n",
    "\n",
    "Let's have a closer look at why this test can fail. It fails in case of a composite input whenever the algorithm picks a value of $a$ such that $a^{p-1} \\equiv 1 \\pmod{p}.$ This can of course happen, since primality of $p$ is sufficient, but not necessary.\n",
    "\n",
    "In other words, $p$ might be composite, but an unlucky choice of $a$ might suggest it's prime.\n",
    "\n",
    "- A value of $a$ such that $a^{p-1} \\not\\equiv 1 \\pmod{p}$ for a composite $p$\n",
    "is called a *Fermat Witness*.\n",
    "- A value of $a$ such that $a^{p-1} \\equiv 1 \\pmod{p}$ for a composite $p$\n",
    "is called a *Fermat Liar.* \n"
   ]
  },
  {
   "cell_type": "code",
   "execution_count": 5,
   "id": "6b0e53ee",
   "metadata": {},
   "outputs": [
    {
     "name": "stdout",
     "output_type": "stream",
     "text": [
      "1\n"
     ]
    }
   ],
   "source": [
    "# Now if the algorithm had picked a = 157706252, \n",
    "# the test would have answered True\n",
    "# because the right side of the theorem would be satisfied:\n",
    "#\n",
    "a = 157706252 # Fermat Liar\n",
    "p = 175598789 # Composite!\n",
    "print(fastExpMod(a,p-1,p)) "
   ]
  },
  {
   "cell_type": "markdown",
   "id": "25b55bed",
   "metadata": {},
   "source": [
    "**Repetition Legitimizes** (Adam Neely)\n",
    "\n",
    "We don't really know a lot about \"Fermat Liars\", but we can assume that the test fails for composite numbers in a certain ratio of cases: $r = {n_{\\rm fail} \\over n_{\\rm total}} < 1.$\n",
    "\n",
    "Since this version of the Miller-Rabin Test is not reliably correct, we can use a classical trick, namely to run it a couple of times. We know:\n",
    "- If the test returns **False**, the number $p$ is certainly composite.\n",
    "- If the test returns **True**, it's not clear if it's prime or composite.\n",
    "\n",
    "Assume now that just one of the many executions of this test return \"False\". That would mean that the number actually **is** composite (else we wouldn't have a **False** at all) and all the **True** results are caused by liars. Unlikely and certainly weird, but not impossible.\n",
    "\n",
    "Assume now that all executions of the test return **True**. \n",
    "\n",
    "If $p$ actually **is** composite, then *all* results are generated by liars. Also, not impossible. \n",
    "\n",
    "Assuming the failure rate $r$ from above, that would mean that after $n$ executions which all (falsely) returned **True** the ratio of total failures would now be $r^n$ which is getting smaller when $n$ increases. \n",
    "\n",
    "So, a large number of runs which all return **True** makes it more and more unlikely that they're all liars.\n",
    "\n",
    "We would need a deeper analysis of the problem of Fermat Liars in order to get to a better estimate about the reliability of the modified test, so let's just state the main result: \n",
    "\n",
    "<span style=\"color:blue\">**The probability that the Miller-Rabin Test fails after $n$ executions is $\\leq 1/{2^n}.$**</span>\n",
    "\n",
    "In summary, this makes the quality of the test a matter of *probability*, not *strict provability*."
   ]
  },
  {
   "cell_type": "code",
   "execution_count": 6,
   "id": "437545a6",
   "metadata": {},
   "outputs": [],
   "source": [
    "def miller_rabin(p,n) :\n",
    "    # Execute the basic test n times or until it returns False\n",
    "    result = miller_rabin_1(p)\n",
    "    count = 1\n",
    "    while count < n and result == True :\n",
    "        result = miller_rabin_1(p)\n",
    "        count += 1\n",
    "    # Assert: count >= n OR result == False\n",
    "    return result\n",
    "    "
   ]
  },
  {
   "cell_type": "code",
   "execution_count": 7,
   "id": "999df2d5",
   "metadata": {},
   "outputs": [
    {
     "name": "stdout",
     "output_type": "stream",
     "text": [
      "True\n",
      "False\n"
     ]
    }
   ],
   "source": [
    "print(miller_rabin(342833,100))       # Prime\n",
    "print(miller_rabin(175598789,100))    # Composite"
   ]
  },
  {
   "cell_type": "markdown",
   "id": "a1fb624b",
   "metadata": {},
   "source": [
    "**A last word**\n",
    "\n",
    "Miller-Rabin provides a useful example of a *probabilistic algorithm*, that is an algorithm whose measure of correctness is based on probabilities, rather than logical reasoning.\n",
    "For a long time it was unclear if there is a *non-probabilistic, correct* and *efficient* primality testing algorithm. Specifically, the notion of \"efficient\" needs to be clarified before even thinking about that.\n",
    "\n",
    "This ended in 2002 with the publication of the [Agrawal–Kayal–Saxena primality test](https://en.wikipedia.org/wiki/AKS_primality_test), short AKS primality test. It showed that primality testing can be done efficiently - unfortunately it's a little too complicated to be included here. "
   ]
  }
 ],
 "metadata": {
  "kernelspec": {
   "display_name": "Python 3 (ipykernel)",
   "language": "python",
   "name": "python3"
  },
  "language_info": {
   "codemirror_mode": {
    "name": "ipython",
    "version": 3
   },
   "file_extension": ".py",
   "mimetype": "text/x-python",
   "name": "python",
   "nbconvert_exporter": "python",
   "pygments_lexer": "ipython3",
   "version": "3.10.5"
  }
 },
 "nbformat": 4,
 "nbformat_minor": 5
}
