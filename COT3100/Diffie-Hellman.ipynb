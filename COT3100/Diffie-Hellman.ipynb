{
 "cells": [
  {
   "cell_type": "code",
   "execution_count": 4,
   "metadata": {},
   "outputs": [
    {
     "data": {
      "text/html": [
       "<style>\n",
       "p,li, h1, h2, h3, h4, h5 {\n",
       "\tfont-family: \"Times New Roman\", Times, serif;\n",
       "}\n",
       "</style>"
      ],
      "text/plain": [
       "<IPython.core.display.HTML object>"
      ]
     },
     "execution_count": 4,
     "metadata": {},
     "output_type": "execute_result"
    }
   ],
   "source": [
    "# Styling notebook\n",
    "from IPython.core.display import HTML\n",
    "def css_styling():\n",
    "    styles = open(\"./styles/custom.css\", \"r\").read()\n",
    "    return HTML(styles)\n",
    "css_styling()"
   ]
  },
  {
   "cell_type": "markdown",
   "metadata": {},
   "source": [
    "### Key Exchange (Diffie-Hellman) ###\n",
    "Alice and Bob publicly agree to use numbers $p = 23$ and $g = 5$ (fixed here)    \n",
    "Alice: chooses secret integer a, sends Bob $A = g^a\\: {\\rm mod}\\: p$  \n",
    "Bob: chooses secret integer b, sends Alice $B = g^b\\:  {\\rm mod}\\: p$  \n",
    "Alice: computes $s = B^a\\: {\\rm mod}\\: p\\: \\leftarrow$ Shared secret  \n",
    "Bob: computes $s = A^b\\:  {\\rm mod}\\: p\\: \\leftarrow$ Shared secret\n",
    "\n",
    "Why? From Bob's side: $A^b {\\rm mod}\\; p = g^{ab} {\\rm mod}\\; p = g^{ba} {\\rm mod}\\; p = B^a {\\rm mod}\\; p$\n"
   ]
  },
  {
   "cell_type": "code",
   "execution_count": 5,
   "metadata": {},
   "outputs": [
    {
     "name": "stdout",
     "output_type": "stream",
     "text": [
      "Alice and Bob agree on g = 5 and p = 23\n",
      "Alice sends A: 12\n",
      "Bob sends B: 9\n",
      "Alice knows 2\n",
      "Bob knows 2\n"
     ]
    }
   ],
   "source": [
    "import random\n",
    "from Modular import fastExpMod\n",
    "\n",
    "# Alice and Bob publicly agree to use numbers p = 23 and g = 5.\n",
    "g = 5\n",
    "p = 23\n",
    "print('Alice and Bob agree on g =',g,'and p =',p)\n",
    "\n",
    "# Alice: chooses secret integer a, sends Bob A = g^a mod p\n",
    "a = random.randrange(3,100)\n",
    "A = fastExpMod(g,a,p)\n",
    "print('Alice sends A:',A)\n",
    "\n",
    "# Bob: chooses secret integer b, sends Alice B = g^b mod p\n",
    "b = random.randrange(3,100)\n",
    "B = fastExpMod(g,b,p)\n",
    "print('Bob sends B:',B)\n",
    "\n",
    "# Alice: computes s = B^a mod p\n",
    "sAlice = fastExpMod(B,a,p)\n",
    "print('Alice knows',sAlice)\n",
    "\n",
    "# Bob: computes s = A^b mod p\n",
    "sBob = fastExpMod(A,b,p)\n",
    "print('Bob knows',sBob)"
   ]
  },
  {
   "cell_type": "markdown",
   "metadata": {},
   "source": [
    "## Breaking Diffie-Hellman ##\n",
    "Scenarion: An eavesdropper can only hear <span style=\"color:blue\">g, p, A, B</span>. This is how the secret $s$ can be recomputed from that:\n",
    "\n",
    "1. Solve (for $b$) the *Discrete Logarithm Problem* <span style=\"color:blue\">$B = g^b\\: {\\rm mod}\\: p$</span> (or symmetric for $A = g^a\\: {\\rm mod}\\: p$) \n",
    "That's not as easy as it looks - we have a solution that uses brute force in the [Modular Notebook](Modular.ipynb#dlog).\n",
    "1. Compute <span style=\"color:blue\">$s = A^b\\: {\\rm mod}\\: p$</span> with the $b$ you just found"
   ]
  },
  {
   "cell_type": "code",
   "execution_count": 6,
   "metadata": {},
   "outputs": [],
   "source": [
    "from Modular import fastExpMod, dLog\n",
    "\n",
    "def breakDH(g,p,A,B) :\n",
    "    return fastExpMod(A,dLog(g,p,B),p)"
   ]
  },
  {
   "cell_type": "code",
   "execution_count": 8,
   "metadata": {},
   "outputs": [
    {
     "data": {
      "text/plain": [
       "2"
      ]
     },
     "execution_count": 8,
     "metadata": {},
     "output_type": "execute_result"
    }
   ],
   "source": [
    "breakDH(5,23,12,9)"
   ]
  }
 ],
 "metadata": {
  "kernelspec": {
   "display_name": "Python 3 (ipykernel)",
   "language": "python",
   "name": "python3"
  },
  "language_info": {
   "codemirror_mode": {
    "name": "ipython",
    "version": 3
   },
   "file_extension": ".py",
   "mimetype": "text/x-python",
   "name": "python",
   "nbconvert_exporter": "python",
   "pygments_lexer": "ipython3",
   "version": "3.10.5"
  }
 },
 "nbformat": 4,
 "nbformat_minor": 2
}
