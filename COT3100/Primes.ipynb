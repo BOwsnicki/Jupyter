{
 "cells": [
  {
   "cell_type": "code",
   "execution_count": 2,
   "metadata": {},
   "outputs": [
    {
     "data": {
      "text/html": [
       "<style>\n",
       "p,li, h1, h2, h3, h4, h5 {\n",
       "\tfont-family: \"Times New Roman\", Times, serif;\n",
       "}\n",
       "</style>"
      ],
      "text/plain": [
       "<IPython.core.display.HTML object>"
      ]
     },
     "execution_count": 2,
     "metadata": {},
     "output_type": "execute_result"
    }
   ],
   "source": [
    "# Styling notebook\n",
    "from IPython.core.display import HTML\n",
    "def css_styling():\n",
    "    styles = open(\"./styles/custom.css\", \"r\").read()\n",
    "    return HTML(styles)\n",
    "css_styling()"
   ]
  },
  {
   "cell_type": "markdown",
   "metadata": {},
   "source": [
    "### Prime numbers\n",
    "\n",
    "Prime numbers are some of the most \"elementary\" integers in the sense that any integer is somehow composed of primes. They also play a decisive role in today's cryptography - generally since they facilitate \"complete arithmetic\" by allowing all four arithmetic operations (addition, subtraction, multiplication and division) when used creatively.\n",
    "\n",
    "There are a lot of questions as far as prime numbers are concerned:\n",
    "- Are the infinitely many? (Yes)\n",
    "- How can I find out if a number is prime? (It's complicated)\n",
    "- How can I generate prime numbers? (Also complicated, but there is a simple way that just takes a lot of time)\n",
    "\n",
    "Testing if a number is prime is not overly important for the rest of this module, so it's going to be skipped for the moment. In case you're curious please refer to the \"Miller-Rabin\" section.\n",
    "\n",
    "We start with the last problem which has a solution dating back to around 200 B.C.\n",
    "\n",
    "**Prime Generation with the \"Sieve of Eratosthenes\"**  \n",
    "\n",
    "A relatively simple iterative process, that starts with a list of integers and successively crosses out all composite numbers up to a given value $n:$\n",
    "\n",
    "1. Start with $k=2.$ In the next steps find the next $k$ that is not crossed out (that's a prime)\n",
    "1. If $k > \\sqrt{n},$ we're done - nothing more to cross out\n",
    "1. Cross out all multiples of $k$ up to the limit $n.$\n",
    "1. Find the next $k$ that is not crossed out (that's a prime) and continue with that.\n",
    "\n",
    "Standard implementation over a boolean array (**True** means \"it's a prime\"). Initialize to all **True** and set any multiple of $k$ to **False**. What remains **True** to the end are the primes."
   ]
  },
  {
   "cell_type": "code",
   "execution_count": 3,
   "metadata": {},
   "outputs": [],
   "source": [
    "def sieve(n) :\n",
    "    sieve = [True for i in range(n + 1)]\n",
    "    k = 2\n",
    "    while (k * k <= n):        \n",
    "        # Find next prime - mark all multiples as not prime\n",
    "        if (sieve[k]) :\n",
    "            for i in range(k*k, n + 1, k):\n",
    "                sieve[i] = False\n",
    "        k += 1\n",
    "\n",
    "    # Collect/return primes off the sieve\n",
    "    primes = []\n",
    "    for p in range(2, n+1):\n",
    "        if sieve[p] :\n",
    "            primes.append(p)\n",
    "    return primes"
   ]
  },
  {
   "cell_type": "code",
   "execution_count": 8,
   "metadata": {},
   "outputs": [
    {
     "name": "stdout",
     "output_type": "stream",
     "text": [
      "[2, 3, 5, 7, 11, 13, 17, 19, 23, 29, 31, 37, 41, 43, 47, 53, 59, 61, 67, 71, 73, 79, 83, 89, 97, 101, 103, 107, 109, 113, 127, 131, 137, 139, 149, 151, 157, 163, 167, 173, 179, 181, 191, 193, 197, 199, 211, 223, 227, 229, 233, 239, 241, 251, 257, 263, 269, 271, 277, 281, 283, 293, 307, 311, 313, 317, 331, 337, 347, 349, 353, 359, 367, 373, 379, 383, 389, 397, 401, 409, 419, 421, 431, 433, 439, 443, 449, 457, 461, 463, 467, 479, 487, 491, 499]\n"
     ]
    }
   ],
   "source": [
    "print(sieve(500))"
   ]
  },
  {
   "cell_type": "markdown",
   "metadata": {},
   "source": [
    "**Pick a random prime out of the list**  \n",
    "\n",
    "Not quite as easy as it looks, since we need to pick them in a particular way to make brute force attempts difficult. They should be away from the \"sides\" of the interval so they cannot be found by exhaustive search from either side - but they shouldn't be too close together.\n",
    "\n",
    "Also, the random number generators in normal programming languages are (at least theoretically) predictable - we don't want that. Cryptographically acceptable random numbers are tough to generate!!"
   ]
  },
  {
   "cell_type": "code",
   "execution_count": 5,
   "metadata": {},
   "outputs": [],
   "source": [
    "primesList = sieve(250000)"
   ]
  },
  {
   "cell_type": "code",
   "execution_count": 6,
   "metadata": {},
   "outputs": [],
   "source": [
    "import random\n",
    "\n",
    "def randomPrime(primes, start = 1) :\n",
    "    index = random.randrange(start,len(primes)) - 1\n",
    "    return primes[index + start - 1]"
   ]
  },
  {
   "cell_type": "code",
   "execution_count": 7,
   "metadata": {},
   "outputs": [
    {
     "data": {
      "text/plain": [
       "91957"
      ]
     },
     "execution_count": 7,
     "metadata": {},
     "output_type": "execute_result"
    }
   ],
   "source": [
    "randomPrime(primesList)"
   ]
  }
 ],
 "metadata": {
  "kernelspec": {
   "display_name": "Python 3 (ipykernel)",
   "language": "python",
   "name": "python3"
  },
  "language_info": {
   "codemirror_mode": {
    "name": "ipython",
    "version": 3
   },
   "file_extension": ".py",
   "mimetype": "text/x-python",
   "name": "python",
   "nbconvert_exporter": "python",
   "pygments_lexer": "ipython3",
   "version": "3.10.5"
  }
 },
 "nbformat": 4,
 "nbformat_minor": 2
}
