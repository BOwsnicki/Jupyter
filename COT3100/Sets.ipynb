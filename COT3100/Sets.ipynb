{
 "cells": [
  {
   "cell_type": "code",
   "execution_count": 1,
   "id": "90bfc09d",
   "metadata": {},
   "outputs": [
    {
     "data": {
      "text/html": [
       "<style>\n",
       "p,li, h1, h2, h3, h4, h5 {\n",
       "\tfont-family: \"Times New Roman\", Times, serif;\n",
       "}\n",
       "</style>"
      ],
      "text/plain": [
       "<IPython.core.display.HTML object>"
      ]
     },
     "execution_count": 1,
     "metadata": {},
     "output_type": "execute_result"
    }
   ],
   "source": [
    "# Styling notebook\n",
    "from IPython.core.display import HTML\n",
    "def css_styling():\n",
    "    styles = open(\"./styles/custom.css\", \"r\").read()\n",
    "    return HTML(styles)\n",
    "css_styling()"
   ]
  },
  {
   "cell_type": "markdown",
   "id": "ad3e7b0f",
   "metadata": {},
   "source": [
    "**Sets and applications**  \n",
    "\n",
    "Python has a pretty decent implementation of sets, of course via hash tables. They're pretty good to demonstrate the basic set operations\n",
    "\n",
    "- test for empty set\n",
    "- element\n",
    "- subset\n",
    "- equality\n",
    "- union\n",
    "- intersection\n",
    "- relative complement: $A\\backslash B = \\{x\\in A\\, |\\, x\\notin B\\}$\n",
    "- symmetric difference: $A\\Delta B = (A\\backslash B)\\cup (B\\backslash A)$"
   ]
  },
  {
   "cell_type": "code",
   "execution_count": 13,
   "id": "9dac3173",
   "metadata": {},
   "outputs": [
    {
     "name": "stdout",
     "output_type": "stream",
     "text": [
      "3 in {6, 4, 2, 7, 9, 1}: False\n",
      "{6, 12, 9} subset {6, 4, 2, 7, 9, 1}: False\n",
      "{} subset {6, 12, 9}: True\n",
      "{7, 4, 9} == {6, 12, 9}: False\n",
      "{6, 4, 2, 7, 9, 1} == {6, 4, 2, 7, 9, 1}: True\n",
      "{7, 4, 9} intersect {6, 12, 9} = {9}\n",
      "{7, 4, 9} union {6, 12, 9} = {4, 6, 7, 9, 12}\n",
      "{6, 4, 2, 7, 9, 1} \\ {6, 12, 9} = {1, 2, 4, 7}\n",
      "{6, 4, 2, 7, 9, 1} DELTA {6, 12, 9} = {1, 2, 4, 7, 12}\n"
     ]
    }
   ],
   "source": [
    "# test for empty set\n",
    "def is_empty(a) :\n",
    "    return not a\n",
    "\n",
    "# test for element\n",
    "def isElement(elem, aSet) :     # pretty much built in\n",
    "    return elem in aSet\n",
    "\n",
    "# test for subset\n",
    "def isSubset(set1, set2) :\n",
    "    for elem in set1 :          # test all elements in set1\n",
    "        if not elem in set2 :   # if they're in set2\n",
    "            return False\n",
    "    return True\n",
    "\n",
    "# test for equality\n",
    "def setEqual(set1, set2) :\n",
    "    return isSubset(set1,set2) and isSubset(set2,set1)\n",
    "\n",
    "def intersection(set1, set2) :\n",
    "    # return set1.intersection(set2)   # also built-in\n",
    "    # this is the \"pedestrian\" solution:\n",
    "    result = set()\n",
    "    for elem in set1 :          # Check every element of set1,\n",
    "        if elem in set2 :       # if it's in set1,\n",
    "            result.add(elem)    # it goes into the intersection\n",
    "    return result\n",
    "\n",
    "def unionWrong(set1, set2) :\n",
    "    # This one contains a subtle bug...\n",
    "    result = set1           # Start with set1\n",
    "    for elem in set2 :      # Add every element of set2\n",
    "        result.add(elem)\n",
    "    return result\n",
    "\n",
    "def union(set1, set2) :\n",
    "    # This is fine\n",
    "    result = set1.copy()    # Start with A COPY OF set1\n",
    "    for elem in set2 :      # Add every element of set2\n",
    "        result.add(elem)\n",
    "    return result\n",
    "\n",
    "def relComplement(set1, set2) :\n",
    "    result = set()\n",
    "    for elem in set1 :          # Check every element of set1,\n",
    "        if not elem in set2 :   # if it's NOT in set1,\n",
    "            result.add(elem)    # it goes into the relative complement\n",
    "    return result\n",
    "\n",
    "def symmDiff(set1, set2) :\n",
    "    return union(relComplement(set1,set2),relComplement(set2,set1))\n",
    "\n",
    "empty = set()\n",
    "set1 = {6, 4, 2, 7, 9, 1}\n",
    "set2 = {7, 4, 9}\n",
    "set3 = {6, 12, 9}\n",
    "print(\"3 in {6, 4, 2, 7, 9, 1}:\",isElement(3,set1))\n",
    "print(\"{6, 12, 9} subset {6, 4, 2, 7, 9, 1}:\",isSubset(set3,set1))\n",
    "print(\"{} subset {6, 12, 9}:\",isSubset(empty,set3))\n",
    "print(\"{7, 4, 9} == {6, 12, 9}:\",setEqual(set2,set3))\n",
    "print(\"{6, 4, 2, 7, 9, 1} == {6, 4, 2, 7, 9, 1}:\",setEqual(set1,set1))\n",
    "print(\"{7, 4, 9} intersect {6, 12, 9} =\",intersection(set2,set3))\n",
    "# print(unionWrong(set2, set3))\n",
    "# print(set2)\n",
    "print(\"{7, 4, 9} union {6, 12, 9} =\",union(set2,set3))\n",
    "print(\"{6, 4, 2, 7, 9, 1} \\ {6, 12, 9} =\",relComplement(set1,set3))\n",
    "print(\"{6, 4, 2, 7, 9, 1} DELTA {6, 12, 9} =\",symmDiff(set1,set3))\n"
   ]
  },
  {
   "cell_type": "markdown",
   "id": "959b0630",
   "metadata": {},
   "source": [
    "**But sets aren't hashable themselves! So there are no such things as sets of sets in Python.**  \n",
    "\n",
    "That's particularly weird if you want to do power sets. So we need a workaround over lists/tuples or something like that.\n",
    "\n",
    "Recursion schema for power set construction:\n",
    "1. $2^\\emptyset = \\{ \\emptyset \\}$\n",
    "2. To construct $2^{\\{a, b, c, ... \\}}$ construct recursively $2^{\\{b, c, ... \\}}.$ Then every $s \\in 2^{\\{b, c, ... \\}}$ is also $\\in 2^{\\{a, b, c, ... \\}},$ but also every $a\\cup s$ where $s \\in 2^{\\{b, c, ... \\}}$  \n",
    "\n",
    "The only tricky thing is to make sure we understand which operations are destructive and which aren't. If they are destructive, make a copy before applying them so you don't change the original!"
   ]
  },
  {
   "cell_type": "code",
   "execution_count": 3,
   "id": "f67f0718",
   "metadata": {},
   "outputs": [],
   "source": [
    "def powerSet(s) :                 # Now we let this be and return a LIST\n",
    "                                  # of the subsets of s - as close as we can get\n",
    "    if is_empty(s) : return [[]]\n",
    "    \n",
    "    sCopy = s.copy()\n",
    "    firstS = sCopy[0]               # First element of the list\n",
    "    sCopy.remove(firstS)            # The rest\n",
    "    \n",
    "    recursivePS = powerSet(sCopy)   # YAY! Finally recursion\n",
    "    result = []\n",
    "    for subset in recursivePS :\n",
    "        result.append(subset)\n",
    "        withFirst = [ firstS ] + subset.copy()\n",
    "        result.append(withFirst)\n",
    "    return result\n",
    "\n",
    "\n",
    "def cartProd(s1,s2) :\n",
    "    result = []\n",
    "    for a in s1 :\n",
    "        for b in s2 :\n",
    "            result.append([a,b])\n",
    "    return result"
   ]
  },
  {
   "cell_type": "code",
   "execution_count": 4,
   "id": "e71f495e",
   "metadata": {},
   "outputs": [
    {
     "name": "stdout",
     "output_type": "stream",
     "text": [
      "[[], ['a'], ['b'], ['a', 'b'], ['c'], ['a', 'c'], ['b', 'c'], ['a', 'b', 'c']]\n",
      "[['a', 0], ['a', 1], ['b', 0], ['b', 1], ['c', 0], ['c', 1]]\n"
     ]
    }
   ],
   "source": [
    "print(powerSet(['a','b','c']))\n",
    "print(cartProd(['a','b','c'],[0,1]))"
   ]
  },
  {
   "cell_type": "markdown",
   "id": "4a1bafcc",
   "metadata": {},
   "source": [
    "**Fun with power sets: The Knapsack problem**  \n",
    "\n",
    "The problem is pretty simple: Given a collection of \"items\" each with a weight and a value a thief wants to pick items that a) have the maximum value and b) don't exceed a maximum weight (the thief has a maximum weight capacity and might not be able to carry all items.\n",
    "\n",
    "The thief has to make a decision for each item: Take it or leave it.\n",
    "\n",
    "We call a set of items *admissible* if the total weigth does not exceed the maximum weight\n",
    "\n",
    "A primitive solution is easy to construct:  \n",
    "1. Construct the power set of all items\n",
    "1. Check each of the subsets if it's admissible\n",
    "1. From the admissible ones, pick the one with the highest value \n",
    "\n",
    "Of course this is a terribly inefficient solution, since for $n$ items we would have to check $2^n$ (exponentially many) subsets!\n",
    "\n",
    "More about that in your \"Algorithms and Data Structures\" class or in <a href=\"https://en.wikipedia.org/wiki/Knapsack_problem\">Wikipedia: Knapsack Problem</a>"
   ]
  },
  {
   "cell_type": "code",
   "execution_count": 5,
   "id": "2a0101c7",
   "metadata": {},
   "outputs": [
    {
     "data": {
      "text/plain": [
       "[[],\n",
       " [['lamp', 5, 100]],\n",
       " [['vase', 3, 2000]],\n",
       " [['lamp', 5, 100], ['vase', 3, 2000]],\n",
       " [['book', 4, 800]],\n",
       " [['lamp', 5, 100], ['book', 4, 800]],\n",
       " [['vase', 3, 2000], ['book', 4, 800]],\n",
       " [['lamp', 5, 100], ['vase', 3, 2000], ['book', 4, 800]],\n",
       " [['skeleton', 7, 10]],\n",
       " [['lamp', 5, 100], ['skeleton', 7, 10]],\n",
       " [['vase', 3, 2000], ['skeleton', 7, 10]],\n",
       " [['lamp', 5, 100], ['vase', 3, 2000], ['skeleton', 7, 10]],\n",
       " [['book', 4, 800], ['skeleton', 7, 10]],\n",
       " [['lamp', 5, 100], ['book', 4, 800], ['skeleton', 7, 10]],\n",
       " [['vase', 3, 2000], ['book', 4, 800], ['skeleton', 7, 10]],\n",
       " [['lamp', 5, 100], ['vase', 3, 2000], ['book', 4, 800], ['skeleton', 7, 10]]]"
      ]
     },
     "execution_count": 5,
     "metadata": {},
     "output_type": "execute_result"
    }
   ],
   "source": [
    "items = [['lamp',5,100], ['vase',3,2000], ['book', 4, 800], [\"skeleton\", 7, 10]]\n",
    "powerSet(items)"
   ]
  },
  {
   "cell_type": "code",
   "execution_count": 6,
   "id": "f5b1afa7",
   "metadata": {},
   "outputs": [],
   "source": [
    "# Compute total value and total weight of a set of items\n",
    "def eval(items) :\n",
    "    value, weight = 0, 0;\n",
    "    for item in items :\n",
    "        weight = weight + item[1]\n",
    "        value = value + item[2]\n",
    "    return weight, value\n",
    "\n",
    "def knapSackBruteForce(items, maxWeight) :\n",
    "    bestValue = -1             # Comparison value\n",
    "    bestSelection = []         # Best selection so far\n",
    "    \n",
    "    for selection in powerSet(items) :   # Run over all subsets\n",
    "        # Find total value and weight of all items in this subset\n",
    "        weight, value = eval(selection)\n",
    "        \n",
    "        if weight <= maxWeight and value > bestValue : # admissible and better??\n",
    "            bestSelection = selection                  # Yep, store it!\n",
    "            bestValue = value\n",
    "    return bestSelection, eval(bestSelection)          # Best solution and its data\n",
    "            "
   ]
  },
  {
   "cell_type": "code",
   "execution_count": 7,
   "id": "a42e12db",
   "metadata": {},
   "outputs": [
    {
     "data": {
      "text/plain": [
       "([['vase', 3, 2000], ['book', 4, 800]], (7, 2800))"
      ]
     },
     "execution_count": 7,
     "metadata": {},
     "output_type": "execute_result"
    }
   ],
   "source": [
    "knapSackBruteForce(items,10)"
   ]
  },
  {
   "cell_type": "markdown",
   "id": "cffcc39a",
   "metadata": {},
   "source": [
    "**Select subset via predicate**  \n",
    "\n",
    "Given a set $S$ and a one-place predicate (boolean function) $P$, select the subset\n",
    "$S \\supseteq S' = \\{ x \\in S | P(x) \\}$\n",
    "\n",
    "Note that in Python we can pass functions as parameters to other functions and just call them in this other function (see how P works in the example)"
   ]
  },
  {
   "cell_type": "code",
   "execution_count": 8,
   "id": "3b00b658",
   "metadata": {},
   "outputs": [],
   "source": [
    "def select(S,P) :\n",
    "    result = []\n",
    "    for x in S :\n",
    "        if P(x) : result.append(x)\n",
    "    return result"
   ]
  },
  {
   "cell_type": "code",
   "execution_count": 9,
   "id": "ecb9470d",
   "metadata": {},
   "outputs": [
    {
     "name": "stdout",
     "output_type": "stream",
     "text": [
      "[1, 3, 5]\n",
      "[1, 3, 5]\n",
      "[1, 3, 5]\n"
     ]
    }
   ],
   "source": [
    "def isOdd(n) :\n",
    "    return n%2 == 1\n",
    "\n",
    "aSet = [1,2,3,4,5,6]\n",
    "\n",
    "print(select(aSet,isOdd))\n",
    "\n",
    "# or (functional)\n",
    "print(list(filter(isOdd,aSet)))\n",
    "\n",
    "# or (list comprehension)\n",
    "print([x for x in aSet if isOdd(x)])\n",
    "\n",
    "# Yes, we could have implemented \"select\" via filter or via list comprehension, too"
   ]
  },
  {
   "cell_type": "markdown",
   "id": "935615c4",
   "metadata": {},
   "source": [
    "**Fun with the Cartesian Product: Data combination**  \n",
    "\n",
    "Assume database tables of the form $(Student, Course)$ and $(Course, Instructor)$\n",
    "\n",
    "The Cartesian Product of these tables contains all pairs and is the first step in matching students and instructors via the course."
   ]
  },
  {
   "cell_type": "code",
   "execution_count": 10,
   "id": "d60f8369",
   "metadata": {},
   "outputs": [
    {
     "data": {
      "text/plain": [
       "[[['Jester', 'COT3100'], ['COT3100', 'Doctor OK']],\n",
       " [['Jester', 'COT3100'], ['COP4027', 'Doctor Coffey']],\n",
       " [['Beauregard', 'COT3100'], ['COT3100', 'Doctor OK']],\n",
       " [['Beauregard', 'COT3100'], ['COP4027', 'Doctor Coffey']],\n",
       " [['Caduceus', 'COT3100'], ['COT3100', 'Doctor OK']],\n",
       " [['Caduceus', 'COT3100'], ['COP4027', 'Doctor Coffey']],\n",
       " [['Jester', 'COP4027'], ['COT3100', 'Doctor OK']],\n",
       " [['Jester', 'COP4027'], ['COP4027', 'Doctor Coffey']],\n",
       " [['Caleb', 'COP4027'], ['COT3100', 'Doctor OK']],\n",
       " [['Caleb', 'COP4027'], ['COP4027', 'Doctor Coffey']],\n",
       " [['Nott', 'COP4027'], ['COT3100', 'Doctor OK']],\n",
       " [['Nott', 'COP4027'], ['COP4027', 'Doctor Coffey']]]"
      ]
     },
     "execution_count": 10,
     "metadata": {},
     "output_type": "execute_result"
    }
   ],
   "source": [
    "def printLines(aList) :\n",
    "    for item in aList : print(item)\n",
    "        \n",
    "table1 = [['Jester', 'COT3100'], ['Beauregard', 'COT3100'], ['Caduceus', 'COT3100'], \n",
    "          ['Jester', 'COP4027'], ['Caleb', 'COP4027'], ['Nott', 'COP4027']]\n",
    "\n",
    "table2 = [['COT3100', 'Doctor OK'], ['COP4027', 'Doctor Coffey']]\n",
    "\n",
    "cartProd(table1, table2)"
   ]
  },
  {
   "cell_type": "markdown",
   "id": "74462a22",
   "metadata": {},
   "source": [
    "**Selecting specific pairs over the course**  \n",
    "\n",
    "Here we just use a predicate that is T if the second element of the first tuple is equal to the first element of the second tuple. This will result in discarding all pairs where the courses don't match.  \n",
    "\n",
    "This is the basis of one of the simplest Relational DB operations: The \"Equi-Join\"\n"
   ]
  },
  {
   "cell_type": "code",
   "execution_count": 11,
   "id": "e871fa66",
   "metadata": {},
   "outputs": [
    {
     "data": {
      "text/plain": [
       "[[['Jester', 'COT3100'], ['COT3100', 'Doctor OK']],\n",
       " [['Beauregard', 'COT3100'], ['COT3100', 'Doctor OK']],\n",
       " [['Caduceus', 'COT3100'], ['COT3100', 'Doctor OK']],\n",
       " [['Jester', 'COP4027'], ['COP4027', 'Doctor Coffey']],\n",
       " [['Caleb', 'COP4027'], ['COP4027', 'Doctor Coffey']],\n",
       " [['Nott', 'COP4027'], ['COP4027', 'Doctor Coffey']]]"
      ]
     },
     "execution_count": 11,
     "metadata": {},
     "output_type": "execute_result"
    }
   ],
   "source": [
    "def match (pair) : \n",
    "    # Second element of the first tuple == First element of the second tuple (counting start at 0)\n",
    "    return pair[0][1] == pair[1][0]\n",
    "\n",
    "select(cartProd(table1,table2), match)"
   ]
  }
 ],
 "metadata": {
  "kernelspec": {
   "display_name": "Python 3 (ipykernel)",
   "language": "python",
   "name": "python3"
  },
  "language_info": {
   "codemirror_mode": {
    "name": "ipython",
    "version": 3
   },
   "file_extension": ".py",
   "mimetype": "text/x-python",
   "name": "python",
   "nbconvert_exporter": "python",
   "pygments_lexer": "ipython3",
   "version": "3.10.0"
  }
 },
 "nbformat": 4,
 "nbformat_minor": 5
}
