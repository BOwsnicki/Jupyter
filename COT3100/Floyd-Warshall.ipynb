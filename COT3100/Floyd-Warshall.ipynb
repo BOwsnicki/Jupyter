{
 "cells": [
  {
   "cell_type": "code",
   "execution_count": 1,
   "id": "bb1359a4",
   "metadata": {
    "scrolled": true
   },
   "outputs": [
    {
     "data": {
      "text/html": [
       "<style>\n",
       "p,li, h1, h2, h3, h4, h5 {\n",
       "\tfont-family: \"Times New Roman\", Times, serif;\n",
       "}\n",
       "</style>"
      ],
      "text/plain": [
       "<IPython.core.display.HTML object>"
      ]
     },
     "execution_count": 1,
     "metadata": {},
     "output_type": "execute_result"
    }
   ],
   "source": [
    "# Styling notebook\n",
    "from IPython.core.display import HTML\n",
    "def css_styling():\n",
    "    styles = open(\"./styles/custom.css\", \"r\").read()\n",
    "    return HTML(styles)\n",
    "css_styling()"
   ]
  },
  {
   "cell_type": "markdown",
   "id": "c5ec72ea",
   "metadata": {},
   "source": [
    "**Floyd-Warshall APSP (All Pair Shortest Path) Algorithm**\n",
    "<img src=\"fw.jpg\" alt=\"drawing\" width=\"380\"/>\n",
    "APSP means it computes the lengths of the shortests path between every pair of certices in a labeled graph. \n",
    "\n",
    "<a href=\"https://favtutor.com/blogs/floyd-warshall-algorithm\">https://favtutor.com/blogs/floyd-warshall-algorithm</a>\n",
    "\n",
    "For comparision: SSSP (Single Source Shortest Path) computes the shortest distances given a specific start vertex (source).\n",
    "\n",
    "In general, SSSP (something like \"Dijkstra's Algorithm\") is faster (I mean, it just has to compute less distances!) and can be used in practical shortest path problems. Floyd-Warshall is just more fun to figure out - it's stunningly simple!\n"
   ]
  },
  {
   "cell_type": "code",
   "execution_count": 2,
   "id": "8ebefec6",
   "metadata": {},
   "outputs": [],
   "source": [
    "# Floyd-Warshall (all pair shortest path) in all its glorious simplicity!\n",
    "# AM is the Adjacency Matrix of the graph\n",
    "def floydWarshall(AM) :   \n",
    "    numVertices = len(AM)\n",
    "    \n",
    "    # Main FW loop (Yep, that's all there is, really!)\n",
    "    for i in range(numVertices) :\n",
    "        for j in range(numVertices) :\n",
    "            for k in range(numVertices) :\n",
    "                AM[j][k] = min(AM[j][k], AM[j][i] + AM[i][k])\n",
    "\n",
    "                \n",
    "# Printing the output (Almost as long as the main algorithm)\n",
    "def printMatrix(AM) :\n",
    "    numVertices = len(AM)\n",
    "    for i in range(numVertices) :\n",
    "        for j in range(numVertices) :\n",
    "            print(AM[i][j], end=\"  \")\n",
    "        print(\" \")"
   ]
  },
  {
   "cell_type": "code",
   "execution_count": 3,
   "id": "db675bf4",
   "metadata": {},
   "outputs": [
    {
     "name": "stdout",
     "output_type": "stream",
     "text": [
      "0  5  15  10   \n",
      "20  0  10  5   \n",
      "30  35  0  15   \n",
      "15  20  5  0   \n"
     ]
    }
   ],
   "source": [
    "# Adjacency Matrix (see graph above)\n",
    "# 9999 stands for \"not reachable directly\"\n",
    "# The main diagonal is all 0 for obvious (?) reasons\n",
    "AM = [[0, 5, 9999, 9999],\n",
    "      [50, 0, 15, 5],\n",
    "      [30, 9999, 0, 15],\n",
    "      [15, 9999, 5, 0]]\n",
    "\n",
    "# And off you go!\n",
    "floydWarshall(AM)\n",
    "printMatrix(AM)"
   ]
  },
  {
   "cell_type": "markdown",
   "id": "7be825e4",
   "metadata": {},
   "source": [
    "Try understanding the result. For example the 35 in the third row, second column, means that the shortest path between vertex 3 and vertext 2 has a length of 35. There are actually two paths with this length. Find them!\n",
    "\n",
    "Ok, that doesn't give you the real shortest path, just the length. Consult your A&DS instructor on how to also find the paths - it's a little tricky! \n",
    "\n",
    "Or maybe you can find out by studying the code here (no explanations, that's A&DS stuff)"
   ]
  },
  {
   "cell_type": "code",
   "execution_count": 4,
   "id": "cefa7f6f",
   "metadata": {},
   "outputs": [],
   "source": [
    "def floydWarshall2(AM) :   \n",
    "    numVertices = len(AM)\n",
    "    \n",
    "    # sep[i][j] is a vertex that is on the shortest path between vertex i and vertex j\n",
    "    # initialized with -1, so we see if there is such a separating vertex\n",
    "    sep = [[-1 for y in range(numVertices)] for x in range(numVertices)]\n",
    "\n",
    "    # Main FW loop (Yep, that's all there is, really!)\n",
    "    for i in range(numVertices) :\n",
    "        for j in range(numVertices) :\n",
    "            for k in range(numVertices) :\n",
    "                # We have to rewrite this a bit:\n",
    "                if AM[j][i] + AM[i][k] < AM[j][k] : # Shorter path over the separating vertex \"i\"?\n",
    "                    AM[j][k] = AM[j][i] + AM[i][k]  # YEP!\n",
    "                    sep[j][k] = i                   # Shortest path must lead over \"i\"\n",
    "    return sep\n",
    "\n",
    "# Reconstruct the path from i to j via the separation matrix\n",
    "def path (sep, i, j) :\n",
    "    if sep[i][j] == -1 : \n",
    "        print (i, \"-->\", j)\n",
    "    else :\n",
    "        sepVertex = sep[i][j]\n",
    "        path(sep,i,sepVertex)\n",
    "        path(sep,sepVertex,j)"
   ]
  },
  {
   "cell_type": "code",
   "execution_count": 5,
   "id": "1d67b42e",
   "metadata": {},
   "outputs": [
    {
     "name": "stdout",
     "output_type": "stream",
     "text": [
      "Distance Matrix\n",
      "0  5  15  10   \n",
      "20  0  10  5   \n",
      "30  35  0  15   \n",
      "15  20  5  0   \n",
      "\n",
      "Separator Matrix\n",
      "-1  -1  3  1   \n",
      "3  -1  3  -1   \n",
      "-1  0  -1  -1   \n",
      "-1  0  -1  -1   \n",
      "\n",
      "path(sep,0,1)\n",
      "0 --> 1\n",
      "\n",
      "path(sep,1,0)\n",
      "1 --> 3\n",
      "3 --> 0\n",
      "\n",
      "path(sep,0,2)\n",
      "0 --> 1\n",
      "1 --> 3\n",
      "3 --> 2\n"
     ]
    }
   ],
   "source": [
    "AM = [[0, 5, 9999, 9999],\n",
    "      [50, 0, 15, 5],\n",
    "      [30, 9999, 0, 15],\n",
    "      [15, 9999, 5, 0]]\n",
    "\n",
    "sep = floydWarshall2(AM)\n",
    "print(\"Distance Matrix\")\n",
    "printMatrix(AM)\n",
    "print(\"\\nSeparator Matrix\")\n",
    "printMatrix(sep)\n",
    "\n",
    "\n",
    "print(\"\\npath(sep,0,1)\")\n",
    "path(sep,0,1) # Path from index 0 (vertex \"1\") to index 1 (vertex \"2\")\n",
    "print(\"\\npath(sep,1,0)\")\n",
    "path(sep,1,0) # Path from index 1 (vertex \"2\") to index 0 (vertex \"1\")\n",
    "print(\"\\npath(sep,0,2)\")\n",
    "path(sep,0,2) # Path from index 0 (vertex \"1\") to index 2 (vertex \"3\")"
   ]
  }
 ],
 "metadata": {
  "kernelspec": {
   "display_name": "Python 3 (ipykernel)",
   "language": "python",
   "name": "python3"
  },
  "language_info": {
   "codemirror_mode": {
    "name": "ipython",
    "version": 3
   },
   "file_extension": ".py",
   "mimetype": "text/x-python",
   "name": "python",
   "nbconvert_exporter": "python",
   "pygments_lexer": "ipython3",
   "version": "3.10.5"
  }
 },
 "nbformat": 4,
 "nbformat_minor": 5
}
