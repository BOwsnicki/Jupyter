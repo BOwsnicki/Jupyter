{
 "cells": [
  {
   "cell_type": "code",
   "execution_count": null,
   "id": "464e4529",
   "metadata": {},
   "outputs": [],
   "source": []
  },
  {
   "cell_type": "code",
   "execution_count": null,
   "id": "2f3ca2c1",
   "metadata": {},
   "outputs": [],
   "source": []
  },
  {
   "cell_type": "markdown",
   "id": "f41434ac",
   "metadata": {},
   "source": [
    "``program = tdeclPart vdeclPart fdeclPart block ;``   \n",
    "``tdeclPart = { tdecl } ;``  \n",
    "\n",
    "``vdeclPart = { vdecl } ;``  \n",
    "``vdecl = \"var\" type ident ;``  \n",
    "\n",
    "``fdeclPart = { fdecl } ;``  \n",
    "\n",
    "``block = \"{\" < vdeclPart > statement { statement } \"}\" ;`` \n",
    "\n",
    "``statement = coreStmt \";\" ;``  \n",
    "``coreStatement = assignS | returnS | condS | loopS | ioS | \";\" ;``  \n",
    "``assignS = id \"=\" expression ;``  \n",
    "``returnS = \"return\" < expression > ;``  \n",
    "``condS = \"if\" \"(\" expression \")\" statement ;``  \n",
    "\n",
    "``expression = term  { [\"+\" | \"-\"] term} ;``  \n",
    "``term = factor  { [\"*\"|\"/\"] factor} ;``  \n",
    "``factor = \"id\" | \"literal\" | \"(\"  expression  \")\" | funCall ;``  "
   ]
  }
 ],
 "metadata": {
  "kernelspec": {
   "display_name": "Python 3 (ipykernel)",
   "language": "python",
   "name": "python3"
  },
  "language_info": {
   "codemirror_mode": {
    "name": "ipython",
    "version": 3
   },
   "file_extension": ".py",
   "mimetype": "text/x-python",
   "name": "python",
   "nbconvert_exporter": "python",
   "pygments_lexer": "ipython3",
   "version": "3.10.8"
  }
 },
 "nbformat": 4,
 "nbformat_minor": 5
}
