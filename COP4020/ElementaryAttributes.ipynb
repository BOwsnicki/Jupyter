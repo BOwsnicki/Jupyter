{
 "cells": [
  {
   "cell_type": "code",
   "execution_count": 1,
   "id": "63073658",
   "metadata": {},
   "outputs": [
    {
     "data": {
      "text/html": [
       "<style>\n",
       "p,li, h1, h2, h3, h4, h5 {\n",
       "\tfont-family: \"Times New Roman\", Times, serif;\n",
       "}\n",
       "</style>"
      ],
      "text/plain": [
       "<IPython.core.display.HTML object>"
      ]
     },
     "execution_count": 1,
     "metadata": {},
     "output_type": "execute_result"
    }
   ],
   "source": [
    "# Styling notebook\n",
    "from IPython.core.display import HTML\n",
    "def css_styling():\n",
    "    styles = open(\"./styles/custom.css\", \"r\").read()\n",
    "    return HTML(styles)\n",
    "css_styling()"
   ]
  },
  {
   "cell_type": "markdown",
   "id": "581abc65",
   "metadata": {},
   "source": [
    "**EBNF:**  \n",
    "``sequence = aSequence bSequence cSequence``  \n",
    "``aSequence = \"a\" {\"a\"}``  \n",
    "``bSequence = \"b\" {\"b\"}``  \n",
    "``cSequence = \"c\" {\"c\"}``"
   ]
  },
  {
   "cell_type": "code",
   "execution_count": 11,
   "id": "d293ab43",
   "metadata": {},
   "outputs": [],
   "source": [
    "class Parser1 :\n",
    "    def __init__(self, source) :\n",
    "        self.source = source + '$'\n",
    "        self.sourcePos = 0\n",
    "    \n",
    "    def error(self,message) :\n",
    "        print('Error at position', self.sourcePos)\n",
    "        print(message)\n",
    "        assert False\n",
    "    \n",
    "    def scan(self) :\n",
    "        self.sourcePos = self.sourcePos + 1\n",
    "        self.lookahead = self.source[self.sourcePos]\n",
    "        \n",
    "    def expect(self,symbolSet) : \n",
    "        if self.lookahead in symbolSet :\n",
    "            if self.lookahead != '$' : self.scan()\n",
    "        else :\n",
    "            self.error(str(symbolSet) + ' expected, found ' + str(self.lookahead))\n",
    "        \n",
    "    # sequence = aSequence bSequence cSequence\n",
    "    def sequence(self) :\n",
    "        print(\"sequence\",self.sourcePos,self.lookahead)\n",
    "        self.aSequence()\n",
    "        self.bSequence()\n",
    "        self.cSequence()\n",
    "\n",
    "    # aSequence = \"a\" {\"a\"}\n",
    "    def aSequence(self) :\n",
    "        print(\"aSequence\",self.sourcePos,self.lookahead)\n",
    "        self.expect({'a'})\n",
    "        while self.lookahead in {'a'} :\n",
    "            self.scan()\n",
    "\n",
    "    # bSequence = \"b\" {\"b\"}\n",
    "    def bSequence(self) :\n",
    "        print(\"bSequence\",self.sourcePos,self.lookahead)\n",
    "        self.expect({'b'})\n",
    "        while self.lookahead in {'b'} :\n",
    "            self.scan()\n",
    "            \n",
    "    # cSequence = \"c\" {\"c\"}\n",
    "    def cSequence(self) :\n",
    "        print(\"cSequence\",self.sourcePos,self.lookahead)\n",
    "        self.expect({'c'})\n",
    "        while self.lookahead in {'c'} :\n",
    "            self.scan()\n",
    "\n",
    "\n",
    "    def parse(self) :\n",
    "        try:\n",
    "            # Prologue: Scan first symbol before descent\n",
    "            self.sourcePos = 0\n",
    "            self.lookahead = self.source[self.sourcePos]\n",
    "            # Call start symbol\n",
    "            self.sequence()\n",
    "            # Epilogue: Check for EOF\n",
    "            self.expect({'$'})\n",
    "            print('Success!')\n",
    "        except AssertionError :\n",
    "            print(\"Aborted!\")\n"
   ]
  },
  {
   "cell_type": "code",
   "execution_count": 12,
   "id": "7a45a7d6",
   "metadata": {},
   "outputs": [
    {
     "name": "stdout",
     "output_type": "stream",
     "text": [
      "sequence 0 a\n",
      "aSequence 0 a\n",
      "bSequence 5 b\n",
      "cSequence 6 c\n",
      "Success!\n"
     ]
    }
   ],
   "source": [
    "p = Parser1(\"aaaaabcc\")\n",
    "p.parse()"
   ]
  },
  {
   "cell_type": "markdown",
   "id": "54bf3752",
   "metadata": {},
   "source": [
    "**$a^n b^n c^n$ with attributed EBNF**\n",
    "\n",
    "  \n",
    "``sequence (synth match) = aSequence bSequence cSequence  \n",
    "                          (* sequence.match = (aSequence.count == bSequence.count == cSequence.count *)``  \n",
    "  \n",
    "``aSequence (synth count) = \"a\" (* aSequence.count = 1 *) {\"a\" (* aSequence.count++ *)}``  \n",
    "``bSequence (synth count) = \"b\" (* bSequence.count = 1 *) {\"b\" (* bSequence.count++ *)}``  \n",
    "``cSequence (synth count) = \"c\" (* cSequence.count = 1 *) {\"c\" (* cSequence.count++ *)}``\n"
   ]
  },
  {
   "cell_type": "code",
   "execution_count": 4,
   "id": "be193df3",
   "metadata": {},
   "outputs": [],
   "source": [
    "class Parser2 :\n",
    "    def __init__(self, source) :\n",
    "        self.source = source + '$'\n",
    "        self.sourcePos = 0\n",
    "    \n",
    "    def error(self,message) :\n",
    "        print('Error at position', self.sourcePos)\n",
    "        print(message)\n",
    "        assert False\n",
    "    \n",
    "    def scan(self) :\n",
    "        self.sourcePos = self.sourcePos + 1\n",
    "        self.lookahead = self.source[self.sourcePos]\n",
    "        \n",
    "    def expect(self,symbolSet) : \n",
    "        if self.lookahead in symbolSet :\n",
    "            if self.lookahead != '$' : self.scan()\n",
    "        else :\n",
    "            self.error(str(symbolSet) + ' expected, found ' + str(self.lookahead))\n",
    "        \n",
    "    # sequence = aSequence bSequence cSequence\n",
    "    def sequence(self) :\n",
    "        print(\"sequence\",self.sourcePos,self.lookahead)\n",
    "        na = self.aSequence()\n",
    "        nb = self.bSequence()\n",
    "        nc = self.cSequence()\n",
    "        return na == nb and  nb == nc\n",
    "\n",
    "    # aSequence = \"a\" {\"a\"}\n",
    "    def aSequence(self) :\n",
    "        print(\"aSequence\",self.sourcePos,self.lookahead)\n",
    "        self.expect({'a'})\n",
    "        count = 1\n",
    "        while self.lookahead in {'a'} :\n",
    "            count += 1\n",
    "            self.scan()\n",
    "        return count\n",
    "\n",
    "    # bSequence = \"b\" {\"b\"}\n",
    "    def bSequence(self) :\n",
    "        print(\"bSequence\",self.sourcePos,self.lookahead)\n",
    "        self.expect({'b'})\n",
    "        count = 1\n",
    "        while self.lookahead in {'b'} :\n",
    "            count += 1\n",
    "            self.scan()\n",
    "        return count\n",
    "            \n",
    "    # cSequence = \"c\" {\"c\"}\n",
    "    def cSequence(self) :\n",
    "        print(\"cSequence\",self.sourcePos,self.lookahead)\n",
    "        self.expect({'c'})\n",
    "        count = 1        \n",
    "        while self.lookahead in {'c'} :\n",
    "            count += 1\n",
    "            self.scan()\n",
    "        return count\n",
    "\n",
    "\n",
    "    def parse(self) :\n",
    "        try:\n",
    "            # Prologue: Scan first symbol before descent\n",
    "            self.sourcePos = 0\n",
    "            self.lookahead = self.source[self.sourcePos]\n",
    "            # Call start symbol\n",
    "            result = self.sequence()\n",
    "            # Epilogue: Check for EOF\n",
    "            self.expect({'$'})\n",
    "            if result :\n",
    "                print('Success!')\n",
    "            else :\n",
    "                self.error(\"Numbers don't match\")\n",
    "        except AssertionError :\n",
    "            print(\"Aborted!\")\n"
   ]
  },
  {
   "cell_type": "code",
   "execution_count": 9,
   "id": "0ab6d1b7",
   "metadata": {},
   "outputs": [
    {
     "name": "stdout",
     "output_type": "stream",
     "text": [
      "sequence 0 a\n",
      "aSequence 0 a\n",
      "bSequence 3 b\n",
      "cSequence 6 c\n",
      "Success!\n"
     ]
    }
   ],
   "source": [
    "p = Parser2(\"aaabbbccc\")\n",
    "p.parse()"
   ]
  }
 ],
 "metadata": {
  "kernelspec": {
   "display_name": "Python 3 (ipykernel)",
   "language": "python",
   "name": "python3"
  },
  "language_info": {
   "codemirror_mode": {
    "name": "ipython",
    "version": 3
   },
   "file_extension": ".py",
   "mimetype": "text/x-python",
   "name": "python",
   "nbconvert_exporter": "python",
   "pygments_lexer": "ipython3",
   "version": "3.10.8"
  },
  "vscode": {
   "interpreter": {
    "hash": "483d0508c63f8e7d3fe22dba7ad1a6b30596326ab869c10395fb370a9ba5a797"
   }
  }
 },
 "nbformat": 4,
 "nbformat_minor": 5
}
