{
 "cells": [
  {
   "cell_type": "code",
   "execution_count": null,
   "id": "391e3fed",
   "metadata": {},
   "outputs": [],
   "source": []
  },
  {
   "cell_type": "code",
   "execution_count": 17,
   "id": "f6bb67e1",
   "metadata": {},
   "outputs": [],
   "source": [
    "class Parser :\n",
    "    def __init__(self, source) :\n",
    "        self.source = source + '$'\n",
    "        self.sourcePos = 0\n",
    "    \n",
    "    def error(self,message) :\n",
    "        print('Error at position', self.sourcePos)\n",
    "        print(message)\n",
    "        assert False\n",
    "    \n",
    "    def scan(self) :\n",
    "        self.sourcePos = self.sourcePos + 1\n",
    "        self.lookahead = self.source[self.sourcePos]\n",
    "        \n",
    "    def expect(self,symbolSet) : \n",
    "        if self.lookahead in symbolSet :\n",
    "            if self.lookahead != '$' : \n",
    "                realSymbol = self.lookahead\n",
    "                self.scan()\n",
    "                return realSymbol\n",
    "        else :\n",
    "            self.error(str(symbolSet) + ' expected, found ' + str(self.lookahead))\n",
    "\n",
    "    # expression = term  { [\"+\" | \"-\"] term} ;\n",
    "    def expression(self) :\n",
    "        op1 = self.term()\n",
    "        while self.lookahead in {'+','-'} : \n",
    "            opr = self.lookahead\n",
    "            self.scan()\n",
    "            op2 = self.term()\n",
    "            op1 = op1 + op2 if opr == '+' else op1 - op2\n",
    "        return op1\n",
    "\n",
    "    # term = factor  { [\"*\"|\"/\"] factor} ;\n",
    "    def term(self) :\n",
    "        op1 = self.factor()\n",
    "        while self.lookahead in {'*','/'} : \n",
    "            opr = self.lookahead\n",
    "            self.scan()\n",
    "            op2 = self.factor()\n",
    "            op1 = op1 * op2 if opr == '*' else op1 / op2\n",
    "        return op1        \n",
    "\n",
    "    # factor = ident | number | \"(\"  expression  \")\" ;\n",
    "    def factor(self) :\n",
    "        if self.lookahead == 'x' :\n",
    "            return self.ident()\n",
    "\n",
    "        if self.lookahead in {'0','1','2','3','4','5','6','7','8','9'} :\n",
    "            return self.number()\n",
    "\n",
    "        if self.lookahead == \"(\" :\n",
    "            self.scan()\n",
    "            value = self.expression()\n",
    "            self.expect({')'})\n",
    "            return value\n",
    "        self.error('{x,( or number} expected, found ' + str(self.lookahead))\n",
    "    \n",
    "    # ident = \"x\" ;   \n",
    "    def ident(self) :\n",
    "        self.expect({'x'})\n",
    "        # return lookup(x)\n",
    "        return 1\n",
    "    \n",
    "    # number = \"5\" ;\n",
    "    def number(self) :\n",
    "        symbol = self.expect({'0','1','2','3','4','5','6','7','8','9'})   \n",
    "        return ord(symbol) - ord('0')\n",
    "    \n",
    "    def parse(self) :\n",
    "        try:\n",
    "            # Prologue: Scan first symbol before descent\n",
    "            self.sourcePos = 0\n",
    "            self.lookahead = self.source[self.sourcePos]\n",
    "            # Call start symbol\n",
    "            print(self.expression())\n",
    "            # Epilogue: Check for EOF\n",
    "            self.expect({'$'})\n",
    "            print('Success!')\n",
    "        except AssertionError :\n",
    "            print(\"Aborted!\")"
   ]
  },
  {
   "cell_type": "code",
   "execution_count": 25,
   "id": "a19375bb",
   "metadata": {},
   "outputs": [
    {
     "name": "stdout",
     "output_type": "stream",
     "text": [
      "factor 5\n",
      "factor 2\n",
      "factor (\n",
      "factor 7\n",
      "factor 3\n",
      "factor 1\n",
      "15\n",
      "Success!\n"
     ]
    }
   ],
   "source": [
    "p = Parser('5+2*(7-3+1)')\n",
    "p.parse()"
   ]
  }
 ],
 "metadata": {
  "kernelspec": {
   "display_name": "Python 3 (ipykernel)",
   "language": "python",
   "name": "python3"
  },
  "language_info": {
   "codemirror_mode": {
    "name": "ipython",
    "version": 3
   },
   "file_extension": ".py",
   "mimetype": "text/x-python",
   "name": "python",
   "nbconvert_exporter": "python",
   "pygments_lexer": "ipython3",
   "version": "3.10.8"
  }
 },
 "nbformat": 4,
 "nbformat_minor": 5
}
