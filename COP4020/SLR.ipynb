{
 "cells": [
  {
   "cell_type": "code",
   "execution_count": null,
   "id": "3f510d38",
   "metadata": {},
   "outputs": [],
   "source": []
  },
  {
   "cell_type": "code",
   "execution_count": 119,
   "id": "2bcef7a6",
   "metadata": {},
   "outputs": [],
   "source": [
    "# lots of aux functions\n",
    "def isNonTerminal(c) :\n",
    "    return c.isupper()\n",
    "\n",
    "def isTerminal(c) :\n",
    "    return not c.isupper()\n",
    "\n",
    "def swap(s, i, j):\n",
    "    lst = list(s)\n",
    "    lst[i], lst[j] = lst[j], lst[i]\n",
    "    return ''.join(lst)"
   ]
  },
  {
   "cell_type": "code",
   "execution_count": 120,
   "id": "300022fa",
   "metadata": {},
   "outputs": [],
   "source": [
    "class Production:\n",
    "    def __init__(self,lhs,rhs):\n",
    "        self.lhs = lhs\n",
    "        self.rhs = rhs\n",
    "    \n",
    "    def __str__(self):\n",
    "        return self.lhs + ' --> ' + self.rhs\n",
    "\n",
    "    def __repr__(self):\n",
    "        return self.__str__()"
   ]
  },
  {
   "cell_type": "code",
   "execution_count": 154,
   "id": "5dab37f2",
   "metadata": {},
   "outputs": [],
   "source": [
    "from dataclasses import dataclass\n",
    "from typing import Any\n",
    "\n",
    "@dataclass(frozen=True)\n",
    "class DottedProduction :\n",
    "    \n",
    "    lhs : Any\n",
    "    rhs : Any\n",
    "    def __init__(self, lhs, rhs) :\n",
    "        self.lhs = lhs\n",
    "        self.rhs = rhs\n",
    "                \n",
    "    def __str__(self) :\n",
    "        return self.lhs + ' --> ' + self.rhs\n",
    "    \n",
    "    def __repr__(self):\n",
    "        return self.__str__()\n",
    "\n",
    "    def __eq__(self, other) :\n",
    "        return (self.lhs == other.lhs) and (self.rhs == other.rhs)\n",
    "    \n",
    "    def moveDot(self) :\n",
    "        if self.isFinal() : return None\n",
    "        return DottedProduction(self.lhs,self.move())\n",
    "    \n",
    "    def isFinal(self) :\n",
    "        return self.rhs[-1] == '.'\n",
    "    \n",
    "    def dottedSymbol(self) :\n",
    "        if self.isFinal() : return None\n",
    "        return self.rhs[self.rhs.find('.') + 1]\n",
    "    \n",
    "    def move(self) :\n",
    "        dotPos = self.rhs.find('.')\n",
    "        return swap(self.rhs,dotPos,dotPos + 1)"
   ]
  },
  {
   "cell_type": "code",
   "execution_count": 122,
   "id": "49ec15cc",
   "metadata": {},
   "outputs": [
    {
     "name": "stdout",
     "output_type": "stream",
     "text": [
      "S --> .aSa\n",
      "a\n",
      "False\n",
      "S --> a.Sa\n"
     ]
    }
   ],
   "source": [
    "p = DottedProduction('S','.aSa')\n",
    "print(p)\n",
    "print(p.dottedSymbol())\n",
    "print(p.isFinal())\n",
    "print(p.moveDot())"
   ]
  },
  {
   "cell_type": "code",
   "execution_count": 123,
   "id": "bdaaf675",
   "metadata": {},
   "outputs": [],
   "source": [
    "class CFG:      \n",
    "    def __init__(self, start, productions):\n",
    "        self.start = start\n",
    "        self.productions = productions\n",
    "        \n",
    "    def addProduction(self, production):\n",
    "        self.productions.append(production)\n",
    "        \n",
    "    def productionsFor(self, nonTerminal) :\n",
    "        return [p for p in self.productions if p.lhs == nonTerminal]\n",
    "    \n",
    "    def startProductions(self) :\n",
    "        return self.productionsFor(self.start)"
   ]
  },
  {
   "cell_type": "code",
   "execution_count": 124,
   "id": "606d9926",
   "metadata": {},
   "outputs": [
    {
     "name": "stdout",
     "output_type": "stream",
     "text": [
      "[E --> E+T, E --> T]\n",
      "[S --> E]\n"
     ]
    }
   ],
   "source": [
    "g = CFG('S',[])\n",
    "g.addProduction(Production('S','E'))\n",
    "g.addProduction(Production('E','E+T'))\n",
    "g.addProduction(Production('E','T'))\n",
    "g.addProduction(Production('T','n'))\n",
    "print(g.productionsFor('E'))\n",
    "print(g.startProductions())"
   ]
  },
  {
   "cell_type": "code",
   "execution_count": 136,
   "id": "173fbdc3",
   "metadata": {},
   "outputs": [],
   "source": [
    "class SLR0Parser :\n",
    "    \n",
    "    def __init__(self, cfg):\n",
    "        self.grammar = cfg\n",
    "        self.itemCount = 0\n",
    "        self.items = {} # empty dictionary\n",
    "    \n",
    "    # closure(p) where p is a dotted production\n",
    "    def closure(self, dottedProduction) :\n",
    "        result = {dottedProduction}\n",
    "        symbol = dottedProduction.dottedSymbol()\n",
    "        \n",
    "        # Done if the dotted symbol is terminal\n",
    "        if symbol is None or isTerminal(symbol) : return result\n",
    "        \n",
    "        # For all productions with a dotted NT on the LHS\n",
    "        #    retrieve all grammar productions for this NT\n",
    "        for p in self.grammar.productionsFor(symbol) :\n",
    "            # Add the initial dotted production\n",
    "            dottedP = DottedProduction(p.lhs,'.' + p.rhs)\n",
    "            \n",
    "            # recursively compute the closure and build the union\n",
    "            if dottedP.dottedSymbol() != symbol : # watch for left recursion\n",
    "                result  = result.union(self.closure(dottedP))\n",
    "            else :\n",
    "                # unless it's left recursive, of course\n",
    "                result.add(dottedP)\n",
    "        return result\n",
    "    \n",
    "    def transition(self, item, symbol) :\n",
    "        # Create one item by picking all the dotted rules in \"item\",\n",
    "        #   find those with a dot before \"symbol\" and\n",
    "        #   create the set with all successors by moving the dot and closing it\n",
    "        result = set()\n",
    "        for production in itemSet :\n",
    "            if production.dottedSymbol() == symbol :\n",
    "                result = result.union(self.closure(production.moveDot()))\n",
    "        return result\n",
    "    \n",
    "    def storeItem(self, item) :\n",
    "        "
   ]
  },
  {
   "cell_type": "code",
   "execution_count": 155,
   "id": "e7b03d42",
   "metadata": {},
   "outputs": [
    {
     "ename": "FrozenInstanceError",
     "evalue": "cannot assign to field 'lhs'",
     "output_type": "error",
     "traceback": [
      "\u001b[1;31m---------------------------------------------------------------------------\u001b[0m",
      "\u001b[1;31mFrozenInstanceError\u001b[0m                       Traceback (most recent call last)",
      "Input \u001b[1;32mIn [155]\u001b[0m, in \u001b[0;36m<cell line: 2>\u001b[1;34m()\u001b[0m\n\u001b[0;32m      1\u001b[0m p \u001b[38;5;241m=\u001b[39m SLR0Parser(g)\n\u001b[1;32m----> 2\u001b[0m item1 \u001b[38;5;241m=\u001b[39m p\u001b[38;5;241m.\u001b[39mclosure(\u001b[43mDottedProduction\u001b[49m\u001b[43m(\u001b[49m\u001b[38;5;124;43m'\u001b[39;49m\u001b[38;5;124;43mS\u001b[39;49m\u001b[38;5;124;43m'\u001b[39;49m\u001b[43m,\u001b[49m\u001b[38;5;124;43m'\u001b[39;49m\u001b[38;5;124;43m.E\u001b[39;49m\u001b[38;5;124;43m'\u001b[39;49m\u001b[43m)\u001b[49m)\n\u001b[0;32m      3\u001b[0m item2 \u001b[38;5;241m=\u001b[39m p\u001b[38;5;241m.\u001b[39mclosure(DottedProduction(\u001b[38;5;124m'\u001b[39m\u001b[38;5;124mS\u001b[39m\u001b[38;5;124m'\u001b[39m,\u001b[38;5;124m'\u001b[39m\u001b[38;5;124m.E\u001b[39m\u001b[38;5;124m'\u001b[39m))\n\u001b[0;32m      4\u001b[0m \u001b[38;5;28mprint\u001b[39m(item1 \u001b[38;5;241m==\u001b[39m item2)\n",
      "Input \u001b[1;32mIn [154]\u001b[0m, in \u001b[0;36mDottedProduction.__init__\u001b[1;34m(self, lhs, rhs)\u001b[0m\n\u001b[0;32m      9\u001b[0m \u001b[38;5;28;01mdef\u001b[39;00m \u001b[38;5;21m__init__\u001b[39m(\u001b[38;5;28mself\u001b[39m, lhs, rhs) :\n\u001b[1;32m---> 10\u001b[0m     \u001b[38;5;28mself\u001b[39m\u001b[38;5;241m.\u001b[39mlhs \u001b[38;5;241m=\u001b[39m lhs\n\u001b[0;32m     11\u001b[0m     \u001b[38;5;28mself\u001b[39m\u001b[38;5;241m.\u001b[39mrhs \u001b[38;5;241m=\u001b[39m rhs\n",
      "File \u001b[1;32m<string>:4\u001b[0m, in \u001b[0;36m__setattr__\u001b[1;34m(self, name, value)\u001b[0m\n",
      "\u001b[1;31mFrozenInstanceError\u001b[0m: cannot assign to field 'lhs'"
     ]
    }
   ],
   "source": [
    "p = SLR0Parser(g)\n",
    "item1 = p.closure(DottedProduction('S','.E'))\n",
    "item2 = p.closure(DottedProduction('S','.E'))\n",
    "print(item1 == item2)"
   ]
  },
  {
   "cell_type": "code",
   "execution_count": 141,
   "id": "607b8452",
   "metadata": {},
   "outputs": [
    {
     "name": "stdout",
     "output_type": "stream",
     "text": [
      "{T --> .n, E --> .E+T, S --> .E, E --> .T}\n",
      "{S --> E., E --> E.+T}\n"
     ]
    }
   ],
   "source": [
    "p = SLR0Parser(g)\n",
    "item = p.closure(DottedProduction('S','.E'))\n",
    "print(item)\n",
    "print(p.transition(item,'E'))"
   ]
  }
 ],
 "metadata": {
  "kernelspec": {
   "display_name": "Python 3 (ipykernel)",
   "language": "python",
   "name": "python3"
  },
  "language_info": {
   "codemirror_mode": {
    "name": "ipython",
    "version": 3
   },
   "file_extension": ".py",
   "mimetype": "text/x-python",
   "name": "python",
   "nbconvert_exporter": "python",
   "pygments_lexer": "ipython3",
   "version": "3.10.0"
  }
 },
 "nbformat": 4,
 "nbformat_minor": 5
}
