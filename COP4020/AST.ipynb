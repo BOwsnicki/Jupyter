{
 "cells": [
  {
   "cell_type": "code",
   "execution_count": 41,
   "id": "989131da",
   "metadata": {},
   "outputs": [
    {
     "data": {
      "text/html": [
       "<style>\n",
       "p,li, h1, h2, h3, h4, h5 {\n",
       "\tfont-family: \"Times New Roman\", Times, serif;\n",
       "}\n",
       "</style>"
      ],
      "text/plain": [
       "<IPython.core.display.HTML object>"
      ]
     },
     "execution_count": 41,
     "metadata": {},
     "output_type": "execute_result"
    }
   ],
   "source": [
    "# Styling notebook\n",
    "from IPython.core.display import HTML\n",
    "def css_styling():\n",
    "    styles = open(\"./styles/custom.css\", \"r\").read()\n",
    "    return HTML(styles)\n",
    "css_styling()"
   ]
  },
  {
   "cell_type": "markdown",
   "id": "5f790482",
   "metadata": {},
   "source": [
    "**Abstract Syntax Tree**"
   ]
  },
  {
   "cell_type": "code",
   "execution_count": 44,
   "id": "33a002d8",
   "metadata": {},
   "outputs": [],
   "source": [
    "from abc import *\n",
    "class AST(ABC):\n",
    "    def traverse(self) :\n",
    "        # print(self.__class__.__name__)\n",
    "        pass\n",
    "\n",
    "class Stmt(AST):\n",
    "    def __init__(self) :\n",
    "        pass\n",
    "\n",
    "class CompoundStmt(Stmt) :\n",
    "    def __init__(self, stmt1, stmt2) :\n",
    "        self.stmt1 = stmt1                   # First statement\n",
    "        self.stmt2 = stmt2                   # Remaining ones\n",
    "        \n",
    "class Assignment(Stmt) :\n",
    "    def __init__(self, lvalue, expr) :\n",
    "        self.lvalue = lvalue                 # LValue\n",
    "        self.expr   = expr                   # RValue\n",
    "    \n",
    "    def traverse(self) :\n",
    "        super().traverse()\n",
    "        self.lvalue.traverse()\n",
    "        self.expr.traverse()\n",
    "        print(\"STORE\")\n",
    "\n",
    "        \n",
    "class AExpr(AST) :\n",
    "    def __init__(self) :\n",
    "        pass\n",
    "\n",
    "class IDNode(AExpr) :\n",
    "    def __init__(self, name) :\n",
    "        self.name = name\n",
    "        \n",
    "    def traverse(self) :\n",
    "        super().traverse()\n",
    "        print(self.name)\n",
    "        \n",
    "class ConstNode(AExpr) :\n",
    "    def __init__(self, value) :\n",
    "        self.value = value\n",
    "    \n",
    "    def traverse(self) :\n",
    "        super().traverse()\n",
    "        print(self.value)\n",
    "    \n",
    "class OpNode(AExpr) :\n",
    "    def __init__(self, op, left, right) :\n",
    "        self.op = op\n",
    "        self.left = left\n",
    "        self.right = right \n",
    "    \n",
    "    def traverse(self) :\n",
    "        super().traverse()\n",
    "        self.left.traverse()\n",
    "        self.right.traverse()\n",
    "        print(self.op)\n",
    "\n",
    "    "
   ]
  },
  {
   "cell_type": "code",
   "execution_count": 45,
   "id": "aa1763d9",
   "metadata": {},
   "outputs": [
    {
     "name": "stdout",
     "output_type": "stream",
     "text": [
      "a\n",
      "a\n",
      "1\n",
      "+\n",
      "STORE\n"
     ]
    }
   ],
   "source": [
    "operand1 = IDNode('a')\n",
    "operand2 = ConstNode(1)\n",
    "expr = OpNode('+',operand1,operand2)\n",
    "left = IDNode('a')\n",
    "\n",
    "s = Assignment(left, expr)\n",
    "s.traverse()\n"
   ]
  },
  {
   "cell_type": "code",
   "execution_count": 81,
   "id": "9f9a9373",
   "metadata": {},
   "outputs": [],
   "source": [
    "from Scanner import Scanner\n",
    "\n",
    "class Parser :\n",
    "    def __init__(self, source) :\n",
    "        self.source = source\n",
    "        self.scanner = Scanner(source)\n",
    "        self.start = self.Stmt\n",
    "        self.currentToken = None\n",
    "        self.currentValue = None\n",
    "    \n",
    "    def error(self,message) :\n",
    "        print(\"Error: \" + message)\n",
    "       \n",
    "    def emit(self,tag,item) :\n",
    "        self.IR.append([tag,item])\n",
    "        \n",
    "    def scan(self) :\n",
    "        self.currentToken, self.currentValue = self.scanner.nextToken()\n",
    "        \n",
    "    def expect(self,token) :\n",
    "        if self.currentToken != token :\n",
    "            self.error(token + ' expected')\n",
    "        else :\n",
    "            self.scan()\n",
    "    \n",
    "    def parse(self) :\n",
    "        self.scanner.init()\n",
    "        self.scan()\n",
    "        return self.start()\n",
    "    \n",
    "    def Stmt(self) :\n",
    "        return self.Assign()\n",
    "    \n",
    "    def Assign(self) :\n",
    "        lvalue = self.LVal()\n",
    "        self.expect('assignSym')\n",
    "        expr = self.AExpr()\n",
    "        return Assignment(lvalue,expr)\n",
    "        \n",
    "    def LVal(self) :\n",
    "        if self.currentToken == 'identifier' :\n",
    "            v = self.currentValue\n",
    "            self.scan()\n",
    "            return IDNode(v)\n",
    "\n",
    "    def AExpr(self) :\n",
    "        term1 = self.Term()\n",
    "        if self.currentToken not in {'plusSym', 'minusSym'} :\n",
    "            return term1\n",
    "        root = OpNode(None,term1,None)\n",
    "        current = root\n",
    "        while self.currentToken in {'plusSym', 'minusSym'} :\n",
    "            op = self.currentToken\n",
    "            self.scan()\n",
    "            current.op = op\n",
    "            term = self.Term()\n",
    "            # current.traverse()\n",
    "            if self.currentToken not in {'plusSym', 'minusSym'} :\n",
    "                current.right = term\n",
    "            else :\n",
    "                current.right = OpNode(None,term,None)\n",
    "                current = current.right\n",
    "        return root    \n",
    "\n",
    "    def Term(self) :\n",
    "        factor1 = self.Factor()\n",
    "        while self.currentToken in {'timesSym', 'divSym'} :\n",
    "            op = self.currentToken\n",
    "            self.scan()\n",
    "            self.Factor()\n",
    "        return factor1\n",
    "    \n",
    "    def Factor(self) :\n",
    "        if self.currentToken == 'lParen' :\n",
    "            self.scan()\n",
    "            root = self.AExpr()\n",
    "            self.expect('rParen')\n",
    "            return root\n",
    "                \n",
    "        if self.currentToken == 'identifier' :\n",
    "            v = self.currentValue\n",
    "            self.scan()\n",
    "            return IDNode(v)\n",
    "        \n",
    "        if self.currentToken == 'numConstant' :\n",
    "            v = self.currentValue\n",
    "            self.scan()\n",
    "            return ConstNode(v)\n"
   ]
  },
  {
   "cell_type": "code",
   "execution_count": 82,
   "id": "71e38824",
   "metadata": {},
   "outputs": [
    {
     "name": "stdout",
     "output_type": "stream",
     "text": [
      "xyz\n",
      "xyz\n",
      "1\n",
      "5\n",
      "plusSym\n",
      "minusSym\n",
      "STORE\n"
     ]
    }
   ],
   "source": [
    "s = \"xyz = xyz - 1 + 5\"\n",
    "p = Parser(s)\n",
    "p.parse().traverse()"
   ]
  }
 ],
 "metadata": {
  "kernelspec": {
   "display_name": "Python 3 (ipykernel)",
   "language": "python",
   "name": "python3"
  },
  "language_info": {
   "codemirror_mode": {
    "name": "ipython",
    "version": 3
   },
   "file_extension": ".py",
   "mimetype": "text/x-python",
   "name": "python",
   "nbconvert_exporter": "python",
   "pygments_lexer": "ipython3",
   "version": "3.10.0"
  }
 },
 "nbformat": 4,
 "nbformat_minor": 5
}
