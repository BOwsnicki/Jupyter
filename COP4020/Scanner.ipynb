{
 "cells": [
  {
   "cell_type": "code",
   "execution_count": null,
   "id": "a97479e7",
   "metadata": {},
   "outputs": [],
   "source": [
    "# Styling notebook\n",
    "from IPython.core.display import HTML\n",
    "def css_styling():\n",
    "    styles = open(\"./styles/custom.css\", \"r\").read()\n",
    "    return HTML(styles)\n",
    "css_styling()"
   ]
  },
  {
   "cell_type": "code",
   "execution_count": 4,
   "id": "d8ac6710",
   "metadata": {},
   "outputs": [],
   "source": [
    "class Scanner :\n",
    "    def __init__(self, source, table) :\n",
    "        self.source = source\n",
    "        self.table = table\n",
    "\n",
    "        # Initialize Scanner state\n",
    "        self.position = 0           # First character\n",
    "        self.currentText = None     # Current text/token\n",
    "        self.currentToken = None    # Nothing beats good naming, right?\n",
    "    \n",
    "    def skip(self) :\n",
    "        while self.source[self.position] == ' ':\n",
    "            self.position += 1\n",
    "            \n",
    "    # Return class and text of the next token\n",
    "    # 'eoI' is artificial and denotes \"End of Input\"\n",
    "    # 'Unknown' is a class for text that doesn't translate into a proper token\n",
    "    # Lots of assumptions in this, needs to be rewritten if\n",
    "    #    a) we have numerical constants\n",
    "    #    b) we have alphanumerical variable names\n",
    "    #    c) it's Monday\n",
    "    \n",
    "    def nextToken(self) :\n",
    "        if self.position >= len(self.source) :\n",
    "            return 'eoI', 'eoI'                 # Done! Both are the same\n",
    "        \n",
    "        self.skip()\n",
    "        text = ''                               # Accumulates the text\n",
    "        c = self.source[self.position]\n",
    "        if c.isdigit() :\n",
    "            value = 0\n",
    "            while c.isdigit() :\n",
    "                value = value*10 + ord(c) - ord('0');\n",
    "                self.position += 1\n",
    "                c = self.source[self.position]\n",
    "            self.currentText, self.currentToken = value, 'numConstant'\n",
    "        elif not c.isalpha() : # that's for '(', ')' and operators and and and...\n",
    "            text += c\n",
    "            self.position += 1  # only one char\n",
    "            self.currentText, self.currentToken = text, self.table.get(text,'unknown')\n",
    "        else :\n",
    "            # Collect alpha string, works for ops, vars and consts\n",
    "            while c.isalpha() : \n",
    "                text += c\n",
    "                self.position += 1\n",
    "                c = self.source[self.position]\n",
    "                self.currentText, self.currentToken = text, self.table.get(text,'identifier')\n",
    "                \n",
    "        # Got the token text, look up the class in the dictionary and call it quits\n",
    "        return self.currentToken, self.currentText"
   ]
  },
  {
   "cell_type": "code",
   "execution_count": 5,
   "id": "a51bd798",
   "metadata": {},
   "outputs": [],
   "source": [
    "# A. Token table (easy!)\n",
    "table = {\n",
    "    '(' : 'oParen',\n",
    "    ')' : 'cParen',\n",
    "    '+' : 'arithOp2',\n",
    "    '-' : 'arithOp2',\n",
    "    '*' : 'arithOp2',\n",
    "    '/' : 'arithOp2',\n",
    "}"
   ]
  },
  {
   "cell_type": "code",
   "execution_count": 6,
   "id": "e1e15c68",
   "metadata": {},
   "outputs": [
    {
     "name": "stdout",
     "output_type": "stream",
     "text": [
      "('oParen', '(')\n",
      "('identifier', 'a')\n",
      "('arithOp2', '+')\n",
      "('numConstant', 1)\n"
     ]
    }
   ],
   "source": [
    "s = Scanner('(a + 1) ',table)\n",
    "\n",
    "print(s.nextToken())\n",
    "print(s.nextToken())\n",
    "print(s.nextToken())\n",
    "print(s.nextToken())"
   ]
  }
 ],
 "metadata": {
  "kernelspec": {
   "display_name": "Python 3 (ipykernel)",
   "language": "python",
   "name": "python3"
  },
  "language_info": {
   "codemirror_mode": {
    "name": "ipython",
    "version": 3
   },
   "file_extension": ".py",
   "mimetype": "text/x-python",
   "name": "python",
   "nbconvert_exporter": "python",
   "pygments_lexer": "ipython3",
   "version": "3.10.0"
  }
 },
 "nbformat": 4,
 "nbformat_minor": 5
}
