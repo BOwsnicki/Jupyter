{
 "cells": [
  {
   "cell_type": "code",
   "execution_count": 1,
   "id": "63073658",
   "metadata": {},
   "outputs": [
    {
     "data": {
      "text/html": [
       "<style>\n",
       "p,li, h1, h2, h3, h4, h5 {\n",
       "\tfont-family: \"Times New Roman\", Times, serif;\n",
       "}\n",
       "</style>"
      ],
      "text/plain": [
       "<IPython.core.display.HTML object>"
      ]
     },
     "execution_count": 1,
     "metadata": {},
     "output_type": "execute_result"
    }
   ],
   "source": [
    "# Styling notebook\n",
    "from IPython.core.display import HTML\n",
    "def css_styling():\n",
    "    styles = open(\"./styles/custom.css\", \"r\").read()\n",
    "    return HTML(styles)\n",
    "css_styling()"
   ]
  },
  {
   "cell_type": "markdown",
   "id": "581abc65",
   "metadata": {},
   "source": [
    "**EBNF:**  \n",
    "``sequence = letter { letter }``  \n",
    "``letter = (a | b)``"
   ]
  },
  {
   "cell_type": "code",
   "execution_count": 2,
   "id": "d293ab43",
   "metadata": {},
   "outputs": [],
   "source": [
    "class Parser1 :\n",
    "    def __init__(self, source) :\n",
    "        self.source = source + '$'\n",
    "        self.sourcePos = 0\n",
    "    \n",
    "    def error(self,message) :\n",
    "        print(message)\n",
    "        assert False\n",
    "        \n",
    "    # sequence = letter { letter }\n",
    "    def sequence(self) :\n",
    "        print(\"sequence\",self.sourcePos,self.lookahead)\n",
    "        self.letter()\n",
    "        while self.lookahead in {'a','b'} : \n",
    "            self.letter()\n",
    "        if self.lookahead != '$' :\n",
    "            self.error('$ expected, found ' + str(self.lookahead))\n",
    "        else :\n",
    "            print('Success!')\n",
    "\n",
    "    # letter = (a | b)\n",
    "    def letter(self) :\n",
    "        print(\"letter\",self.sourcePos,self.lookahead)\n",
    "        if self.lookahead in {'a','b'} :\n",
    "            self.sourcePos = self.sourcePos + 1\n",
    "            self.lookahead = self.source[self.sourcePos]\n",
    "        else :\n",
    "            self.error('a or b expected, found ' + str(self.lookahead))\n",
    "\n",
    "    def parse(self) :\n",
    "        try:\n",
    "            self.sourcePos = 0\n",
    "            self.lookahead = self.source[self.sourcePos]\n",
    "            self.sequence()\n",
    "        except AssertionError :\n",
    "            print(\"Aborted!\")\n"
   ]
  },
  {
   "cell_type": "code",
   "execution_count": 3,
   "id": "7a45a7d6",
   "metadata": {},
   "outputs": [
    {
     "name": "stdout",
     "output_type": "stream",
     "text": [
      "sequence 0 a\n",
      "letter 0 a\n",
      "letter 1 a\n",
      "letter 2 b\n",
      "letter 3 a\n",
      "letter 4 a\n",
      "letter 5 b\n",
      "letter 6 a\n",
      "Success!\n"
     ]
    }
   ],
   "source": [
    "p = Parser1(\"aabaaba\")\n",
    "p.parse()"
   ]
  },
  {
   "cell_type": "markdown",
   "id": "54bf3752",
   "metadata": {},
   "source": [
    "**EBNF:**  \n",
    "``expression = term  { [\"+\" | \"-\"] term} ;``  \n",
    "``term       = factor  { [\"*\"|\"/\"] factor} ;``  \n",
    "``factor     = ident | number | \"(\"  expression  \")\" ;``  \n",
    "``ident\t  = \"x\" ;``  \n",
    "``constant   = \"5\" ;``"
   ]
  },
  {
   "cell_type": "code",
   "execution_count": 4,
   "id": "be193df3",
   "metadata": {},
   "outputs": [],
   "source": [
    "class Parser2 :\n",
    "    def __init__(self, source) :\n",
    "        self.source = source + '$'\n",
    "        self.sourcePos = 0\n",
    "    \n",
    "    def error(self,message) :\n",
    "        print('Error at position', self.sourcePos)\n",
    "        print(message)\n",
    "        assert False\n",
    "    \n",
    "    def scan(self) :\n",
    "        self.sourcePos = self.sourcePos + 1\n",
    "        self.lookahead = self.source[self.sourcePos]\n",
    "        \n",
    "    def expect(self,symbolSet) : \n",
    "        if self.lookahead in symbolSet :\n",
    "            if self.lookahead != '$' : self.scan()\n",
    "        else :\n",
    "            self.error(str(symbolSet) + ' expected, found ' + str(self.lookahead))\n",
    "\n",
    "    # expression = term  { [\"+\" | \"-\"] term} ;\n",
    "    def expression(self) :\n",
    "        self.term()\n",
    "        while self.lookahead in {'+','-'} : \n",
    "            self.scan()\n",
    "            self.term()\n",
    "\n",
    "    # term = factor  { [\"*\"|\"/\"] factor} ;\n",
    "    def term(self) :\n",
    "        self.factor()\n",
    "        while self.lookahead in {'*','/'} : \n",
    "            self.scan()\n",
    "            self.factor()\n",
    "        \n",
    "\n",
    "    # factor = ident | number | \"(\"  expression  \")\" ;\n",
    "    def factor(self) :\n",
    "        if self.lookahead == 'x' :\n",
    "            self.ident()\n",
    "            return\n",
    "        if self.lookahead == '5' :\n",
    "            self.number()\n",
    "            return\n",
    "        if self.lookahead == \"(\" :\n",
    "            self.scan()\n",
    "            self.expression()\n",
    "            self.expect({')'})\n",
    "            return\n",
    "        self.error('{x,5,(} expected, found ' + str(self.lookahead))\n",
    "    \n",
    "    # ident = \"x\" ;   \n",
    "    def ident(self) :\n",
    "        self.expect({'x'})\n",
    "    \n",
    "    # number = \"5\" ;\n",
    "    def number(self) :\n",
    "        self.expect({'5'})   \n",
    "    \n",
    "    def parse(self) :\n",
    "        try:\n",
    "            # Prologue: Scan first symbol before descent\n",
    "            self.sourcePos = 0\n",
    "            self.lookahead = self.source[self.sourcePos]\n",
    "            # Call start symbol\n",
    "            self.expression()\n",
    "            # Epilogue: Check for EOF\n",
    "            self.expect({'$'})\n",
    "            print('Success!')\n",
    "        except AssertionError :\n",
    "            print(\"Aborted!\")"
   ]
  },
  {
   "cell_type": "code",
   "execution_count": 10,
   "id": "0ab6d1b7",
   "metadata": {},
   "outputs": [
    {
     "name": "stdout",
     "output_type": "stream",
     "text": [
      "Success!\n"
     ]
    }
   ],
   "source": [
    "p = Parser2(\"5*(5-5)*x-5*5\")\n",
    "p.parse()"
   ]
  }
 ],
 "metadata": {
  "kernelspec": {
   "display_name": "Python 3 (ipykernel)",
   "language": "python",
   "name": "python3"
  },
  "language_info": {
   "codemirror_mode": {
    "name": "ipython",
    "version": 3
   },
   "file_extension": ".py",
   "mimetype": "text/x-python",
   "name": "python",
   "nbconvert_exporter": "python",
   "pygments_lexer": "ipython3",
   "version": "3.10.8"
  },
  "vscode": {
   "interpreter": {
    "hash": "483d0508c63f8e7d3fe22dba7ad1a6b30596326ab869c10395fb370a9ba5a797"
   }
  }
 },
 "nbformat": 4,
 "nbformat_minor": 5
}
