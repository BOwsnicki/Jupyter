{
 "cells": [
  {
   "cell_type": "code",
   "execution_count": 1,
   "id": "eecd58fa",
   "metadata": {},
   "outputs": [
    {
     "data": {
      "text/html": [
       "<style>\n",
       "p,li, h1, h2, h3, h4, h5 {\n",
       "\tfont-family: \"Times New Roman\", Times, serif;\n",
       "}\n",
       "</style>"
      ],
      "text/plain": [
       "<IPython.core.display.HTML object>"
      ]
     },
     "execution_count": 1,
     "metadata": {},
     "output_type": "execute_result"
    }
   ],
   "source": [
    "# Styling notebook\n",
    "from IPython.core.display import HTML\n",
    "def css_styling():\n",
    "    styles = open(\"./styles/custom.css\", \"r\").read()\n",
    "    return HTML(styles)\n",
    "css_styling()"
   ]
  },
  {
   "cell_type": "raw",
   "id": "696d5860",
   "metadata": {},
   "source": [
    "AExpr  ::= Term (AddOp Term)*\n",
    "AddOp  ::= + |-\n",
    "Term   ::= Factor (MultOp Factor)*\n",
    "MultOp ::= * | /\n",
    "Factor ::= (AExpr) | id | num\n",
    "\n",
    "Stmt   ::= Assign;\n",
    "Assign ::= LVal = AExpr\n",
    "LVal   ::= id ([AExpr])*"
   ]
  },
  {
   "cell_type": "code",
   "execution_count": 31,
   "id": "9873fa4f",
   "metadata": {},
   "outputs": [],
   "source": [
    "from Scanner import Scanner\n",
    "\n",
    "class Parser :\n",
    "    def __init__(self, source) :\n",
    "        self.source = source\n",
    "        self.scanner = Scanner(source)\n",
    "        self.start = self.Stmt\n",
    "        self.currentToken = None\n",
    "        self.currentValue = None\n",
    "    \n",
    "    def error(self,message) :\n",
    "        print(\"Error: \" + message)\n",
    "       \n",
    "    def emit(self,tag,item) :\n",
    "        print([tag,item])\n",
    "        \n",
    "    def scan(self) :\n",
    "        self.currentToken, self.currentValue = self.scanner.nextToken()\n",
    "        \n",
    "    def expect(self,token) :\n",
    "        if self.currentToken != token :\n",
    "            self.error(token + ' expected')\n",
    "        else :\n",
    "            self.scan()\n",
    "    \n",
    "    def parse(self) :\n",
    "        self.scanner.init()\n",
    "        self.scan()\n",
    "        self.start()\n",
    "        \n",
    "    def Stmt(self) :\n",
    "        self.Assign()\n",
    "        self.expect('semicolon')\n",
    "    \n",
    "    def Assign(self) :\n",
    "        self.LVal()\n",
    "        self.expect('assignSym')\n",
    "        self.AExpr()\n",
    "        self.emit('op','STORE')\n",
    "        \n",
    "    def LVal(self) :\n",
    "        if self.currentToken == 'identifier' :\n",
    "            self.emit('lValue',self.currentValue)\n",
    "            self.scan()\n",
    "\n",
    "    def AExpr(self) :\n",
    "        self.Term()\n",
    "        while self.currentToken in {'plusSym', 'minusSym',} :\n",
    "            op = self.currentToken\n",
    "            self.scan()\n",
    "            self.Term()\n",
    "            self.emit('op',op)\n",
    "\n",
    "    def Term(self) :\n",
    "        self.Factor()\n",
    "        while self.currentToken in {'timesSym', 'divSym',} :\n",
    "            op = self.currentToken\n",
    "            self.scan()\n",
    "            self.Factor()\n",
    "            self.emit('op',op)\n",
    "            \n",
    "    def Factor(self) :\n",
    "        if self.currentToken == 'lParen' :\n",
    "            self.scan()\n",
    "            self.AExpr()\n",
    "            self.expect('rParen');\n",
    "                \n",
    "        if self.currentToken == 'identifier' :\n",
    "            self.emit('rValue',self.currentValue)\n",
    "            self.scan()\n",
    "        \n",
    "        if self.currentToken == 'numConstant' :\n",
    "            self.emit('numC',self.currentValue)\n",
    "            self.scan() "
   ]
  },
  {
   "cell_type": "code",
   "execution_count": 33,
   "id": "2bc093cc",
   "metadata": {},
   "outputs": [
    {
     "name": "stdout",
     "output_type": "stream",
     "text": [
      "['lValue', 'xyz']\n",
      "['rValue', 'count']\n",
      "['numC', 5]\n",
      "['rValue', 'a']\n",
      "['numC', 4]\n",
      "['op', 'plusSym']\n",
      "['op', 'timesSym']\n",
      "['op', 'plusSym']\n",
      "['numC', 6]\n",
      "['op', 'minusSym']\n",
      "['op', 'STORE']\n"
     ]
    }
   ],
   "source": [
    "s = \"xyz = count + 5*(a + 4) - 6;\"\n",
    "p = Parser(s)\n",
    "p.parse()"
   ]
  }
 ],
 "metadata": {
  "kernelspec": {
   "display_name": "Python 3 (ipykernel)",
   "language": "python",
   "name": "python3"
  },
  "language_info": {
   "codemirror_mode": {
    "name": "ipython",
    "version": 3
   },
   "file_extension": ".py",
   "mimetype": "text/x-python",
   "name": "python",
   "nbconvert_exporter": "python",
   "pygments_lexer": "ipython3",
   "version": "3.10.7"
  }
 },
 "nbformat": 4,
 "nbformat_minor": 5
}
