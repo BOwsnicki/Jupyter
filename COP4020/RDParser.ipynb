{
 "cells": [
  {
   "cell_type": "code",
   "execution_count": 1,
   "id": "6f44f7d6",
   "metadata": {},
   "outputs": [
    {
     "data": {
      "text/html": [
       "<style>\n",
       "p,li, h1, h2, h3, h4, h5 {\n",
       "\tfont-family: \"Times New Roman\", Times, serif;\n",
       "}\n",
       "</style>"
      ],
      "text/plain": [
       "<IPython.core.display.HTML object>"
      ]
     },
     "execution_count": 1,
     "metadata": {},
     "output_type": "execute_result"
    }
   ],
   "source": [
    "# Styling notebook\n",
    "from IPython.core.display import HTML\n",
    "def css_styling():\n",
    "    styles = open(\"./styles/custom.css\", \"r\").read()\n",
    "    return HTML(styles)\n",
    "css_styling()"
   ]
  },
  {
   "cell_type": "raw",
   "id": "9da11bba",
   "metadata": {},
   "source": [
    "AExpr  ::= Term (AddOp Term)*\n",
    "AddOp  ::= + |-\n",
    "Term   ::= Factor (MultOp Factor)*\n",
    "MultOp ::= * | /\n",
    "Factor ::= (AExpr) | id | num\n",
    "\n",
    "Stmts  ::= Stmt (;Stmt)*\n",
    "Stmt   ::= Assign \n",
    "Assign ::= LVal = AExpr\n",
    "LVal   ::= id ([AExpr])*"
   ]
  },
  {
   "cell_type": "code",
   "execution_count": 43,
   "id": "c23618c2",
   "metadata": {},
   "outputs": [],
   "source": [
    "from Scanner import Scanner\n",
    "\n",
    "class Parser :\n",
    "    def __init__(self, source) :\n",
    "        self.source = source\n",
    "        self.scanner = Scanner(source)\n",
    "        self.start = self.Stmts\n",
    "        self.currentToken = None\n",
    "        self.currentValue = None\n",
    "        self.IR = []\n",
    "    \n",
    "    def error(self,message) :\n",
    "        print(\"Error: \" + message)\n",
    "       \n",
    "    def emit(self,tag,item) :\n",
    "        self.IR.append([tag,item])\n",
    "        \n",
    "    def scan(self) :\n",
    "        self.currentToken, self.currentValue = self.scanner.nextToken()\n",
    "        \n",
    "    def expect(self,token) :\n",
    "        if self.currentToken != token :\n",
    "            self.error(token + ' expected')\n",
    "        else :\n",
    "            self.scan()\n",
    "    \n",
    "    def parse(self) :\n",
    "        self.scanner.init()\n",
    "        self.scan()\n",
    "        self.start()\n",
    "        return self.IR\n",
    "    \n",
    "    def Stmts(self) :\n",
    "        self.Stmt()\n",
    "        while (self.currentToken == 'semicolon') :\n",
    "            self.scan()\n",
    "            self.Stmt()\n",
    "    \n",
    "    def Stmt(self) :\n",
    "        self.Assign()\n",
    "    \n",
    "    def Assign(self) :\n",
    "        self.LVal()\n",
    "        self.expect('assignSym')\n",
    "        self.AExpr()\n",
    "        self.emit('SOp','STORE')\n",
    "        \n",
    "    def LVal(self) :\n",
    "        if self.currentToken == 'identifier' :\n",
    "            self.emit('LValue',self.currentValue)\n",
    "            self.scan()\n",
    "\n",
    "    def AExpr(self) :\n",
    "        self.Term()\n",
    "        while self.currentToken in {'plusSym', 'minusSym',} :\n",
    "            op = self.currentToken\n",
    "            self.scan()\n",
    "            self.Term()\n",
    "            self.emit('AOp',op)\n",
    "\n",
    "    def Term(self) :\n",
    "        self.Factor()\n",
    "        while self.currentToken in {'timesSym', 'divSym',} :\n",
    "            op = self.currentToken\n",
    "            self.scan()\n",
    "            self.Factor()\n",
    "            self.emit('AOp',op)\n",
    "            \n",
    "    def Factor(self) :\n",
    "        if self.currentToken == 'lParen' :\n",
    "            self.scan()\n",
    "            self.AExpr()\n",
    "            self.expect('rParen');\n",
    "                \n",
    "        if self.currentToken == 'identifier' :\n",
    "            self.emit('RValue',self.currentValue)\n",
    "            self.scan()\n",
    "        \n",
    "        if self.currentToken == 'numConstant' :\n",
    "            self.emit('NumC',self.currentValue)\n",
    "            self.scan() "
   ]
  },
  {
   "cell_type": "code",
   "execution_count": 45,
   "id": "6f57ef43",
   "metadata": {},
   "outputs": [
    {
     "data": {
      "text/plain": [
       "[['LValue', 'xyz'],\n",
       " ['RValue', 'xyz'],\n",
       " ['NumC', 5],\n",
       " ['RValue', 'a'],\n",
       " ['NumC', 4],\n",
       " ['AOp', 'plusSym'],\n",
       " ['AOp', 'timesSym'],\n",
       " ['AOp', 'plusSym'],\n",
       " ['NumC', 6],\n",
       " ['AOp', 'minusSym'],\n",
       " ['SOp', 'STORE']]"
      ]
     },
     "execution_count": 45,
     "metadata": {},
     "output_type": "execute_result"
    }
   ],
   "source": [
    "s = \"xyz = xyz + 5*(a + 4) - 6\"\n",
    "p = Parser(s)\n",
    "p.parse()"
   ]
  }
 ],
 "metadata": {
  "kernelspec": {
   "display_name": "Python 3 (ipykernel)",
   "language": "python",
   "name": "python3"
  },
  "language_info": {
   "codemirror_mode": {
    "name": "ipython",
    "version": 3
   },
   "file_extension": ".py",
   "mimetype": "text/x-python",
   "name": "python",
   "nbconvert_exporter": "python",
   "pygments_lexer": "ipython3",
   "version": "3.10.7"
  }
 },
 "nbformat": 4,
 "nbformat_minor": 5
}
