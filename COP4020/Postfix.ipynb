{
 "cells": [
  {
   "cell_type": "code",
   "execution_count": 1,
   "id": "27e0ace0",
   "metadata": {},
   "outputs": [
    {
     "data": {
      "text/html": [
       "<style>\n",
       "p,li, h1, h2, h3, h4, h5 {\n",
       "\tfont-family: \"Times New Roman\", Times, serif;\n",
       "}\n",
       "</style>"
      ],
      "text/plain": [
       "<IPython.core.display.HTML object>"
      ]
     },
     "execution_count": 1,
     "metadata": {},
     "output_type": "execute_result"
    }
   ],
   "source": [
    "# Styling notebook\n",
    "from IPython.core.display import HTML\n",
    "def css_styling():\n",
    "    styles = open(\"./styles/custom.css\", \"r\").read()\n",
    "    return HTML(styles)\n",
    "css_styling()"
   ]
  },
  {
   "cell_type": "raw",
   "id": "e9fe4158",
   "metadata": {},
   "source": [
    "<LOC>           PUSH(<LOC>)\n",
    "<NUM>           PUSH(<NUM>)\n",
    "<LREF>          PUSH(<LREF>) \n",
    "<LDEF>          ---\n",
    "DISP            ---\n",
    "PLUS            LET X = EVAL(POP); PUSH(EVAL(POP) + X)\n",
    "TIMES           LET X = EVAL(POP); PUSH(EVAL(POP) * X)\n",
    "MINUS           LET X = EVAL(POP); PUSH(EVAL(POP) - X)\n",
    "DIV             LET X = EVAL(POP); PUSH(EVAL(POP) / X)\n",
    "INCR            LET V = POP; STORE(LOC(POP), V + 1) <-- ???\n",
    "<-              LET V = EVAL(POP); STORE(LOC(POP),V)\n",
    "EQ?             PUSH(EVAL(POP) == EVAL(POP) : 1 : 0)\n",
    "NEQ?            PUSH(EVAL(POP) != EVAL(POP) : 1 : 0)\n",
    "BR              CONT = POP\n",
    "BZ              LET L = POP; IF (EVAL(POP) == 0) CONT = L\n",
    "BNZ             LET L = POP; IF (EVAL(POP) != 0) CONT = L\n",
    "DUP             LET X = POP; PUSH(X); PUSH(X)\n",
    "POP             POP"
   ]
  },
  {
   "cell_type": "code",
   "execution_count": 9,
   "id": "b0c16a11",
   "metadata": {},
   "outputs": [],
   "source": [
    "ops = ['<-', 'PLUS', 'MINUS', 'TIMES', 'DIV', 'INCR', 'EQ?', 'NEQ?', 'BR', 'BZ', 'BNZ', 'DUP', 'POP', 'DISP']\n",
    "\n",
    "# i = 1; while i != 10 { i++; }\n",
    "code1 = ['i', 1, '<-', 'L1:', 'i', 10, 'NEQ?', 'L2!', 'BZ', 'i', 'INCR', 'L1!', 'BR', 'L2:', 'DISP']"
   ]
  },
  {
   "cell_type": "code",
   "execution_count": 15,
   "id": "0696e3a6",
   "metadata": {},
   "outputs": [],
   "source": [
    "class PostfixVM :\n",
    "    def __init__(self, ops, code) :\n",
    "        self.stack = None                    # Working stack\n",
    "        self.env = None                      # Bindings\n",
    "        self.ops = ops                       # List of op symbols\n",
    "        self.code = self.typedCode(code)     # Code to execute: type hints added\n",
    "        self.CONT = -1                       # Continuation counter\n",
    "    \n",
    "    def PUSH(self,value) : \n",
    "        self.stack.append(value)\n",
    "    \n",
    "    def POP(self) :\n",
    "        return self.stack.pop()\n",
    "    \n",
    "    def ensureBound(self,key) :\n",
    "        value = self.env.get(key,None)\n",
    "        if (value != None) : return value\n",
    "        self.env[key] = 0\n",
    "        return 0\n",
    "    \n",
    "    def STORE(self,key,value) :\n",
    "        self.env[key[1]] = value\n",
    "        \n",
    "    def EVAL(self, atom) :\n",
    "        if atom[0] == 'NUM' : return atom[1] # constants evaluate to themselves\n",
    "        # Must of type LOC now: Make sure it's in the environment and return the value\n",
    "        return self.ensureBound(atom[1])\n",
    "        \n",
    "    def opType(self,op) :\n",
    "        if isinstance(op, (float, int)) : return ['NUM',op]\n",
    "        if op in self.ops : return ['OP',op]\n",
    "        if op[-1] == ':'  : return ['LDEF', op[0:-1]]\n",
    "        if op[-1] == '!'  : return ['LREF', op[0:-1]]\n",
    "        return ['LOC', op]\n",
    "    \n",
    "    def typedCode(self,untypedCode) :\n",
    "        return list(map(self.opType,untypedCode))  \n",
    "    \n",
    "    def display(self) :\n",
    "        print(self.CONT)\n",
    "        print(self.env)\n",
    "        print(self.stack)\n",
    "    \n",
    "    def run(self) :\n",
    "        self.CONT = 0;\n",
    "        self.stack = []\n",
    "        self.env = {}\n",
    "        while self.CONT < len(self.code) : # Still inside the code\n",
    "            op = self.code[self.CONT]\n",
    "            self.CONT += 1\n",
    "            self.doOp(op)\n",
    "            # self.display()\n",
    "\n",
    "    def position(self,lref) :\n",
    "        return self.code.index(['LDEF',lref[1]])\n",
    "            \n",
    "    def doOp(self,op) :\n",
    "        # print('OP: ',op)\n",
    "        if op[0] in ['LOC', 'NUM', 'LREF'] : self.PUSH(op)\n",
    "\n",
    "        if op[0] == 'OP' :\n",
    "            if op[1] == 'DISP' : self.display()\n",
    "            if op[1] == '<-' :\n",
    "                v = self.EVAL(self.POP())\n",
    "                self.STORE(self.POP(),v)\n",
    "            if op[1] == 'PLUS' :\n",
    "                x = self.EVAL(self.POP())\n",
    "                self.PUSH(['NUM',self.EVAL(self.POP()) + x])\n",
    "            if op[1] == 'INCR' :\n",
    "                var = self.POP()\n",
    "                val = self.EVAL(var)\n",
    "                self.STORE(var,val + 1)\n",
    "            if op[1] == 'EQ?' :\n",
    "                v = self.EVAL(self.POP()) == self.EVAL(self.POP())\n",
    "                self.PUSH(['NUM',1 if v else 0])\n",
    "            if op[1] == 'NEQ?' :\n",
    "                v = self.EVAL(self.POP()) == self.EVAL(self.POP())\n",
    "                self.PUSH(['NUM',0 if v else 1])\n",
    "            if op[1] == 'BR' :\n",
    "                self.CONT = self.position(self.POP())\n",
    "            if op[1] == 'BZ' :\n",
    "                label = self.POP()\n",
    "                if self.EVAL(self.POP()) == 0 :\n",
    "                    self.CONT = self.position(label)\n",
    "        return\n",
    "        "
   ]
  },
  {
   "cell_type": "code",
   "execution_count": 16,
   "id": "7c654477",
   "metadata": {},
   "outputs": [
    {
     "name": "stdout",
     "output_type": "stream",
     "text": [
      "[['LOC', 'i'], ['NUM', 1], ['OP', '<-'], ['LDEF', 'L1'], ['LOC', 'i'], ['NUM', 10], ['OP', 'NEQ?'], ['LREF', 'L2'], ['OP', 'BZ'], ['LOC', 'i'], ['OP', 'INCR'], ['LREF', 'L1'], ['OP', 'BR'], ['LDEF', 'L2'], ['OP', 'DISP']]\n",
      "15\n",
      "{'i': 10}\n",
      "[]\n"
     ]
    }
   ],
   "source": [
    "pv = PostfixVM(ops,code1)\n",
    "print(pv.code)\n",
    "pv.run()"
   ]
  }
 ],
 "metadata": {
  "kernelspec": {
   "display_name": "Python 3 (ipykernel)",
   "language": "python",
   "name": "python3"
  },
  "language_info": {
   "codemirror_mode": {
    "name": "ipython",
    "version": 3
   },
   "file_extension": ".py",
   "mimetype": "text/x-python",
   "name": "python",
   "nbconvert_exporter": "python",
   "pygments_lexer": "ipython3",
   "version": "3.10.0"
  }
 },
 "nbformat": 4,
 "nbformat_minor": 5
}
