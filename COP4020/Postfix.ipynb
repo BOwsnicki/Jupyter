{
 "cells": [
  {
   "cell_type": "code",
   "execution_count": null,
   "id": "927abd1f",
   "metadata": {},
   "outputs": [],
   "source": [
    "# Styling notebook\n",
    "from IPython.core.display import HTML\n",
    "def css_styling():\n",
    "    styles = open(\"./styles/custom.css\", \"r\").read()\n",
    "    return HTML(styles)\n",
    "css_styling()"
   ]
  },
  {
   "cell_type": "raw",
   "id": "017e3d76",
   "metadata": {},
   "source": [
    "<var>           PUSH(<var>)\n",
    "<const>         PUSH(<const>)\n",
    "<label>         PUSH(<label>) \n",
    "PLUS            LET X = eval(POP); PUSH(eval(POP) + X)\n",
    "TIMES           LET X = eval(POP); PUSH(eval(POP) * X)\n",
    "MINUS           LET X = eval(POP); PUSH(eval(POP) - X)\n",
    "DIV             LET X = eval(POP); PUSH(eval(POP) / X)\n",
    "INCR            LET V = POP; STORE(loc(POP), V + 1)\n",
    "<-              LET V = eval(POP); STORE(loc(POP),V)\n",
    "EQ?             PUSH(eval(POP) == eval(POP) : 1 : 0)\n",
    "NEQ?            PUSH(eval(POP) != eval(POP) : 1 : 0)\n",
    "BR              CONT = POP\n",
    "BZ              LET L = POP; IF (eval(POP) == 0) CONT = L\n",
    "BNZ             LET L = POP; IF (eval(POP) != 0) CONT = L\n",
    "DUP             LET X = POP; PUSH(X); PUSH(X)\n",
    "POP             POP\n",
    "\n",
    "\n",
    "\n",
    "\n",
    "\n",
    "\n"
   ]
  },
  {
   "cell_type": "code",
   "execution_count": 1,
   "id": "ff425927",
   "metadata": {},
   "outputs": [],
   "source": [
    "# i = 1; while i\n",
    "l = ['i', 1, '<-', 'L1:', 'i', 10, 'NEQ?', 'L2', 'BZ', 'i', 'INCR', 'L1', 'BR', 'L2:']"
   ]
  }
 ],
 "metadata": {
  "kernelspec": {
   "display_name": "Python 3 (ipykernel)",
   "language": "python",
   "name": "python3"
  },
  "language_info": {
   "codemirror_mode": {
    "name": "ipython",
    "version": 3
   },
   "file_extension": ".py",
   "mimetype": "text/x-python",
   "name": "python",
   "nbconvert_exporter": "python",
   "pygments_lexer": "ipython3",
   "version": "3.10.0"
  }
 },
 "nbformat": 4,
 "nbformat_minor": 5
}
