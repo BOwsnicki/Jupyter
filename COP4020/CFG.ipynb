{
 "cells": [
  {
   "cell_type": "code",
   "execution_count": 1,
   "id": "89a2b72d",
   "metadata": {},
   "outputs": [],
   "source": [
    "class Rule:\n",
    "    def __init__(self,lhs,rhs):\n",
    "        self.lhs = lhs\n",
    "        self.rhs = rhs\n",
    "    \n",
    "    def __str__(self):\n",
    "        return self.lhs + ' --> ' + self.rhs\n",
    "\n",
    "    def __repr__(self):\n",
    "        return self.__str__()"
   ]
  },
  {
   "cell_type": "code",
   "execution_count": 40,
   "id": "7b334c24",
   "metadata": {},
   "outputs": [],
   "source": [
    "class CFG:\n",
    "    epsilon = '&'\n",
    "\n",
    "    # Typical functional style: filter out all rules from \"ruleSet\" with \"symbol\" on the LHS\n",
    "    @classmethod\n",
    "    def select(cls,ruleSet,symbol):\n",
    "        return filter(lambda rule: rule.lhs == symbol, ruleSet)\n",
    "    \n",
    "    def __init__(self, start, rules):\n",
    "        self.start = start\n",
    "        self.rules = rules\n",
    "    \n",
    "    def addRule(self, rule):\n",
    "        self.rules.append(rule)\n",
    "    \n",
    "    def FIRST(self,symbol) :\n",
    "        print('FIRST:',symbol)\n",
    "        if symbol.islower() : return { symbol }\n",
    "        collected = set()\n",
    "        rules = CFG.select(self.rules,symbol)   # loop through all rules\n",
    "        for rule in rules :\n",
    "            print(rule)\n",
    "            if rule.rhs == CFG.epsilon :\n",
    "                collected.add(CFG.epsilon)\n",
    "            else :\n",
    "                index = 0\n",
    "                transparent = True # Meaning, so far every RHS symbol was transparent\n",
    "                while index < len(rule.rhs) and transparent : # Check every symbol\n",
    "                    y_i = rule.rhs[index]\n",
    "                    FIRST_y_i = self.FIRST(y_i)\n",
    "                    if CFG.epsilon not in FIRST_y_i : # Ok, first opaque symbol\n",
    "                        collected = collected.union(FIRST_y_i)\n",
    "                        transparent = False\n",
    "                    else :\n",
    "                        print(collected)\n",
    "                        collected = collected.union(FIRST_y_i).remove(CFG.epsilon)\n",
    "                if transparent : collected.add(epsilon)\n",
    "        return collected\n",
    "\n",
    "            "
   ]
  },
  {
   "cell_type": "code",
   "execution_count": 41,
   "id": "e8f71052",
   "metadata": {},
   "outputs": [
    {
     "name": "stdout",
     "output_type": "stream",
     "text": [
      "FIRST: S\n",
      "S --> aSb\n",
      "FIRST: a\n",
      "S --> XY\n",
      "FIRST: X\n",
      "X --> rst\n",
      "FIRST: r\n",
      "X --> &\n",
      "{'a'}\n",
      "FIRST: X\n",
      "X --> rst\n",
      "FIRST: r\n",
      "X --> &\n",
      "None\n"
     ]
    },
    {
     "ename": "AttributeError",
     "evalue": "'NoneType' object has no attribute 'union'",
     "output_type": "error",
     "traceback": [
      "\u001b[1;31m---------------------------------------------------------------------------\u001b[0m",
      "\u001b[1;31mAttributeError\u001b[0m                            Traceback (most recent call last)",
      "Input \u001b[1;32mIn [41]\u001b[0m, in \u001b[0;36m<module>\u001b[1;34m\u001b[0m\n\u001b[0;32m      5\u001b[0m cfg\u001b[38;5;241m.\u001b[39maddRule(Rule(\u001b[38;5;124m'\u001b[39m\u001b[38;5;124mX\u001b[39m\u001b[38;5;124m'\u001b[39m,CFG\u001b[38;5;241m.\u001b[39mepsilon))\n\u001b[0;32m      6\u001b[0m cfg\u001b[38;5;241m.\u001b[39maddRule(Rule(\u001b[38;5;124m'\u001b[39m\u001b[38;5;124mY\u001b[39m\u001b[38;5;124m'\u001b[39m,\u001b[38;5;124m'\u001b[39m\u001b[38;5;124mxXyzc\u001b[39m\u001b[38;5;124m'\u001b[39m))\n\u001b[1;32m----> 8\u001b[0m \u001b[38;5;28mprint\u001b[39m(\u001b[43mcfg\u001b[49m\u001b[38;5;241;43m.\u001b[39;49m\u001b[43mFIRST\u001b[49m\u001b[43m(\u001b[49m\u001b[38;5;124;43m'\u001b[39;49m\u001b[38;5;124;43mS\u001b[39;49m\u001b[38;5;124;43m'\u001b[39;49m\u001b[43m)\u001b[49m)\n",
      "Input \u001b[1;32mIn [40]\u001b[0m, in \u001b[0;36mCFG.FIRST\u001b[1;34m(self, symbol)\u001b[0m\n\u001b[0;32m     34\u001b[0m             \u001b[38;5;28;01melse\u001b[39;00m :\n\u001b[0;32m     35\u001b[0m                 \u001b[38;5;28mprint\u001b[39m(collected)\n\u001b[1;32m---> 36\u001b[0m                 collected \u001b[38;5;241m=\u001b[39m \u001b[43mcollected\u001b[49m\u001b[38;5;241;43m.\u001b[39;49m\u001b[43munion\u001b[49m(FIRST_y_i)\u001b[38;5;241m.\u001b[39mremove(CFG\u001b[38;5;241m.\u001b[39mepsilon)\n\u001b[0;32m     37\u001b[0m         \u001b[38;5;28;01mif\u001b[39;00m transparent : collected\u001b[38;5;241m.\u001b[39madd(epsilon)\n\u001b[0;32m     38\u001b[0m \u001b[38;5;28;01mreturn\u001b[39;00m collected\n",
      "\u001b[1;31mAttributeError\u001b[0m: 'NoneType' object has no attribute 'union'"
     ]
    }
   ],
   "source": [
    "cfg = CFG('S',[])\n",
    "cfg.addRule(Rule('S','aSb'))\n",
    "cfg.addRule(Rule('S','XY'))\n",
    "cfg.addRule(Rule('X','rst'))\n",
    "cfg.addRule(Rule('X',CFG.epsilon))\n",
    "cfg.addRule(Rule('Y','xXyzc'))\n",
    "\n",
    "print(cfg.FIRST('S'))"
   ]
  },
  {
   "cell_type": "code",
   "execution_count": 9,
   "id": "b8af786a",
   "metadata": {},
   "outputs": [
    {
     "name": "stdout",
     "output_type": "stream",
     "text": [
      "bScS\n",
      "cS\n",
      "\n"
     ]
    }
   ],
   "source": [
    "s = 'aSbScS'\n",
    "start = 0\n",
    "n = s.find('S',start)\n",
    "while n != -1 :\n",
    "    start = n + 1\n",
    "    print(s[start:])\n",
    "    n = s.find('S',start)\n"
   ]
  }
 ],
 "metadata": {
  "kernelspec": {
   "display_name": "Python 3.10.7 64-bit (microsoft store)",
   "language": "python",
   "name": "python3"
  },
  "language_info": {
   "codemirror_mode": {
    "name": "ipython",
    "version": 3
   },
   "file_extension": ".py",
   "mimetype": "text/x-python",
   "name": "python",
   "nbconvert_exporter": "python",
   "pygments_lexer": "ipython3",
   "version": "3.10.7"
  },
  "vscode": {
   "interpreter": {
    "hash": "483d0508c63f8e7d3fe22dba7ad1a6b30596326ab869c10395fb370a9ba5a797"
   }
  }
 },
 "nbformat": 4,
 "nbformat_minor": 5
}
