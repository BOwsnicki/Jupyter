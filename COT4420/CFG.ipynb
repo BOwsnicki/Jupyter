{
 "cells": [
  {
   "cell_type": "markdown",
   "id": "eff4bddc",
   "metadata": {},
   "source": [
    "### Simple recursive substitution parser for CFGs\n",
    "  \n",
    "**Main theory:** \n",
    "1. Start with the target string and the start symbol of G as the first sentential form\n",
    "1. Find all substitution you can make\n",
    "1. Recursively feed the new sentential forms into the parser\n",
    "1. If the target string appears, return True\n",
    "  \n",
    "Now, that's not always (ever?) going to work, because the parser can get lost in an infinite derivation.  \n",
    "Of course, you can play against that with a clever sorting of the rules (recursive one last),\n",
    "but as soon as you have more than one recursive rule, you're obviously lost.  \n",
    "  \n",
    "So we're introducing a depth limiter for the parse that just cuts of longer branches and returns False. So, False means \"not with this depth\" - nothing more.\n"
   ]
  },
  {
   "cell_type": "markdown",
   "id": "471a8acf",
   "metadata": {},
   "source": [
    "**Simple Rule class: LHS and RHS, nothing more**"
   ]
  },
  {
   "cell_type": "code",
   "execution_count": 1,
   "id": "6482942b",
   "metadata": {},
   "outputs": [],
   "source": [
    "class Rule:\n",
    "    def __init__(self,lhs,rhs):\n",
    "        self.lhs = lhs\n",
    "        self.rhs = rhs\n",
    "    \n",
    "    def __str__(self):\n",
    "        return self.lhs + ' --> ' + self.rhs\n",
    "\n",
    "    def __repr__(self):\n",
    "        return self.__str__()"
   ]
  },
  {
   "cell_type": "markdown",
   "id": "d9ac64f2",
   "metadata": {},
   "source": [
    "### Little wrapper for Sentential Forms\n",
    "It just wraps the string but also  \n",
    "allows for computation of all derivations given a rule set"
   ]
  },
  {
   "cell_type": "code",
   "execution_count": 2,
   "id": "d2c0cbf7",
   "metadata": {},
   "outputs": [],
   "source": [
    "class SententialForm:\n",
    "    \n",
    "    # Typical functional style: filter out all rules from \"ruleSet\" with \"symbol\" on the LHS\n",
    "    @classmethod\n",
    "    def select(cls,ruleSet,symbol):\n",
    "        return filter(lambda rule: rule.lhs == symbol, ruleSet)\n",
    "    \n",
    "    def __init__(self, string):\n",
    "        self.string = string\n",
    "\n",
    "    def __str__(self):\n",
    "        return self.string\n",
    "    \n",
    "    # Just a combinatorial problem:\n",
    "    # 1. Check the string for non-terminals (always uppercase)\n",
    "    # 2. Find all rules with this non-terminal on the LHS\n",
    "    # 3. Produce the next sentential form bu substituting the LHS for the symbol\n",
    "    # 4. Collect everything and return it\n",
    "    def possibleDerivs(self, rules):\n",
    "        result = []\n",
    "        for i in range(len(self.string)): # Check every symbol\n",
    "            c = self.string[i]\n",
    "            if c.isupper():               # Uppercase --> non-terminal\n",
    "                # Check all rules with c on the LHS\n",
    "                for rule in SententialForm.select(rules,c):\n",
    "                    # The magic substitution step!\n",
    "                    newForm = self.string[:i] + rule.rhs + self.string[i+1:]\n",
    "                    result.append(SententialForm(newForm))\n",
    "        return result"
   ]
  },
  {
   "cell_type": "markdown",
   "id": "a390a69c",
   "metadata": {},
   "source": [
    "### Simple CFG class  \n",
    "Contains just the start symbol and a set of rules  \n",
    "Well, it also contains a recursive, brute force, depth first, left to right (DFS) parser  \n",
    "AND NOW even a BFS parser\n"
   ]
  },
  {
   "cell_type": "code",
   "execution_count": 3,
   "id": "8eae63de",
   "metadata": {},
   "outputs": [],
   "source": [
    "class CFG:\n",
    "    def __init__(self, start, rules):\n",
    "        self.start = start\n",
    "        self.rules = rules\n",
    "        self.queue = []\n",
    "    \n",
    "    def addRule(self, rule):\n",
    "        self.rules.append(rule)\n",
    "     \n",
    "    # The mighty parser Part 1: Depth First Search version\n",
    "    # Step 1: Wrap the start symbol into a Sentential Form and jump in\n",
    "    def parseDFS(self,string,maxDepth = 10):\n",
    "        return self.parseDFSAux(SententialForm(self.start),string,maxDepth)\n",
    "    \n",
    "    # That's the recursive workhorse\n",
    "    def parseDFSAux(self,current,string,maxDepth):\n",
    "        # Recursion base cases - trivial\n",
    "        if current.string == string: return True    # Got it!\n",
    "        if maxDepth == 0: return False              # Give up!\n",
    "        \n",
    "        # Here we go down. Compute all possible next steps\n",
    "        nextForms = current.possibleDerivs(self.rules)\n",
    "        \n",
    "        # For each check if there's a successful parse to the target string\n",
    "        for form in nextForms:\n",
    "            print(current.string,'==>',form)\n",
    "            # Ok. Did this work? If yes, break out with True and leave the recursion\n",
    "            if self.parseDFSAux(form,string,maxDepth-1): return True\n",
    "        \n",
    "        # Didn't find anything, so that's a blind alley\n",
    "        return False\n",
    "    \n",
    "    # The mighty parser Part 2: Breadth First Search version\n",
    "    # Step 1: Wrap the start symbol into a Sentential Form, initialize queue and jump in\n",
    "    def parseBFS(self,string):\n",
    "        self.queue = [SententialForm(self.start)]\n",
    "\n",
    "        # Anything left to check?\n",
    "        while self.queue:       \n",
    "            # Extract first (head) element from queue (dequeue)\n",
    "            current = self.queue.pop(0)\n",
    "            print(current)\n",
    "        \n",
    "            # Check for success\n",
    "            if current.string == string: return True    # Got it! Get outa here...\n",
    "        \n",
    "            # Compute all possible next steps and place them at end of queue (enqueue)\n",
    "            self.queue.extend(current.possibleDerivs(self.rules))\n",
    "        \n",
    "        # Didn't find anything, queue empty - think about this for a moment!\n",
    "        return False"
   ]
  },
  {
   "cell_type": "code",
   "execution_count": 6,
   "id": "54fc9782",
   "metadata": {},
   "outputs": [
    {
     "name": "stdout",
     "output_type": "stream",
     "text": [
      "[S --> aSb, S --> c]\n",
      "S ==> aSb\n",
      "aSb ==> aaSbb\n",
      "aaSbb ==> aaaSbbb\n",
      "aaaSbbb ==> aaaaSbbbb\n",
      "aaaaSbbbb ==> aaaaaSbbbbb\n",
      "aaaaaSbbbbb ==> aaaaaaSbbbbbb\n",
      "aaaaaaSbbbbbb ==> aaaaaaaSbbbbbbb\n",
      "aaaaaaaSbbbbbbb ==> aaaaaaaaSbbbbbbbb\n",
      "aaaaaaaSbbbbbbb ==> aaaaaaacbbbbbbb\n",
      "True\n",
      "S\n",
      "aSb\n",
      "c\n",
      "aaSbb\n",
      "acb\n",
      "aaaSbbb\n",
      "aacbb\n",
      "aaaaSbbbb\n",
      "aaacbbb\n",
      "aaaaaSbbbbb\n",
      "aaaacbbbb\n",
      "aaaaaaSbbbbbb\n",
      "aaaaacbbbbb\n",
      "aaaaaaaSbbbbbbb\n",
      "aaaaaacbbbbbb\n",
      "aaaaaaaaSbbbbbbbb\n",
      "aaaaaaacbbbbbbb\n"
     ]
    },
    {
     "data": {
      "text/plain": [
       "True"
      ]
     },
     "execution_count": 6,
     "metadata": {},
     "output_type": "execute_result"
    }
   ],
   "source": [
    "cfg = CFG('S',[])\n",
    "#cfg.addRule(Rule('S','aSa'))\n",
    "#cfg.addRule(Rule('S','bSb'))\n",
    "cfg.addRule(Rule('S','aSb'))\n",
    "cfg.addRule(Rule('S','c'))\n",
    "print(cfg.rules)\n",
    "print(cfg.parseDFS('aaaaaaacbbbbbbb',8))\n",
    "cfg.parseBFS('aaaaaaacbbbbbbb')\n",
    "#cfg.parseBFS('aabcbaa')"
   ]
  },
  {
   "cell_type": "code",
   "execution_count": null,
   "id": "41d112f9",
   "metadata": {},
   "outputs": [],
   "source": []
  }
 ],
 "metadata": {
  "kernelspec": {
   "display_name": "Python 3 (ipykernel)",
   "language": "python",
   "name": "python3"
  },
  "language_info": {
   "codemirror_mode": {
    "name": "ipython",
    "version": 3
   },
   "file_extension": ".py",
   "mimetype": "text/x-python",
   "name": "python",
   "nbconvert_exporter": "python",
   "pygments_lexer": "ipython3",
   "version": "3.10.0"
  }
 },
 "nbformat": 4,
 "nbformat_minor": 5
}
