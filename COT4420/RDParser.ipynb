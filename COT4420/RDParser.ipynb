{
 "cells": [
  {
   "cell_type": "markdown",
   "id": "64da259d",
   "metadata": {},
   "source": [
    "**Simple recursive descent parser for**  \n",
    "\n",
    "S $\\rightarrow$ aSa | bSb | c  \n",
    "\n",
    "Just recursively check which rule alternative to apply. It's easy because you can always tell by the symbol you're looking at:  \n",
    "'a': S $\\rightarrow$ aSa  \n",
    "'b': S $\\rightarrow$ bSb  \n",
    "'c': S $\\rightarrow$ c\n",
    "\n",
    "The bad news is that that doesn't work of the last rule is replaced by S $\\rightarrow \\varepsilon$, because you see an 'a' or a 'b' this case and you don't know how to continue"
   ]
  },
  {
   "cell_type": "code",
   "execution_count": 1,
   "id": "1910f773",
   "metadata": {},
   "outputs": [],
   "source": [
    "class RecursiveParser :\n",
    "    def __init__(self) :\n",
    "        self.position = 0       \n",
    "\n",
    "    def expect(self,c): \n",
    "        if self.source[self.position] == c: \n",
    "            self.position += 1    \n",
    "        else:\n",
    "            print(c,'expected at position',self.position)\n",
    "            \n",
    "    def S(self):\n",
    "        if self.source[self.position] == 'a': \n",
    "            print('S -> aSa')\n",
    "            self.position += 1\n",
    "            self.S()\n",
    "            self.expect('a')\n",
    "            return\n",
    "        if self.source[self.position] == 'b': \n",
    "            print('S -> bSb')\n",
    "            self.position += 1\n",
    "            self.S()\n",
    "            self.expect('b')\n",
    "            return\n",
    "        if self.source[self.position] == 'c': # And this is why you can't have an epsilon rule\n",
    "            print('S -> c')\n",
    "            self.position += 1\n",
    "            return\n",
    "        \n",
    "    def parse(self,source):\n",
    "        self.source = source + '#' # Poor man's eof\n",
    "        self.position = 0\n",
    "        self.S()\n",
    "        self.expect('#')"
   ]
  },
  {
   "cell_type": "code",
   "execution_count": 2,
   "id": "1ca378e0",
   "metadata": {},
   "outputs": [
    {
     "name": "stdout",
     "output_type": "stream",
     "text": [
      "S -> aSa\n",
      "S -> bSb\n",
      "S -> aSa\n",
      "S -> aSa\n",
      "S -> c\n"
     ]
    }
   ],
   "source": [
    "rp = RecursiveParser()\n",
    "rp.parse('abaacaaba')"
   ]
  }
 ],
 "metadata": {
  "kernelspec": {
   "display_name": "Python 3 (ipykernel)",
   "language": "python",
   "name": "python3"
  },
  "language_info": {
   "codemirror_mode": {
    "name": "ipython",
    "version": 3
   },
   "file_extension": ".py",
   "mimetype": "text/x-python",
   "name": "python",
   "nbconvert_exporter": "python",
   "pygments_lexer": "ipython3",
   "version": "3.10.0"
  }
 },
 "nbformat": 4,
 "nbformat_minor": 5
}
