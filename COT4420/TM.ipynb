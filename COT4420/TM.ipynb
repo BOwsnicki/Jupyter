{
 "cells": [
  {
   "cell_type": "code",
   "execution_count": null,
   "id": "a65ea433",
   "metadata": {},
   "outputs": [],
   "source": [
    "class DTM :\n",
    "        def __init__(self):\n",
    "\n",
    "            \n",
    "        def addTransition(self,inState,symbol,outState):\n",
    "        # The transition table is a dictionary:\n",
    "        #    State -> Transitions by symbol which are themselves dictionaries:\n",
    "        #             Symbol -> a tuple [target state, new symbol, L or R]\n",
    "        # Example: {'0': {'a': {'0'}, 'b': {'1', '0'}}, '1': {'a': {'2'}}, '2': {'a': {'2'}}}\n",
    "\n",
    "        # Almost got it right out of the box! Almost...\n",
    "        transitions = self.table.get(inState,None)\n",
    "        if transitions is None :                # no transitions out of inState so far\n",
    "            transitions = {}        \n",
    "            self.table[inState] = transitions   # store empty dictionary\n",
    "        targets = transitions.get(symbol,None)  \n",
    "        if targets is None :                    # no transition with this symbol yet\n",
    "            targets = set()\n",
    "            transitions[symbol] = targets       # store empty set\n",
    "        targets.add(outState)                   # add target state"
   ]
  }
 ],
 "metadata": {
  "kernelspec": {
   "display_name": "Python 3 (ipykernel)",
   "language": "python",
   "name": "python3"
  },
  "language_info": {
   "codemirror_mode": {
    "name": "ipython",
    "version": 3
   },
   "file_extension": ".py",
   "mimetype": "text/x-python",
   "name": "python",
   "nbconvert_exporter": "python",
   "pygments_lexer": "ipython3",
   "version": "3.10.0"
  }
 },
 "nbformat": 4,
 "nbformat_minor": 5
}
